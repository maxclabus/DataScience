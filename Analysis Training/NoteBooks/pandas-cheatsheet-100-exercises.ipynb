{
 "cells": [
  {
   "cell_type": "code",
   "execution_count": 1,
   "metadata": {
    "_cell_guid": "b1076dfc-b9ad-4769-8c92-a6c4dae69d19",
    "_uuid": "8f2839f25d086af736a60e9eeb907d3b93b6e0e5",
    "execution": {
     "iopub.execute_input": "2020-09-20T02:35:12.441604Z",
     "iopub.status.busy": "2020-09-20T02:35:12.440651Z",
     "iopub.status.idle": "2020-09-20T02:35:12.468625Z",
     "shell.execute_reply": "2020-09-20T02:35:12.468010Z"
    },
    "papermill": {
     "duration": 0.111737,
     "end_time": "2020-09-20T02:35:12.468732",
     "exception": false,
     "start_time": "2020-09-20T02:35:12.356995",
     "status": "completed"
    },
    "tags": []
   },
   "outputs": [
    {
     "name": "stdout",
     "output_type": "stream",
     "text": [
      "/kaggle/input/healthcare-analytics/sample_submmission.csv\n",
      "/kaggle/input/healthcare-analytics/test.csv\n",
      "/kaggle/input/healthcare-analytics/Train/Health_Camp_Detail.csv\n",
      "/kaggle/input/healthcare-analytics/Train/Patient_Profile.csv\n",
      "/kaggle/input/healthcare-analytics/Train/First_Health_Camp_Attended.csv\n",
      "/kaggle/input/healthcare-analytics/Train/Second_Health_Camp_Attended.csv\n",
      "/kaggle/input/healthcare-analytics/Train/Third_Health_Camp_Attended.csv\n",
      "/kaggle/input/healthcare-analytics/Train/Data_Dictionary.xlsx\n",
      "/kaggle/input/healthcare-analytics/Train/Train.csv\n",
      "/kaggle/input/healthcare-analytics/Train/test.csv\n",
      "/kaggle/input/arxiv/arxiv-metadata-oai-snapshot.json\n",
      "/kaggle/input/arxiv/test.txt\n",
      "/kaggle/input/datasets-for-pandas/abc2.csv\n",
      "/kaggle/input/datasets-for-pandas/uk-500.csv\n",
      "/kaggle/input/datasets-for-pandas/abc.csv\n",
      "/kaggle/input/datasets-for-pandas/data1.csv\n",
      "/kaggle/input/datasets-for-pandas/score.csv\n",
      "/kaggle/input/60k-stack-overflow-questions-with-quality-rate/data.csv\n",
      "/kaggle/input/netflix-shows/netflix_titles.csv\n",
      "/kaggle/input/consumer-complaints-financial-products/Consumer_Complaints.csv\n",
      "/kaggle/input/health-insurance-cross-sell-prediction/sample_submission.csv\n",
      "/kaggle/input/health-insurance-cross-sell-prediction/test.csv\n",
      "/kaggle/input/health-insurance-cross-sell-prediction/train.csv\n",
      "/kaggle/input/solar-power-generation-data/Plant_2_Generation_Data.csv\n",
      "/kaggle/input/solar-power-generation-data/Plant_2_Weather_Sensor_Data.csv\n",
      "/kaggle/input/solar-power-generation-data/Plant_1_Weather_Sensor_Data.csv\n",
      "/kaggle/input/solar-power-generation-data/Plant_1_Generation_Data.csv\n",
      "/kaggle/input/ipl-data-set/matches.csv\n",
      "/kaggle/input/ipl-data-set/most_runs_average_strikerate.csv\n",
      "/kaggle/input/ipl-data-set/Players.xlsx\n",
      "/kaggle/input/ipl-data-set/deliveries.csv\n",
      "/kaggle/input/ipl-data-set/teams.csv\n",
      "/kaggle/input/ipl-data-set/teamwise_home_and_away.csv\n",
      "/kaggle/input/age-gender-and-ethnicity-face-data-csv/age_gender.csv\n",
      "/kaggle/input/us-elections-dataset/2012_US_elect_county.csv\n",
      "/kaggle/input/us-elections-dataset/president-1976-2016.csv\n",
      "/kaggle/input/us-elections-dataset/us-2016-primary-results.csv\n",
      "/kaggle/input/us-elections-dataset/usa-2016-presidential-election-by-county.csv\n",
      "/kaggle/input/us-elections-dataset/1976-2018-senate.csv\n",
      "/kaggle/input/us-elections-dataset/1976-2018-house2.csv\n"
     ]
    }
   ],
   "source": [
    "# This Python 3 environment comes with many helpful analytics libraries installed\n",
    "# It is defined by the kaggle/python Docker image: https://github.com/kaggle/docker-python\n",
    "# For example, here's several helpful packages to load\n",
    "\n",
    "import numpy as np # linear algebra\n",
    "import pandas as pd # data processing, CSV file I/O (e.g. pd.read_csv)\n",
    "\n",
    "# Input data files are available in the read-only \"../input/\" directory\n",
    "# For example, running this (by clicking run or pressing Shift+Enter) will list all files under the input directory\n",
    "\n",
    "import os\n",
    "for dirname, _, filenames in os.walk('/kaggle/input'):\n",
    "    for filename in filenames:\n",
    "        print(os.path.join(dirname, filename))\n",
    "\n",
    "# You can write up to 5GB to the current directory (/kaggle/working/) that gets preserved as output when you create a version using \"Save & Run All\" \n",
    "# You can also write temporary files to /kaggle/temp/, but they won't be saved outside of the current session"
   ]
  },
  {
   "cell_type": "code",
   "execution_count": 2,
   "metadata": {
    "execution": {
     "iopub.execute_input": "2020-09-20T02:35:12.632389Z",
     "iopub.status.busy": "2020-09-20T02:35:12.631556Z",
     "iopub.status.idle": "2020-09-20T02:35:12.634465Z",
     "shell.execute_reply": "2020-09-20T02:35:12.633930Z"
    },
    "papermill": {
     "duration": 0.086452,
     "end_time": "2020-09-20T02:35:12.634562",
     "exception": false,
     "start_time": "2020-09-20T02:35:12.548110",
     "status": "completed"
    },
    "tags": []
   },
   "outputs": [],
   "source": [
    "import pandas\n",
    "import pandas as pd\n",
    "import numpy\n",
    "import numpy as np\n",
    "import random as rn\n",
    "import functools\n",
    "import re\n",
    "\n",
    "import warnings\n",
    "warnings.filterwarnings('ignore')"
   ]
  },
  {
   "cell_type": "markdown",
   "metadata": {
    "_cell_guid": "79c7e3d0-c299-4dcb-8224-4455121ee9b0",
    "_uuid": "d629ff2d2480ee46fbb7e2d37f6b5fab8052498a",
    "collapsed": true,
    "papermill": {
     "duration": 0.078271,
     "end_time": "2020-09-20T02:35:12.792034",
     "exception": false,
     "start_time": "2020-09-20T02:35:12.713763",
     "status": "completed"
    },
    "tags": []
   },
   "source": [
    "\n",
    "<a id=\"top\"></a>\n",
    "\n",
    "<div class=\"list-group\" id=\"list-tab\" role=\"tablist\">\n",
    "\n",
    "<font color=\"teal\" size=+1><b>Content List</b></font>\n",
    "    \n",
    "* [1. Check Pandas Version](#1)\n",
    "* [2. Create Numpy Array: Create three columns with Zero values](#2)\n",
    "* [3. iLoc in Pandas : Print first five rows](#3)\n",
    "* [4. Create Random integer between 2 to 10 with 4 items](#4)\n",
    "* [5. Create Random integer between 0 to 100](#5)\n",
    "* [6. Create Random integer between 2 to 10 with 4 columns](#6)\n",
    "* [7. 2D array with random between 0 and 5](#7)\n",
    "* [8. Create Random integer between 0 to 100 with 10 itmes (2 rows, 5 columns)](#8)\n",
    "* [9. 3 rows, 2 columns in pandas](#9)\n",
    "* [10. Fill Random Science and Math Marks](#10)\n",
    "* [11. CSV to DatRaframe (from_csv)](#11)\n",
    "* [12. CSV to Dataframe (from_csv)](#12)\n",
    "* [13. First 4 rows and 2 columns of CSV](#13)\n",
    "* [14. Show even rows and first three columns](#14)\n",
    "* [15. New columns as sum of all](#15)\n",
    "* [16. Delete Rows of one column where the value is less than 50](#16)\n",
    "* [17. Delete with Query](#17)\n",
    "* [18. Skip single row](#18)\n",
    "* [19. Skip multiple rows](#19)\n",
    "* [20. Select Column by Index](#20)\n",
    "* [21. Skip rows](#21)\n",
    "* [22. String to Dataframe](#22)\n",
    "* [23. New columns as max of other columns](#23)\n",
    "* [24. New columns as max of other columns](#24)\n",
    "* [25. New columns as max of other columns](#25)\n",
    "* [26. Fill with average](#26)\n",
    "* [27. New columns as sum of all](#27)\n",
    "* [28. Unicode issue and fix](#28)\n",
    "* [29. Fill with average](#29)\n",
    "* [30. Last 4 rows](#30)\n",
    "* [31. Expanding Apply](#31)\n",
    "* [32. Get 3 and 4th row](#32)\n",
    "* [33. Last 4th to 1st](#33)\n",
    "* [34. iloc position slice](#34)\n",
    "* [35. Loc - iloc - ix - at - iat](#35)\n",
    "* [36. Random data](#36)\n",
    "* [37. Filter with the value comparison](#37)\n",
    "* [38. Filter between 5 and 10 on col 1](#38)\n",
    "* [39. Filter between 15 to 20](#39)\n",
    "* [40. Filter between 15 to 33](#40)\n",
    "* [41. Custom method and xrnage on dataframe](#41)\n",
    "* [42. Set index with date column](#42)\n",
    "* [43. Change columns based on other columns](#43)\n",
    "* [44. Change multiple columns based on one column values](#44)\n",
    "* [45. Pandas Mask](#45)\n",
    "* [46. Check high or low comparing the column against 5](#46)\n",
    "* [47. Student Marks (Pass or Fail)](#47)\n",
    "* [48. Get passed grades](#48)\n",
    "* [49. Students passed in Language and Math](#49)\n",
    "* [50. Students passed in Language and Science](#50)\n",
    "* [51. Loc with Label oriented slicing](#51)\n",
    "* [52. iloc with positional slicing](#52)\n",
    "* [53. Label between numbers](#53)\n",
    "* [54. Stars with names](#54)\n",
    "* [55. Row label selection Age is above 25 and movies above 25](#55)\n",
    "* [56. Stars in in certain ages](#56)\n",
    "* [57. Inverse opeartor !( above one.45 and below two.50 )](#57)\n",
    "* [58. Apply custom function](#58)\n",
    "* [59. Group by single column](#59)\n",
    "* [60. Creating new Columns using Applymap Sides & applymap](#60)\n",
    "* [61. Replacing some values with mean of the rest of a group](#61)\n",
    "* [62. Students passed in Language or Science (any one subject)](#62)\n",
    "* [63. possible errors: TypeError: 'Series' objects are mutable, thus they cannot be hashed](#63)\n",
    "* [64. argsort Select rows with data closest to certain value using argsort](#64)\n",
    "* [65. argsort with stars](#65)\n",
    "* [66. Argsort with actors - young stars (near by 17)](#66)\n",
    "* [67. Binary operators - Stars with - younger than 19 - very young](#67)\n",
    "* [68. Young, Higher Salary, and Higher Position](#68)\n",
    "* [69. Rename columns](#69)\n",
    "* [70. Add a new column](#70)\n",
    "* [71. Drop a column](#71)\n",
    "* [72. Drop multiple columns](#72)\n",
    "* [73. Drop first and last column](#73)\n",
    "* [74. Delete by pop function](#74)\n",
    "* [75. DataFrame.from_items](#75)\n",
    "* [76. Pandas to list](#76)\n",
    "* [77. Pandas rows to list](#77)\n",
    "* [78. Pandas rows to array](#78)\n",
    "* [79. Pandas rows to map](#79)\n",
    "* [80. Pandas rows to map](#80)\n",
    "* [81. Drop duplicates](#81)\n",
    "* [82. Selecting multiple columns](#82)\n",
    "* [83. Selecting multiple columns](#83)\n",
    "* [84. Row and Column Slicing](#84)\n",
    "* [85. Iterating rows](#85)\n",
    "* [86. Iterating tuples](#86)\n",
    "* [87. Iterating rows and columns](#87)\n",
    "* [88. List of Dictionary to Dataframe](#88)\n",
    "* [89. Is Null](#89)\n",
    "* [90. Sum of all nan](#90)\n",
    "* [91. Sum of all nan rowwise](#91)\n",
    "* [92. Sum of all nan as list](#92)\n",
    "* [93. Change the order of columns](#93)\n",
    "* [94. Drop multiple rows](#94)\n",
    "* [95. Drop multiple rows by row name](#95)\n",
    "* [96. Get group](#96)\n",
    "* [97. Get the the odd row](#97)\n",
    "* [98. Get the even columns](#98)\n",
    "* [99. Odd rows and even columns](#99)\n",
    "* [100. Drop duplicates](#100)\n",
    "* [101. Drop all duplicates](#101)\n",
    "* [102. Basic group by](#102)\n",
    "* [103. Missing Data: Make A'th 3rd coulmn Nan](#103)\n",
    "* [104. Reindex](#104)   \n",
    "* [104. Column reset Nan](#105)       "
   ]
  },
  {
   "cell_type": "code",
   "execution_count": 3,
   "metadata": {
    "execution": {
     "iopub.execute_input": "2020-09-20T02:35:12.956110Z",
     "iopub.status.busy": "2020-09-20T02:35:12.955232Z",
     "iopub.status.idle": "2020-09-20T02:35:12.958630Z",
     "shell.execute_reply": "2020-09-20T02:35:12.958102Z"
    },
    "papermill": {
     "duration": 0.087669,
     "end_time": "2020-09-20T02:35:12.958734",
     "exception": false,
     "start_time": "2020-09-20T02:35:12.871065",
     "status": "completed"
    },
    "tags": []
   },
   "outputs": [],
   "source": [
    "import pandas\n",
    "import pandas as pd\n",
    "import numpy\n",
    "import numpy as np\n",
    "import random as rn\n",
    "import functools\n",
    "import re"
   ]
  },
  {
   "cell_type": "markdown",
   "metadata": {
    "papermill": {
     "duration": 0.079324,
     "end_time": "2020-09-20T02:35:13.118773",
     "exception": false,
     "start_time": "2020-09-20T02:35:13.039449",
     "status": "completed"
    },
    "tags": []
   },
   "source": [
    "\n",
    "\n"
   ]
  },
  {
   "cell_type": "markdown",
   "metadata": {
    "papermill": {
     "duration": 0.080334,
     "end_time": "2020-09-20T02:35:13.279113",
     "exception": false,
     "start_time": "2020-09-20T02:35:13.198779",
     "status": "completed"
    },
    "tags": []
   },
   "source": [
    "<div style=\"\">\n",
    "    <div style=\"float: left; width: 80%;\">\n",
    "        <a id=\"1\"></a>\n",
    "        <font><b>Task 1:</b></font>\n",
    "        <br><br>\n",
    "        Check Pandas Version\n",
    "    </div>\n",
    "    <div style=\"float: right;\">\n",
    "        <a href=\"#top\" class=\"btn btn-primary btn-sm\" role=\"button\" aria-pressed=\"true\" style=\"color:white\" data-toggle=\"popover\" title=\"go to Top\">Go to Top</a>\n",
    "    </div>\n",
    "    <br style=\"clear: left;\" />\n",
    "</div>"
   ]
  },
  {
   "cell_type": "code",
   "execution_count": 4,
   "metadata": {
    "execution": {
     "iopub.execute_input": "2020-09-20T02:35:13.444186Z",
     "iopub.status.busy": "2020-09-20T02:35:13.443588Z",
     "iopub.status.idle": "2020-09-20T02:35:13.447105Z",
     "shell.execute_reply": "2020-09-20T02:35:13.446701Z"
    },
    "papermill": {
     "duration": 0.086751,
     "end_time": "2020-09-20T02:35:13.447205",
     "exception": false,
     "start_time": "2020-09-20T02:35:13.360454",
     "status": "completed"
    },
    "tags": []
   },
   "outputs": [
    {
     "name": "stdout",
     "output_type": "stream",
     "text": [
      "Task 1:\n",
      "1.1.1\n"
     ]
    }
   ],
   "source": [
    "print('Task 1:')  \n",
    "print(pd.__version__)"
   ]
  },
  {
   "cell_type": "markdown",
   "metadata": {
    "papermill": {
     "duration": 0.079059,
     "end_time": "2020-09-20T02:35:13.605619",
     "exception": false,
     "start_time": "2020-09-20T02:35:13.526560",
     "status": "completed"
    },
    "tags": []
   },
   "source": [
    "<div style=\"\">\n",
    "    <div style=\"float: left; width: 80%;\">\n",
    "        <a id=\"2\"></a>\n",
    "        <font><b>Task 2:</b></font>\n",
    "        <br><br>\n",
    "        Create Numpy Array\n",
    "        <br>\n",
    "        Create three columns with Zero values\n",
    "    </div>\n",
    "    <div style=\"float: right;\">\n",
    "        <a href=\"#top\" class=\"btn btn-primary btn-sm\" role=\"button\" aria-pressed=\"true\" style=\"color:white\" data-toggle=\"popover\" title=\"go to Top\">Go to Top</a>\n",
    "    </div>\n",
    "    <br style=\"clear: left;\" />\n",
    "</div>"
   ]
  },
  {
   "cell_type": "code",
   "execution_count": 5,
   "metadata": {
    "execution": {
     "iopub.execute_input": "2020-09-20T02:35:13.775301Z",
     "iopub.status.busy": "2020-09-20T02:35:13.774737Z",
     "iopub.status.idle": "2020-09-20T02:35:13.789136Z",
     "shell.execute_reply": "2020-09-20T02:35:13.788712Z"
    },
    "papermill": {
     "duration": 0.104629,
     "end_time": "2020-09-20T02:35:13.789237",
     "exception": false,
     "start_time": "2020-09-20T02:35:13.684608",
     "status": "completed"
    },
    "tags": []
   },
   "outputs": [
    {
     "name": "stdout",
     "output_type": "stream",
     "text": [
      "Task 2:\n",
      "       Col1  Col2  Col3\n",
      "Row1      0   0.0   0.0\n",
      "Row2      0   0.0   0.0\n",
      "Row3      0   0.0   0.0\n",
      "Row4      0   0.0   0.0\n",
      "Row5      0   0.0   0.0\n",
      "Row6      0   0.0   0.0\n",
      "Row7      0   0.0   0.0\n",
      "Row8      0   0.0   0.0\n",
      "Row9      0   0.0   0.0\n",
      "Row10     0   0.0   0.0\n",
      "Row11     0   0.0   0.0\n",
      "Row12     0   0.0   0.0\n",
      "Row13     0   0.0   0.0\n",
      "Row14     0   0.0   0.0\n",
      "Row15     0   0.0   0.0\n",
      "Row16     0   0.0   0.0\n",
      "Row17     0   0.0   0.0\n",
      "Row18     0   0.0   0.0\n",
      "Row19     0   0.0   0.0\n",
      "Row20     0   0.0   0.0\n",
      "    Col1  Col2  Col3\n",
      "0      0   0.0   0.0\n",
      "1      0   0.0   0.0\n",
      "2      0   0.0   0.0\n",
      "3      0   0.0   0.0\n",
      "4      0   0.0   0.0\n",
      "5      0   0.0   0.0\n",
      "6      0   0.0   0.0\n",
      "7      0   0.0   0.0\n",
      "8      0   0.0   0.0\n",
      "9      0   0.0   0.0\n",
      "10     0   0.0   0.0\n",
      "11     0   0.0   0.0\n",
      "12     0   0.0   0.0\n",
      "13     0   0.0   0.0\n",
      "14     0   0.0   0.0\n",
      "15     0   0.0   0.0\n",
      "16     0   0.0   0.0\n",
      "17     0   0.0   0.0\n",
      "18     0   0.0   0.0\n",
      "19     0   0.0   0.0\n"
     ]
    }
   ],
   "source": [
    "print('Task 2:')\n",
    "dtype = [('Col1','int32'), ('Col2','float32'), ('Col3','float32')]\n",
    "values = numpy.zeros(20, dtype=dtype)\n",
    "index = ['Row'+str(i) for i in range(1, len(values)+1)]\n",
    "\n",
    "df = pandas.DataFrame(values, index=index)\n",
    "print(df)\n",
    "\n",
    "df = pandas.DataFrame(values)\n",
    "print(df)"
   ]
  },
  {
   "cell_type": "markdown",
   "metadata": {
    "papermill": {
     "duration": 0.080388,
     "end_time": "2020-09-20T02:35:13.949504",
     "exception": false,
     "start_time": "2020-09-20T02:35:13.869116",
     "status": "completed"
    },
    "tags": []
   },
   "source": [
    "<div style=\"\">\n",
    "    <div style=\"float: left; width: 80%;\">\n",
    "        <a id=\"3\"></a>\n",
    "        <font><b>Task 3:</b></font>\n",
    "        <br><br>\n",
    "        iLoc in Pandas\n",
    "        <br>\n",
    "        Print first five rows\n",
    "    </div>\n",
    "    <div style=\"float: right;\">\n",
    "        <a href=\"#top\" class=\"btn btn-primary btn-sm\" role=\"button\" aria-pressed=\"true\" style=\"color:white\" data-toggle=\"popover\" title=\"go to Top\">Go to Top</a>\n",
    "    </div>\n",
    "    <br style=\"clear: left;\" />\n",
    "</div>"
   ]
  },
  {
   "cell_type": "code",
   "execution_count": 6,
   "metadata": {
    "execution": {
     "iopub.execute_input": "2020-09-20T02:35:14.150328Z",
     "iopub.status.busy": "2020-09-20T02:35:14.149492Z",
     "iopub.status.idle": "2020-09-20T02:35:14.159801Z",
     "shell.execute_reply": "2020-09-20T02:35:14.159274Z"
    },
    "papermill": {
     "duration": 0.131092,
     "end_time": "2020-09-20T02:35:14.159901",
     "exception": false,
     "start_time": "2020-09-20T02:35:14.028809",
     "status": "completed"
    },
    "tags": []
   },
   "outputs": [
    {
     "name": "stdout",
     "output_type": "stream",
     "text": [
      "Task 3:\n",
      "                       0\n",
      "0  capacity,score,length\n",
      "1                1,10,30\n",
      "2                2,20,30\n",
      "3                3,30,40\n"
     ]
    }
   ],
   "source": [
    "print('Task 3:')\n",
    "df = pandas.read_csv('../input/datasets-for-pandas/data1.csv', sep=';', header=None)\n",
    "print(df.iloc[:4]) # 0 - 4 = 5 values"
   ]
  },
  {
   "cell_type": "markdown",
   "metadata": {
    "papermill": {
     "duration": 0.078331,
     "end_time": "2020-09-20T02:35:14.316785",
     "exception": false,
     "start_time": "2020-09-20T02:35:14.238454",
     "status": "completed"
    },
    "tags": []
   },
   "source": [
    "<div style=\"\">\n",
    "    <div style=\"float: left; width: 80%;\">\n",
    "        <a id=\"4\"></a>\n",
    "        <font><b>Task 4:</b></font>\n",
    "        <br><br>\n",
    "        Create Random integer between 2 to 10 with 4 items\n",
    "    </div>\n",
    "    <div style=\"float: right;\">\n",
    "        <a href=\"#top\" class=\"btn btn-primary btn-sm\" role=\"button\" aria-pressed=\"true\" style=\"color:white\" data-toggle=\"popover\" title=\"go to Top\">Go to Top</a>\n",
    "    </div>\n",
    "    <br style=\"clear: left;\" />\n",
    "</div> "
   ]
  },
  {
   "cell_type": "code",
   "execution_count": 7,
   "metadata": {
    "execution": {
     "iopub.execute_input": "2020-09-20T02:35:14.479902Z",
     "iopub.status.busy": "2020-09-20T02:35:14.479327Z",
     "iopub.status.idle": "2020-09-20T02:35:14.482217Z",
     "shell.execute_reply": "2020-09-20T02:35:14.482979Z"
    },
    "papermill": {
     "duration": 0.086821,
     "end_time": "2020-09-20T02:35:14.483139",
     "exception": false,
     "start_time": "2020-09-20T02:35:14.396318",
     "status": "completed"
    },
    "tags": []
   },
   "outputs": [
    {
     "name": "stdout",
     "output_type": "stream",
     "text": [
      "Task 4:\n",
      "[4 2 7 2]\n"
     ]
    }
   ],
   "source": [
    "print('Task 4:')\n",
    "values = np.random.randint(2, 10, size=4)\n",
    "print(values)"
   ]
  },
  {
   "cell_type": "markdown",
   "metadata": {
    "papermill": {
     "duration": 0.078969,
     "end_time": "2020-09-20T02:35:14.642765",
     "exception": false,
     "start_time": "2020-09-20T02:35:14.563796",
     "status": "completed"
    },
    "tags": []
   },
   "source": [
    "<div style=\"\">\n",
    "    <div style=\"float: left; width: 80%;\">\n",
    "        <a id=\"5\"></a>\n",
    "        <font><b>Task 5:</b></font>\n",
    "        <br><br>\n",
    "        Create Random integer between 0 to 100 \n",
    "    </div>\n",
    "    <div style=\"float: right;\">\n",
    "        <a href=\"#top\" class=\"btn btn-primary btn-sm\" role=\"button\" aria-pressed=\"true\" style=\"color:white\" data-toggle=\"popover\" title=\"go to Top\">Go to Top</a>\n",
    "    </div>\n",
    "    <br style=\"clear: left;\" />\n",
    "</div>\n"
   ]
  },
  {
   "cell_type": "code",
   "execution_count": 8,
   "metadata": {
    "execution": {
     "iopub.execute_input": "2020-09-20T02:35:14.806596Z",
     "iopub.status.busy": "2020-09-20T02:35:14.806058Z",
     "iopub.status.idle": "2020-09-20T02:35:14.814638Z",
     "shell.execute_reply": "2020-09-20T02:35:14.813952Z"
    },
    "papermill": {
     "duration": 0.092276,
     "end_time": "2020-09-20T02:35:14.814778",
     "exception": false,
     "start_time": "2020-09-20T02:35:14.722502",
     "status": "completed"
    },
    "tags": []
   },
   "outputs": [
    {
     "name": "stdout",
     "output_type": "stream",
     "text": [
      "Task 5:\n",
      "    x   y\n",
      "0  87   9\n",
      "1  88  72\n",
      "2  84  31\n"
     ]
    }
   ],
   "source": [
    "print('Task 5:')\n",
    "df = pd.DataFrame(np.random.randint(0, 100, size=(3, 2)), columns=list('xy'))\n",
    "print(df)"
   ]
  },
  {
   "cell_type": "markdown",
   "metadata": {
    "papermill": {
     "duration": 0.079982,
     "end_time": "2020-09-20T02:35:14.977618",
     "exception": false,
     "start_time": "2020-09-20T02:35:14.897636",
     "status": "completed"
    },
    "tags": []
   },
   "source": [
    "<div style=\"\">\n",
    "    <div style=\"float: left; width: 80%;\">\n",
    "        <a id=\"6\"></a>\n",
    "        <font><b>Task 6:</b></font>\n",
    "        <br><br>\n",
    "        Create Random integer between 2 to 10 with 4 columns\n",
    "    </div>\n",
    "    <div style=\"float: right;\">\n",
    "        <a href=\"#top\" class=\"btn btn-primary btn-sm\" role=\"button\" aria-pressed=\"true\" style=\"color:white\" data-toggle=\"popover\" title=\"go to Top\">Go to Top</a>\n",
    "    </div>\n",
    "    <br style=\"clear: left;\" />\n",
    "</div>"
   ]
  },
  {
   "cell_type": "code",
   "execution_count": 9,
   "metadata": {
    "execution": {
     "iopub.execute_input": "2020-09-20T02:35:15.144977Z",
     "iopub.status.busy": "2020-09-20T02:35:15.144188Z",
     "iopub.status.idle": "2020-09-20T02:35:15.148424Z",
     "shell.execute_reply": "2020-09-20T02:35:15.147586Z"
    },
    "papermill": {
     "duration": 0.091186,
     "end_time": "2020-09-20T02:35:15.148561",
     "exception": false,
     "start_time": "2020-09-20T02:35:15.057375",
     "status": "completed"
    },
    "tags": []
   },
   "outputs": [
    {
     "name": "stdout",
     "output_type": "stream",
     "text": [
      "Task 6:\n",
      "    A   B   C   D\n",
      "0  90  83  27  76\n",
      "1  71  69  83  99\n"
     ]
    }
   ],
   "source": [
    "print('Task 6:')\n",
    "df = pd.DataFrame(np.random.randint(0, 100, size=(2, 4)), columns=['A', 'B', 'C', 'D'])\n",
    "print(df)"
   ]
  },
  {
   "cell_type": "markdown",
   "metadata": {
    "papermill": {
     "duration": 0.079666,
     "end_time": "2020-09-20T02:35:15.310261",
     "exception": false,
     "start_time": "2020-09-20T02:35:15.230595",
     "status": "completed"
    },
    "tags": []
   },
   "source": [
    "<div style=\"\">\n",
    "    <div style=\"float: left; width: 80%;\">\n",
    "        <a id=\"7\"></a>\n",
    "        <font><b>Task 7:</b></font>\n",
    "        <br><br>\n",
    "        2D array with random between 0 and 5\n",
    "    </div>\n",
    "    <div style=\"float: right;\">\n",
    "        <a href=\"#top\" class=\"btn btn-primary btn-sm\" role=\"button\" aria-pressed=\"true\" style=\"color:white\" data-toggle=\"popover\" title=\"go to Top\">Go to Top</a>\n",
    "    </div>\n",
    "    <br style=\"clear: left;\" />\n",
    "</div>"
   ]
  },
  {
   "cell_type": "code",
   "execution_count": 10,
   "metadata": {
    "execution": {
     "iopub.execute_input": "2020-09-20T02:35:15.478130Z",
     "iopub.status.busy": "2020-09-20T02:35:15.477581Z",
     "iopub.status.idle": "2020-09-20T02:35:15.481166Z",
     "shell.execute_reply": "2020-09-20T02:35:15.480604Z"
    },
    "papermill": {
     "duration": 0.090159,
     "end_time": "2020-09-20T02:35:15.481260",
     "exception": false,
     "start_time": "2020-09-20T02:35:15.391101",
     "status": "completed"
    },
    "tags": []
   },
   "outputs": [
    {
     "name": "stdout",
     "output_type": "stream",
     "text": [
      "Task 7:\n",
      "[[2 0 1 0]\n",
      " [4 4 0 3]]\n",
      "<class 'numpy.ndarray'>\n"
     ]
    }
   ],
   "source": [
    "print('Task 7:')\n",
    "values = np.random.randint(5, size=(2, 4))\n",
    "print(values)\n",
    "print(type(values))"
   ]
  },
  {
   "cell_type": "markdown",
   "metadata": {
    "papermill": {
     "duration": 0.082679,
     "end_time": "2020-09-20T02:35:15.645733",
     "exception": false,
     "start_time": "2020-09-20T02:35:15.563054",
     "status": "completed"
    },
    "tags": []
   },
   "source": [
    "<div style=\"\">\n",
    "    <div style=\"float: left; width: 80%;\">\n",
    "        <a id=\"8\"></a>\n",
    "        <font><b>Task 8:</b></font>\n",
    "        <br><br>\n",
    "        Create Random integer between 0 to 100 with 10 itmes (2 rows, 5 columns)\n",
    "    </div>\n",
    "    <div style=\"float: right;\">\n",
    "        <a href=\"#top\" class=\"btn btn-primary btn-sm\" role=\"button\" aria-pressed=\"true\" style=\"color:white\" data-toggle=\"popover\" title=\"go to Top\">Go to Top</a>\n",
    "    </div>\n",
    "    <br style=\"clear: left;\" />\n",
    "</div>"
   ]
  },
  {
   "cell_type": "code",
   "execution_count": 11,
   "metadata": {
    "execution": {
     "iopub.execute_input": "2020-09-20T02:35:15.821804Z",
     "iopub.status.busy": "2020-09-20T02:35:15.820956Z",
     "iopub.status.idle": "2020-09-20T02:35:15.824883Z",
     "shell.execute_reply": "2020-09-20T02:35:15.824087Z"
    },
    "papermill": {
     "duration": 0.093144,
     "end_time": "2020-09-20T02:35:15.825040",
     "exception": false,
     "start_time": "2020-09-20T02:35:15.731896",
     "status": "completed"
    },
    "tags": []
   },
   "outputs": [
    {
     "name": "stdout",
     "output_type": "stream",
     "text": [
      "Task 8:\n",
      "   Toronto  Ottawa  Calgary  Montreal  Quebec\n",
      "0       80      15       32        94      35\n",
      "1        7      25        9        13      11\n",
      "2       65      29       69         8      32\n"
     ]
    }
   ],
   "source": [
    "print('Task 8:')\n",
    "df = pd.DataFrame(np.random.randint(0, 100, size=(3, 5)), columns=['Toronto', 'Ottawa', 'Calgary', 'Montreal', 'Quebec'])\n",
    "print(df)"
   ]
  },
  {
   "cell_type": "markdown",
   "metadata": {
    "papermill": {
     "duration": 0.083817,
     "end_time": "2020-09-20T02:35:15.993926",
     "exception": false,
     "start_time": "2020-09-20T02:35:15.910109",
     "status": "completed"
    },
    "tags": []
   },
   "source": [
    "<div style=\"\">\n",
    "    <div style=\"float: left; width: 80%;\">\n",
    "        <a id=\"9\"></a>\n",
    "        <font><b>Task 9:</b></font>\n",
    "        <br><br>\n",
    "        3 rows, 2 columns in pandas\n",
    "        <br>\n",
    "        1st column = random between 10 to 20\n",
    "        <br>\n",
    "        2nd column = random between 80 and 90\n",
    "        <br>\n",
    "        3rd column = random between 40 and 50 \n",
    "    </div>\n",
    "    <div style=\"float: right;\">\n",
    "        <a href=\"#top\" class=\"btn btn-primary btn-sm\" role=\"button\" aria-pressed=\"true\" style=\"color:white\" data-toggle=\"popover\" title=\"go to Top\">Go to Top</a>\n",
    "    </div>\n",
    "    <br style=\"clear: left;\" />\n",
    "</div>"
   ]
  },
  {
   "cell_type": "code",
   "execution_count": 12,
   "metadata": {
    "execution": {
     "iopub.execute_input": "2020-09-20T02:35:16.171502Z",
     "iopub.status.busy": "2020-09-20T02:35:16.170627Z",
     "iopub.status.idle": "2020-09-20T02:35:16.174201Z",
     "shell.execute_reply": "2020-09-20T02:35:16.174632Z"
    },
    "papermill": {
     "duration": 0.09699,
     "end_time": "2020-09-20T02:35:16.174753",
     "exception": false,
     "start_time": "2020-09-20T02:35:16.077763",
     "status": "completed"
    },
    "tags": []
   },
   "outputs": [
    {
     "name": "stdout",
     "output_type": "stream",
     "text": [
      "Task 9:\n",
      "      One  Two\n",
      "Row1    0    0\n",
      "Row2    0    0\n",
      "Row3    0    0\n"
     ]
    }
   ],
   "source": [
    "print('Task 9:')  \n",
    "dtype = [('One','int32'), ('Two','int32')]\n",
    "values = np.zeros(3, dtype=dtype)\n",
    "index = ['Row'+str(i) for i in range(1, 4)]\n",
    "\n",
    "df = pandas.DataFrame(values, index=index)\n",
    "print(df)"
   ]
  },
  {
   "cell_type": "markdown",
   "metadata": {
    "papermill": {
     "duration": 0.08122,
     "end_time": "2020-09-20T02:35:16.337912",
     "exception": false,
     "start_time": "2020-09-20T02:35:16.256692",
     "status": "completed"
    },
    "tags": []
   },
   "source": [
    "<div style=\"\">\n",
    "    <div style=\"float: left; width: 80%;\">\n",
    "        <a id=\"10\"></a>\n",
    "        <font><b>Task 10:</b></font>\n",
    "        <br><br>\n",
    "        Fill Random Science and Math Marks\n",
    "        <br><br>\n",
    "        (has some bugs in it)\n",
    "    </div>\n",
    "    <div style=\"float: right;\">\n",
    "        <a href=\"#top\" class=\"btn btn-primary btn-sm\" role=\"button\" aria-pressed=\"true\" style=\"color:white\" data-toggle=\"popover\" title=\"go to Top\">Go to Top</a>\n",
    "    </div>\n",
    "    <br style=\"clear: left;\" />\n",
    "</div>\n"
   ]
  },
  {
   "cell_type": "code",
   "execution_count": 13,
   "metadata": {
    "execution": {
     "iopub.execute_input": "2020-09-20T02:35:16.510275Z",
     "iopub.status.busy": "2020-09-20T02:35:16.509732Z",
     "iopub.status.idle": "2020-09-20T02:35:16.513273Z",
     "shell.execute_reply": "2020-09-20T02:35:16.512855Z"
    },
    "papermill": {
     "duration": 0.093482,
     "end_time": "2020-09-20T02:35:16.513395",
     "exception": false,
     "start_time": "2020-09-20T02:35:16.419913",
     "status": "completed"
    },
    "tags": []
   },
   "outputs": [
    {
     "name": "stdout",
     "output_type": "stream",
     "text": [
      "Task 10:\n",
      "      Science  Maths\n",
      "Row1        0      0\n",
      "Row2        0      0\n",
      "Row3        0      0\n"
     ]
    }
   ],
   "source": [
    "print('Task 10:')  \n",
    "dtype = [('Science','int32'), ('Maths','int32')]\n",
    "values = np.zeros(3, dtype=dtype)\n",
    "\n",
    "#print(type(dtype))\n",
    "#values = np.random.randint(5, size=(3, 2))\n",
    "#print(values)\n",
    "#index = ['Row'+str(i) for i in range(1, 4)]\n",
    "\n",
    "df = pandas.DataFrame(values, index=index)\n",
    "print(df)"
   ]
  },
  {
   "cell_type": "markdown",
   "metadata": {
    "papermill": {
     "duration": 0.082933,
     "end_time": "2020-09-20T02:35:16.679034",
     "exception": false,
     "start_time": "2020-09-20T02:35:16.596101",
     "status": "completed"
    },
    "tags": []
   },
   "source": [
    "<div style=\"\">\n",
    "    <div style=\"float: left; width: 80%;\">\n",
    "        <a id=\"11\"></a>\n",
    "        <font><b>Task 11:</b></font>\n",
    "        <br><br>\n",
    "        CSV to DatRaframe (from_csv)\n",
    "        <br>\n",
    "        Note: from_csv is Deprecated since version 0.21.0: Use pandas.read_csv() instead.\n",
    "    </div>\n",
    "    <div style=\"float: right;\">\n",
    "        <a href=\"#top\" class=\"btn btn-primary btn-sm\" role=\"button\" aria-pressed=\"true\" style=\"color:white\" data-toggle=\"popover\" title=\"go to Top\">Go to Top</a>\n",
    "    </div>\n",
    "    <br style=\"clear: left;\" />\n",
    "</div>"
   ]
  },
  {
   "cell_type": "code",
   "execution_count": 14,
   "metadata": {
    "execution": {
     "iopub.execute_input": "2020-09-20T02:35:16.853938Z",
     "iopub.status.busy": "2020-09-20T02:35:16.853380Z",
     "iopub.status.idle": "2020-09-20T02:35:16.869588Z",
     "shell.execute_reply": "2020-09-20T02:35:16.869001Z"
    },
    "papermill": {
     "duration": 0.105615,
     "end_time": "2020-09-20T02:35:16.869696",
     "exception": false,
     "start_time": "2020-09-20T02:35:16.764081",
     "status": "completed"
    },
    "tags": []
   },
   "outputs": [
    {
     "name": "stdout",
     "output_type": "stream",
     "text": [
      "Task 11:\n",
      "  first_name   last_name             company_name            address  \\\n",
      "0    Aleshia  Tomkiewicz  Alan D Rosenburg Cpa Pc       14 Taylor St   \n",
      "1       Evan   Zigomalas       Cap Gemini America        5 Binney St   \n",
      "2     France     Andrade      Elliott, John W Esq       8 Moor Place   \n",
      "3    Ulysses   Mcwalters           Mcmahan, Ben L      505 Exeter Rd   \n",
      "4     Tyisha      Veness           Champagne Room  5396 Forth Street   \n",
      "\n",
      "                             city           county    postal        phone1  \\\n",
      "0               St. Stephens Ward             Kent   CT2 7PP  01835-703597   \n",
      "1                      Abbey Ward  Buckinghamshire  HP11 2AX  01937-864715   \n",
      "2  East Southbourne and Tuckton W      Bournemouth   BH6 3BE  01347-368222   \n",
      "3              Hawerby cum Beesby     Lincolnshire  DN36 5RP  01912-771311   \n",
      "4      Greets Green and Lyng Ward    West Midlands   B70 9DT  01547-429341   \n",
      "\n",
      "         phone2                       email  \\\n",
      "0  01944-369967     atomkiewicz@hotmail.com   \n",
      "1  01714-737668    evan.zigomalas@gmail.com   \n",
      "2  01935-821636  france.andrade@hotmail.com   \n",
      "3  01302-601380         ulysses@hotmail.com   \n",
      "4  01290-367248   tyisha.veness@hotmail.com   \n",
      "\n",
      "                                    web  \n",
      "0  http://www.alandrosenburgcpapc.co.uk  \n",
      "1     http://www.capgeminiamerica.co.uk  \n",
      "2      http://www.elliottjohnwesq.co.uk  \n",
      "3          http://www.mcmahanbenl.co.uk  \n",
      "4        http://www.champagneroom.co.uk  \n"
     ]
    }
   ],
   "source": [
    "print('Task 11:')  \n",
    "\n",
    "csv = pd.read_csv('../input/datasets-for-pandas/uk-500.csv')\n",
    "print(csv.head())"
   ]
  },
  {
   "cell_type": "markdown",
   "metadata": {
    "papermill": {
     "duration": 0.083172,
     "end_time": "2020-09-20T02:35:17.037227",
     "exception": false,
     "start_time": "2020-09-20T02:35:16.954055",
     "status": "completed"
    },
    "tags": []
   },
   "source": [
    "<div style=\"\">\n",
    "    <div style=\"float: left; width: 80%;\">\n",
    "        <a id=\"12\"></a>\n",
    "        <font><b>Task 12:</b></font>\n",
    "        <br><br>\n",
    "        CSV to Dataframe (from_csv\n",
    "    </div>\n",
    "    <div style=\"float: right;\">\n",
    "        <a href=\"#top\" class=\"btn btn-primary btn-sm\" role=\"button\" aria-pressed=\"true\" style=\"color:white\" data-toggle=\"popover\" title=\"go to Top\">Go to Top</a>\n",
    "    </div>\n",
    "    <br style=\"clear: left;\" />\n",
    "</div>"
   ]
  },
  {
   "cell_type": "code",
   "execution_count": 15,
   "metadata": {
    "execution": {
     "iopub.execute_input": "2020-09-20T02:35:17.208798Z",
     "iopub.status.busy": "2020-09-20T02:35:17.208252Z",
     "iopub.status.idle": "2020-09-20T02:35:17.223782Z",
     "shell.execute_reply": "2020-09-20T02:35:17.224222Z"
    },
    "papermill": {
     "duration": 0.101427,
     "end_time": "2020-09-20T02:35:17.224369",
     "exception": false,
     "start_time": "2020-09-20T02:35:17.122942",
     "status": "completed"
    },
    "tags": []
   },
   "outputs": [
    {
     "name": "stdout",
     "output_type": "stream",
     "text": [
      "Task 12:\n",
      "  first_name   last_name             company_name            address  \\\n",
      "0    Aleshia  Tomkiewicz  Alan D Rosenburg Cpa Pc       14 Taylor St   \n",
      "1       Evan   Zigomalas       Cap Gemini America        5 Binney St   \n",
      "2     France     Andrade      Elliott, John W Esq       8 Moor Place   \n",
      "3    Ulysses   Mcwalters           Mcmahan, Ben L      505 Exeter Rd   \n",
      "4     Tyisha      Veness           Champagne Room  5396 Forth Street   \n",
      "\n",
      "                             city           county    postal        phone1  \\\n",
      "0               St. Stephens Ward             Kent   CT2 7PP  01835-703597   \n",
      "1                      Abbey Ward  Buckinghamshire  HP11 2AX  01937-864715   \n",
      "2  East Southbourne and Tuckton W      Bournemouth   BH6 3BE  01347-368222   \n",
      "3              Hawerby cum Beesby     Lincolnshire  DN36 5RP  01912-771311   \n",
      "4      Greets Green and Lyng Ward    West Midlands   B70 9DT  01547-429341   \n",
      "\n",
      "         phone2                       email  \\\n",
      "0  01944-369967     atomkiewicz@hotmail.com   \n",
      "1  01714-737668    evan.zigomalas@gmail.com   \n",
      "2  01935-821636  france.andrade@hotmail.com   \n",
      "3  01302-601380         ulysses@hotmail.com   \n",
      "4  01290-367248   tyisha.veness@hotmail.com   \n",
      "\n",
      "                                    web  \n",
      "0  http://www.alandrosenburgcpapc.co.uk  \n",
      "1     http://www.capgeminiamerica.co.uk  \n",
      "2      http://www.elliottjohnwesq.co.uk  \n",
      "3          http://www.mcmahanbenl.co.uk  \n",
      "4        http://www.champagneroom.co.uk  \n"
     ]
    }
   ],
   "source": [
    "print('Task 12:')  \n",
    "#df = df.from_csv(path, header, sep, index_col, parse_dates, encoding, tupleize_cols, infer_datetime_format)\n",
    "df = pd.read_csv('../input/datasets-for-pandas/uk-500.csv')\n",
    "print(df.head())"
   ]
  },
  {
   "cell_type": "markdown",
   "metadata": {
    "papermill": {
     "duration": 0.086679,
     "end_time": "2020-09-20T02:35:17.398562",
     "exception": false,
     "start_time": "2020-09-20T02:35:17.311883",
     "status": "completed"
    },
    "tags": []
   },
   "source": [
    "<div style=\"\">\n",
    "    <div style=\"float: left; width: 80%;\">\n",
    "        <a id=\"13\"></a>\n",
    "        <font><b>Task 13:</b></font>\n",
    "        <br><br>\n",
    "        First 4 rows and 2 columns of CSV\n",
    "    </div>\n",
    "    <div style=\"float: right;\">\n",
    "        <a href=\"#top\" class=\"btn btn-primary btn-sm\" role=\"button\" aria-pressed=\"true\" style=\"color:white\" data-toggle=\"popover\" title=\"go to Top\">Go to Top</a>\n",
    "    </div>\n",
    "    <br style=\"clear: left;\" />\n",
    "</div>"
   ]
  },
  {
   "cell_type": "code",
   "execution_count": 16,
   "metadata": {
    "execution": {
     "iopub.execute_input": "2020-09-20T02:35:17.575695Z",
     "iopub.status.busy": "2020-09-20T02:35:17.575115Z",
     "iopub.status.idle": "2020-09-20T02:35:17.584663Z",
     "shell.execute_reply": "2020-09-20T02:35:17.585092Z"
    },
    "papermill": {
     "duration": 0.100803,
     "end_time": "2020-09-20T02:35:17.585220",
     "exception": false,
     "start_time": "2020-09-20T02:35:17.484417",
     "status": "completed"
    },
    "tags": []
   },
   "outputs": [
    {
     "name": "stdout",
     "output_type": "stream",
     "text": [
      "Task 13:\n",
      "(9, 3)\n",
      "   capacity  score\n",
      "0         1     10\n",
      "1         2     20\n",
      "2         3     30\n",
      "3         3     40\n"
     ]
    }
   ],
   "source": [
    "print('Task 13:') \n",
    "df = pandas.read_csv('../input/datasets-for-pandas/data1.csv', sep=',')\n",
    "print(df.shape) \n",
    "#print(df[2:14])\n",
    "print(df.iloc[0:4,0:2])\n",
    "#print(df[df.columns[0]])"
   ]
  },
  {
   "cell_type": "markdown",
   "metadata": {
    "papermill": {
     "duration": 0.082992,
     "end_time": "2020-09-20T02:35:17.751763",
     "exception": false,
     "start_time": "2020-09-20T02:35:17.668771",
     "status": "completed"
    },
    "tags": []
   },
   "source": [
    "<div style=\"\">\n",
    "    <div style=\"float: left; width: 80%;\">\n",
    "        <a id=\"14\"></a>\n",
    "        <font><b>Task 14:</b></font>\n",
    "        <br><br>\n",
    "        Show even rows and first three columns\n",
    "    </div>\n",
    "    <div style=\"float: right;\">\n",
    "        <a href=\"#top\" class=\"btn btn-primary btn-sm\" role=\"button\" aria-pressed=\"true\" style=\"color:white\" data-toggle=\"popover\" title=\"go to Top\">Go to Top</a>\n",
    "    </div>\n",
    "    <br style=\"clear: left;\" />\n",
    "</div>"
   ]
  },
  {
   "cell_type": "code",
   "execution_count": 17,
   "metadata": {
    "execution": {
     "iopub.execute_input": "2020-09-20T02:35:17.933632Z",
     "iopub.status.busy": "2020-09-20T02:35:17.933074Z",
     "iopub.status.idle": "2020-09-20T02:35:17.945707Z",
     "shell.execute_reply": "2020-09-20T02:35:17.945115Z"
    },
    "papermill": {
     "duration": 0.109459,
     "end_time": "2020-09-20T02:35:17.945821",
     "exception": false,
     "start_time": "2020-09-20T02:35:17.836362",
     "status": "completed"
    },
    "tags": []
   },
   "outputs": [
    {
     "name": "stdout",
     "output_type": "stream",
     "text": [
      "Task 14:\n",
      "(7, 5)\n",
      "  student  language  science\n",
      "0   kumar        90       56\n",
      "2   sammy        90       23\n",
      "4   peter        30       56\n",
      "6  carrol        50       90\n"
     ]
    }
   ],
   "source": [
    "print('Task 14:') \n",
    "df = pandas.read_csv('/kaggle/input/datasets-for-pandas/abc.csv', sep=',', encoding = \"utf-8\")\n",
    "print(df.shape)\n",
    "\n",
    "print(df.iloc[::2, 0:3])    "
   ]
  },
  {
   "cell_type": "markdown",
   "metadata": {
    "papermill": {
     "duration": 0.083448,
     "end_time": "2020-09-20T02:35:18.114075",
     "exception": false,
     "start_time": "2020-09-20T02:35:18.030627",
     "status": "completed"
    },
    "tags": []
   },
   "source": [
    "<div style=\"\">\n",
    "    <div style=\"float: left; width: 80%;\">\n",
    "        <a id=\"15\"></a>\n",
    "        <font><b>Task 15:</b></font>\n",
    "        <br><br>\n",
    "        New columns as sum of all\n",
    "    </div>\n",
    "    <div style=\"float: right;\">\n",
    "        <a href=\"#top\" class=\"btn btn-primary btn-sm\" role=\"button\" aria-pressed=\"true\" style=\"color:white\" data-toggle=\"popover\" title=\"go to Top\">Go to Top</a>\n",
    "    </div>\n",
    "    <br style=\"clear: left;\" />\n",
    "</div>"
   ]
  },
  {
   "cell_type": "code",
   "execution_count": 18,
   "metadata": {
    "execution": {
     "iopub.execute_input": "2020-09-20T02:35:18.285944Z",
     "iopub.status.busy": "2020-09-20T02:35:18.285334Z",
     "iopub.status.idle": "2020-09-20T02:35:18.297570Z",
     "shell.execute_reply": "2020-09-20T02:35:18.298270Z"
    },
    "papermill": {
     "duration": 0.10079,
     "end_time": "2020-09-20T02:35:18.298485",
     "exception": false,
     "start_time": "2020-09-20T02:35:18.197695",
     "status": "completed"
    },
    "tags": []
   },
   "outputs": [
    {
     "name": "stdout",
     "output_type": "stream",
     "text": [
      "Task 15:\n",
      "(7, 5)\n",
      "  student  language  science  maths  history\n",
      "0   kumar        90       56     34       34\n",
      "1   kevin        10       34     32       67\n",
      "2   sammy        90       23     12       32\n",
      "3  janice        20       67     90       45\n",
      "4   peter        30       56     45       65\n",
      "5    prem        90       45     45       34\n",
      "6  carrol        50       90     45       23\n",
      "  student  language  science  maths  history  total\n",
      "0   kumar        90       56     34       34    214\n",
      "1   kevin        10       34     32       67    143\n",
      "2   sammy        90       23     12       32    157\n",
      "3  janice        20       67     90       45    222\n",
      "4   peter        30       56     45       65    196\n",
      "5    prem        90       45     45       34    214\n",
      "6  carrol        50       90     45       23    208\n"
     ]
    }
   ],
   "source": [
    "print('Task 15:') \n",
    "df = pandas.read_csv('/kaggle/input/datasets-for-pandas/abc.csv', sep=',', encoding = \"utf-8\")\n",
    "print(df.shape)\n",
    "print(df) \n",
    "df['total'] = df.sum(axis=1)\n",
    "\n",
    "print(df)"
   ]
  },
  {
   "cell_type": "markdown",
   "metadata": {
    "papermill": {
     "duration": 0.09584,
     "end_time": "2020-09-20T02:35:18.509336",
     "exception": false,
     "start_time": "2020-09-20T02:35:18.413496",
     "status": "completed"
    },
    "tags": []
   },
   "source": [
    "<div style=\"\">\n",
    "    <div style=\"float: left; width: 80%;\">\n",
    "        <a id=\"16\"></a>\n",
    "        <font><b>Task 16:</b></font>\n",
    "        <br><br>\n",
    "        Delete Rows of one column where the value is less than 50\n",
    "    </div>\n",
    "    <div style=\"float: right;\">\n",
    "        <a href=\"#top\" class=\"btn btn-primary btn-sm\" role=\"button\" aria-pressed=\"true\" style=\"color:white\" data-toggle=\"popover\" title=\"go to Top\">Go to Top</a>\n",
    "    </div>\n",
    "    <br style=\"clear: left;\" />\n",
    "</div>"
   ]
  },
  {
   "cell_type": "code",
   "execution_count": 19,
   "metadata": {
    "execution": {
     "iopub.execute_input": "2020-09-20T02:35:18.687396Z",
     "iopub.status.busy": "2020-09-20T02:35:18.686507Z",
     "iopub.status.idle": "2020-09-20T02:35:18.714111Z",
     "shell.execute_reply": "2020-09-20T02:35:18.714795Z"
    },
    "papermill": {
     "duration": 0.120984,
     "end_time": "2020-09-20T02:35:18.714972",
     "exception": false,
     "start_time": "2020-09-20T02:35:18.593988",
     "status": "completed"
    },
    "tags": []
   },
   "outputs": [
    {
     "name": "stdout",
     "output_type": "stream",
     "text": [
      "Task 16:\n",
      "(7, 5)\n",
      "  student  language  science  maths  history\n",
      "0   kumar        90       56     34       34\n",
      "1   kevin        10       34     32       67\n",
      "2   sammy        90       23     12       32\n",
      "3  janice        20       67     90       45\n",
      "4   peter        30       56     45       65\n",
      "5    prem        90       45     45       34\n",
      "6  carrol        50       90     45       23\n",
      "  student  language  science  maths  history\n",
      "0   kumar        90       56     34       34\n",
      "3  janice        20       67     90       45\n",
      "4   peter        30       56     45       65\n",
      "6  carrol        50       90     45       23\n"
     ]
    }
   ],
   "source": [
    "print('Task 16:') \n",
    "df = pandas.read_csv('/kaggle/input/datasets-for-pandas/abc.csv', sep=',', encoding = \"utf-8\")\n",
    "print(df.shape)\n",
    "print(df) \n",
    "\n",
    "df = df[df.science > 50]\n",
    "print(df)"
   ]
  },
  {
   "cell_type": "markdown",
   "metadata": {
    "papermill": {
     "duration": 0.084525,
     "end_time": "2020-09-20T02:35:18.885051",
     "exception": false,
     "start_time": "2020-09-20T02:35:18.800526",
     "status": "completed"
    },
    "tags": []
   },
   "source": [
    "<div style=\"\">\n",
    "    <div style=\"float: left; width: 80%;\">\n",
    "        <a id=\"17\"></a>\n",
    "        <font><b>Task 17:</b></font>\n",
    "        <br><br>\n",
    "        Delete with Query\n",
    "        <br>Note: Query doesn't work if your column has space in it\n",
    "    </div>\n",
    "    <div style=\"float: right;\">\n",
    "        <a href=\"#top\" class=\"btn btn-primary btn-sm\" role=\"button\" aria-pressed=\"true\" style=\"color:white\" data-toggle=\"popover\" title=\"go to Top\">Go to Top</a>\n",
    "    </div>\n",
    "    <br style=\"clear: left;\" />\n",
    "</div>"
   ]
  },
  {
   "cell_type": "code",
   "execution_count": 20,
   "metadata": {
    "execution": {
     "iopub.execute_input": "2020-09-20T02:35:19.069738Z",
     "iopub.status.busy": "2020-09-20T02:35:19.068875Z",
     "iopub.status.idle": "2020-09-20T02:35:19.085125Z",
     "shell.execute_reply": "2020-09-20T02:35:19.085675Z"
    },
    "papermill": {
     "duration": 0.104328,
     "end_time": "2020-09-20T02:35:19.085836",
     "exception": false,
     "start_time": "2020-09-20T02:35:18.981508",
     "status": "completed"
    },
    "tags": []
   },
   "outputs": [
    {
     "name": "stdout",
     "output_type": "stream",
     "text": [
      "Task 17:\n",
      "(7, 5)\n",
      "  student  language  science  maths  history\n",
      "0   kumar        90       56     34       34\n",
      "1   kevin        10       34     32       67\n",
      "2   sammy        90       23     12       32\n",
      "3  janice        20       67     90       45\n",
      "4   peter        30       56     45       65\n",
      "5    prem        90       45     45       34\n",
      "6  carrol        50       90     45       23\n",
      "  student  language  science  maths  history\n",
      "0   kumar        90       56     34       34\n",
      "3  janice        20       67     90       45\n",
      "4   peter        30       56     45       65\n",
      "6  carrol        50       90     45       23\n"
     ]
    }
   ],
   "source": [
    "print('Task 17:') \n",
    "df = pandas.read_csv('/kaggle/input/datasets-for-pandas/abc.csv', sep=',', encoding = \"utf-8\")\n",
    "print(df.shape)\n",
    "print(df) \n",
    "\n",
    "df = df.query('science > 45')\n",
    "print(df)"
   ]
  },
  {
   "cell_type": "markdown",
   "metadata": {
    "papermill": {
     "duration": 0.085478,
     "end_time": "2020-09-20T02:35:19.256680",
     "exception": false,
     "start_time": "2020-09-20T02:35:19.171202",
     "status": "completed"
    },
    "tags": []
   },
   "source": [
    "<div style=\"\">\n",
    "    <div style=\"float: left; width: 80%;\">\n",
    "        <a id=\"18\"></a>\n",
    "        <font><b>Task 18:</b></font>\n",
    "        <br><br>\n",
    "        Skip single row\n",
    "    </div>\n",
    "    <div style=\"float: right;\">\n",
    "        <a href=\"#top\" class=\"btn btn-primary btn-sm\" role=\"button\" aria-pressed=\"true\" style=\"color:white\" data-toggle=\"popover\" title=\"go to Top\">Go to Top</a>\n",
    "    </div>\n",
    "    <br style=\"clear: left;\" />\n",
    "</div>"
   ]
  },
  {
   "cell_type": "code",
   "execution_count": 21,
   "metadata": {
    "execution": {
     "iopub.execute_input": "2020-09-20T02:35:19.433928Z",
     "iopub.status.busy": "2020-09-20T02:35:19.433358Z",
     "iopub.status.idle": "2020-09-20T02:35:19.441203Z",
     "shell.execute_reply": "2020-09-20T02:35:19.441882Z"
    },
    "papermill": {
     "duration": 0.099748,
     "end_time": "2020-09-20T02:35:19.442058",
     "exception": false,
     "start_time": "2020-09-20T02:35:19.342310",
     "status": "completed"
    },
    "tags": []
   },
   "outputs": [
    {
     "name": "stdout",
     "output_type": "stream",
     "text": [
      "Task 18:\n",
      "(6, 5)\n",
      "  student  language  science  maths  history\n",
      "0   kumar        90       56     34       34\n",
      "1   kevin        10       34     32       67\n",
      "2   sammy        90       23     12       32\n",
      "3  janice        20       67     90       45\n",
      "4    prem        90       45     45       34\n",
      "5  carrol        50       90     45       23\n"
     ]
    }
   ],
   "source": [
    "print('Task 18:') \n",
    "df = pandas.read_csv('/kaggle/input/datasets-for-pandas/abc.csv', sep=',', encoding = \"utf-8\", skiprows=[5])\n",
    "print(df.shape)\n",
    "print(df)"
   ]
  },
  {
   "cell_type": "markdown",
   "metadata": {
    "papermill": {
     "duration": 0.08467,
     "end_time": "2020-09-20T02:35:19.615552",
     "exception": false,
     "start_time": "2020-09-20T02:35:19.530882",
     "status": "completed"
    },
    "tags": []
   },
   "source": [
    "<div style=\"\">\n",
    "    <div style=\"float: left; width: 80%;\">\n",
    "        <a id=\"19\"></a>\n",
    "        <font><b>Task 19:</b></font>\n",
    "        <br><br>\n",
    "        Skip multiple rows\n",
    "    </div>\n",
    "    <div style=\"float: right;\">\n",
    "        <a href=\"#top\" class=\"btn btn-primary btn-sm\" role=\"button\" aria-pressed=\"true\" style=\"color:white\" data-toggle=\"popover\" title=\"go to Top\">Go to Top</a>\n",
    "    </div>\n",
    "    <br style=\"clear: left;\" />\n",
    "</div>"
   ]
  },
  {
   "cell_type": "code",
   "execution_count": 22,
   "metadata": {
    "execution": {
     "iopub.execute_input": "2020-09-20T02:35:19.794545Z",
     "iopub.status.busy": "2020-09-20T02:35:19.793624Z",
     "iopub.status.idle": "2020-09-20T02:35:19.802819Z",
     "shell.execute_reply": "2020-09-20T02:35:19.803501Z"
    },
    "papermill": {
     "duration": 0.103099,
     "end_time": "2020-09-20T02:35:19.803687",
     "exception": false,
     "start_time": "2020-09-20T02:35:19.700588",
     "status": "completed"
    },
    "tags": []
   },
   "outputs": [
    {
     "name": "stdout",
     "output_type": "stream",
     "text": [
      "Task 19:\n",
      "(4, 5)\n",
      "  student  language  science  maths  history\n",
      "0   kevin        10       34     32       67\n",
      "1   sammy        90       23     12       32\n",
      "2  janice        20       67     90       45\n",
      "3    prem        90       45     45       34\n"
     ]
    }
   ],
   "source": [
    "print('Task 19:') \n",
    "df = pandas.read_csv('/kaggle/input/datasets-for-pandas/abc.csv', sep=',', encoding = \"utf-8\", skiprows=[1, 5, 7])\n",
    "print(df.shape)\n",
    "#print(df) \n",
    "\n",
    "#df = df[df[[1]] > 45]\n",
    "print(df)"
   ]
  },
  {
   "cell_type": "markdown",
   "metadata": {
    "papermill": {
     "duration": 0.086569,
     "end_time": "2020-09-20T02:35:19.978396",
     "exception": false,
     "start_time": "2020-09-20T02:35:19.891827",
     "status": "completed"
    },
    "tags": []
   },
   "source": [
    "<div style=\"\">\n",
    "    <div style=\"float: left; width: 80%;\">\n",
    "        <a id=\"20\"></a>\n",
    "        <font><b>Task 20:</b></font>\n",
    "        <br><br>\n",
    "        Select Column by Index\n",
    "        <br>\n",
    "        <br>Note:\n",
    "        <br>df[[1]] doesn't work in Pandas updated version (need to double check)\n",
    "        <br>\n",
    "        New columns as sum of all\n",
    "    </div>\n",
    "    <div style=\"float: right;\">\n",
    "        <a href=\"#top\" class=\"btn btn-primary btn-sm\" role=\"button\" aria-pressed=\"true\" style=\"color:white\" data-toggle=\"popover\" title=\"go to Top\">Go to Top</a>\n",
    "    </div>\n",
    "    <br style=\"clear: left;\" />\n",
    "</div>"
   ]
  },
  {
   "cell_type": "code",
   "execution_count": 23,
   "metadata": {
    "execution": {
     "iopub.execute_input": "2020-09-20T02:35:20.154959Z",
     "iopub.status.busy": "2020-09-20T02:35:20.154003Z",
     "iopub.status.idle": "2020-09-20T02:35:20.164394Z",
     "shell.execute_reply": "2020-09-20T02:35:20.164816Z"
    },
    "papermill": {
     "duration": 0.101057,
     "end_time": "2020-09-20T02:35:20.164955",
     "exception": false,
     "start_time": "2020-09-20T02:35:20.063898",
     "status": "completed"
    },
    "tags": []
   },
   "outputs": [
    {
     "name": "stdout",
     "output_type": "stream",
     "text": [
      "Task 20:\n",
      "(7, 5)\n",
      "  student  language  science  maths  history\n",
      "0   kumar        90       56     34       34\n",
      "1   kevin        10       34     32       67\n",
      "2   sammy        90       23     12       32\n",
      "3  janice        20       67     90       45\n",
      "4   peter        30       56     45       65\n",
      "5    prem        90       45     45       34\n",
      "6  carrol        50       90     45       23\n",
      "  student  language  science  maths  history\n",
      "0   kumar        90       56     34       34\n",
      "1   kevin        10       34     32       67\n",
      "2   sammy        90       23     12       32\n",
      "3  janice        20       67     90       45\n",
      "4   peter        30       56     45       65\n",
      "5    prem        90       45     45       34\n",
      "6  carrol        50       90     45       23\n",
      "<class 'str'>\n"
     ]
    }
   ],
   "source": [
    "print('Task 20:') \n",
    "df = pandas.read_csv('/kaggle/input/datasets-for-pandas/abc.csv', sep=',', encoding = \"utf-8\")\n",
    "print(df.shape)\n",
    "print(df) \n",
    "\n",
    "#df = df[int(df.columns[2]) > 45]\n",
    "print(df)\n",
    "print(type(df.columns[2]))"
   ]
  },
  {
   "cell_type": "markdown",
   "metadata": {
    "papermill": {
     "duration": 0.085845,
     "end_time": "2020-09-20T02:35:20.336548",
     "exception": false,
     "start_time": "2020-09-20T02:35:20.250703",
     "status": "completed"
    },
    "tags": []
   },
   "source": [
    "<div style=\"\">\n",
    "    <div style=\"float: left; width: 80%;\">\n",
    "        <a id=\"21\"></a>\n",
    "        <font><b>Task 21:</b></font>\n",
    "        <br><br>\n",
    "        Skip rows\n",
    "        <br>Note:\n",
    "        <br>df[[1]] doesn't work in Pandas updated version (need to double check)\n",
    "    </div>\n",
    "    <div style=\"float: right;\">\n",
    "        <a href=\"#top\" class=\"btn btn-primary btn-sm\" role=\"button\" aria-pressed=\"true\" style=\"color:white\" data-toggle=\"popover\" title=\"go to Top\">Go to Top</a>\n",
    "    </div>\n",
    "    <br style=\"clear: left;\" />\n",
    "</div>"
   ]
  },
  {
   "cell_type": "code",
   "execution_count": 24,
   "metadata": {
    "execution": {
     "iopub.execute_input": "2020-09-20T02:35:20.512368Z",
     "iopub.status.busy": "2020-09-20T02:35:20.511793Z",
     "iopub.status.idle": "2020-09-20T02:35:20.523679Z",
     "shell.execute_reply": "2020-09-20T02:35:20.523052Z"
    },
    "papermill": {
     "duration": 0.100299,
     "end_time": "2020-09-20T02:35:20.523825",
     "exception": false,
     "start_time": "2020-09-20T02:35:20.423526",
     "status": "completed"
    },
    "tags": []
   },
   "outputs": [
    {
     "name": "stdout",
     "output_type": "stream",
     "text": [
      "Task 21:\n",
      "(6, 5)\n",
      "    kumar  90  56  34  34.1\n",
      "0   kevin  10  34  32    67\n",
      "1   sammy  90  23  12    32\n",
      "2  janice  20  67  90    45\n",
      "3   peter  30  56  45    65\n",
      "4    prem  90  45  45    34\n",
      "5  carrol  50  90  45    23\n",
      "56\n"
     ]
    }
   ],
   "source": [
    "print('Task 21:') \n",
    "df = pandas.read_csv('/kaggle/input/datasets-for-pandas/abc.csv', sep=',', encoding = \"utf-8\", skiprows=[0])\n",
    "print(df.shape)\n",
    "print(df) \n",
    "\n",
    "#df = df[int(df.columns[2]) > 45]\n",
    "#print(df)\n",
    "print(df.columns[2])"
   ]
  },
  {
   "cell_type": "markdown",
   "metadata": {
    "papermill": {
     "duration": 0.088366,
     "end_time": "2020-09-20T02:35:20.700118",
     "exception": false,
     "start_time": "2020-09-20T02:35:20.611752",
     "status": "completed"
    },
    "tags": []
   },
   "source": [
    "<div style=\"\">\n",
    "    <div style=\"float: left; width: 80%;\">\n",
    "        <a id=\"22\"></a>\n",
    "        <font><b>Task 22:</b></font>\n",
    "        <br><br>\n",
    "        String to Dataframe\n",
    "        <br>Note:\n",
    "        <br>df[[1]] doesn't work in Pandas updated version (need to double check)\n",
    "    </div>\n",
    "    <div style=\"float: right;\">\n",
    "        <a href=\"#top\" class=\"btn btn-primary btn-sm\" role=\"button\" aria-pressed=\"true\" style=\"color:white\" data-toggle=\"popover\" title=\"go to Top\">Go to Top</a>\n",
    "    </div>\n",
    "    <br style=\"clear: left;\" />\n",
    "</div>"
   ]
  },
  {
   "cell_type": "code",
   "execution_count": 25,
   "metadata": {
    "execution": {
     "iopub.execute_input": "2020-09-20T02:35:20.887008Z",
     "iopub.status.busy": "2020-09-20T02:35:20.886212Z",
     "iopub.status.idle": "2020-09-20T02:35:20.889077Z",
     "shell.execute_reply": "2020-09-20T02:35:20.889529Z"
    },
    "papermill": {
     "duration": 0.10096,
     "end_time": "2020-09-20T02:35:20.889659",
     "exception": false,
     "start_time": "2020-09-20T02:35:20.788699",
     "status": "completed"
    },
    "tags": []
   },
   "outputs": [
    {
     "name": "stdout",
     "output_type": "stream",
     "text": [
      "Task 22:\n",
      "(3, 2)\n",
      "   0  1\n",
      "0  1  2\n",
      "1  3  4\n",
      "2  5  6\n"
     ]
    }
   ],
   "source": [
    "print('Task 22:')\n",
    "from io import StringIO\n",
    "\n",
    "s = \"\"\"\n",
    "        1, 2\n",
    "        3, 4\n",
    "        5, 6\n",
    "    \"\"\"\n",
    "\n",
    "df = pd.read_csv(StringIO(s), header=None)\n",
    "\n",
    "print(df.shape)\n",
    "print(df)"
   ]
  },
  {
   "cell_type": "markdown",
   "metadata": {
    "papermill": {
     "duration": 0.087218,
     "end_time": "2020-09-20T02:35:21.065066",
     "exception": false,
     "start_time": "2020-09-20T02:35:20.977848",
     "status": "completed"
    },
    "tags": []
   },
   "source": [
    "<div style=\"\">\n",
    "    <div style=\"float: left; width: 80%;\">\n",
    "        <a id=\"23\"></a>\n",
    "        <font><b>Task 23:</b></font>\n",
    "        <br><br>\n",
    "        New columns as max of other columns\n",
    "        <br>float to int used\n",
    "    </div>\n",
    "    <div style=\"float: right;\">\n",
    "        <a href=\"#top\" class=\"btn btn-primary btn-sm\" role=\"button\" aria-pressed=\"true\" style=\"color:white\" data-toggle=\"popover\" title=\"go to Top\">Go to Top</a>\n",
    "    </div>\n",
    "    <br style=\"clear: left;\" />\n",
    "</div>"
   ]
  },
  {
   "cell_type": "code",
   "execution_count": 26,
   "metadata": {
    "execution": {
     "iopub.execute_input": "2020-09-20T02:35:21.243839Z",
     "iopub.status.busy": "2020-09-20T02:35:21.242918Z",
     "iopub.status.idle": "2020-09-20T02:35:21.257514Z",
     "shell.execute_reply": "2020-09-20T02:35:21.257060Z"
    },
    "papermill": {
     "duration": 0.106492,
     "end_time": "2020-09-20T02:35:21.257622",
     "exception": false,
     "start_time": "2020-09-20T02:35:21.151130",
     "status": "completed"
    },
    "tags": []
   },
   "outputs": [
    {
     "name": "stdout",
     "output_type": "stream",
     "text": [
      "Task 23:\n",
      "(7, 5)\n",
      "  student  language  science  maths  history  sum  max  min  average\n",
      "0   kumar        90       56     34       34  214  214   34       96\n",
      "1   kevin        10       34     32       67  143  143   10       62\n",
      "2   sammy        90       23     12       32  157  157   12       69\n",
      "3  janice        20       67     90       45  222  222   20       98\n",
      "4   peter        30       56     45       65  196  196   30       88\n",
      "5    prem        90       45     45       34  214  214   34       96\n",
      "6  carrol        50       90     45       23  208  208   23       92\n"
     ]
    }
   ],
   "source": [
    "print('Task 23:') \n",
    "df = pandas.read_csv('/kaggle/input/datasets-for-pandas/abc.csv', sep=',', encoding = \"utf-8\")\n",
    "print(df.shape)\n",
    "df['sum'] = df.sum(axis=1)\n",
    "df['max'] = df.max(axis=1)\n",
    "df['min'] = df.min(axis=1)\n",
    "df['average'] = df.mean(axis=1).astype(int)\n",
    "print(df)"
   ]
  },
  {
   "cell_type": "markdown",
   "metadata": {
    "papermill": {
     "duration": 0.087475,
     "end_time": "2020-09-20T02:35:21.432523",
     "exception": false,
     "start_time": "2020-09-20T02:35:21.345048",
     "status": "completed"
    },
    "tags": []
   },
   "source": [
    "<div style=\"\">\n",
    "    <div style=\"float: left; width: 80%;\">\n",
    "        <a id=\"24\"></a>\n",
    "        <font><b>Task 24:</b></font>\n",
    "        <br><br>\n",
    "        New columns as max of other columns\n",
    "<br>float to int used\n",
    "<br>Math is considered more, so double the marks for maths\n",
    "    </div>\n",
    "    <div style=\"float: right;\">\n",
    "        <a href=\"#top\" class=\"btn btn-primary btn-sm\" role=\"button\" aria-pressed=\"true\" style=\"color:white\" data-toggle=\"popover\" title=\"go to Top\">Go to Top</a>\n",
    "    </div>\n",
    "    <br style=\"clear: left;\" />\n",
    "</div>"
   ]
  },
  {
   "cell_type": "code",
   "execution_count": 27,
   "metadata": {
    "execution": {
     "iopub.execute_input": "2020-09-20T02:35:21.611792Z",
     "iopub.status.busy": "2020-09-20T02:35:21.611257Z",
     "iopub.status.idle": "2020-09-20T02:35:21.628775Z",
     "shell.execute_reply": "2020-09-20T02:35:21.628337Z"
    },
    "papermill": {
     "duration": 0.109945,
     "end_time": "2020-09-20T02:35:21.628871",
     "exception": false,
     "start_time": "2020-09-20T02:35:21.518926",
     "status": "completed"
    },
    "tags": []
   },
   "outputs": [
    {
     "name": "stdout",
     "output_type": "stream",
     "text": [
      "Task 24:\n",
      "(7, 5)\n",
      "  student  language  science  maths  history  sum  max  min  average  \\\n",
      "0   kumar        90       56     34       34  214  214   34       96   \n",
      "1   kevin        10       34     32       67  143  143   10       62   \n",
      "2   sammy        90       23     12       32  157  157   12       69   \n",
      "3  janice        20       67     90       45  222  222   20       98   \n",
      "4   peter        30       56     45       65  196  196   30       88   \n",
      "5    prem        90       45     45       34  214  214   34       96   \n",
      "6  carrol        50       90     45       23  208  208   23       92   \n",
      "\n",
      "   math_special  \n",
      "0            45  \n",
      "1            31  \n",
      "2            25  \n",
      "3            68  \n",
      "4            45  \n",
      "5            47  \n",
      "6            53  \n"
     ]
    }
   ],
   "source": [
    "def apply_math_special(row):\n",
    "    return (row.maths * 2 + row.language / 2 + row.history / 3 + row.science) / 4                \n",
    "\n",
    "print('Task 24:') \n",
    "df = pandas.read_csv('/kaggle/input/datasets-for-pandas/abc.csv', sep=',', encoding = \"utf-8\")\n",
    "print(df.shape)\n",
    "df['sum'] = df.sum(axis=1)\n",
    "df['max'] = df.max(axis=1)\n",
    "df['min'] = df.min(axis=1)\n",
    "df['average'] = df.mean(axis=1).astype(int)\n",
    "df['math_special'] = df.apply(apply_math_special, axis=1).astype(int)\n",
    "print(df)"
   ]
  },
  {
   "cell_type": "markdown",
   "metadata": {
    "papermill": {
     "duration": 0.088127,
     "end_time": "2020-09-20T02:35:21.806150",
     "exception": false,
     "start_time": "2020-09-20T02:35:21.718023",
     "status": "completed"
    },
    "tags": []
   },
   "source": [
    "<div style=\"\">\n",
    "    <div style=\"float: left; width: 80%;\">\n",
    "        <a id=\"25\"></a>\n",
    "        <font><b>Task 25:</b></font>\n",
    "        <br><br>\n",
    "        New columns as max of other columns\n",
    "<br>35 marks considered as pass \n",
    "<br>If the student fails in math, consider fail\n",
    "<br>If the student passes in language and science, consider as pass\n",
    "    </div>\n",
    "    <div style=\"float: right;\">\n",
    "        <a href=\"#top\" class=\"btn btn-primary btn-sm\" role=\"button\" aria-pressed=\"true\" style=\"color:white\" data-toggle=\"popover\" title=\"go to Top\">Go to Top</a>\n",
    "    </div>\n",
    "    <br style=\"clear: left;\" />\n",
    "</div>"
   ]
  },
  {
   "cell_type": "code",
   "execution_count": 28,
   "metadata": {
    "execution": {
     "iopub.execute_input": "2020-09-20T02:35:21.989151Z",
     "iopub.status.busy": "2020-09-20T02:35:21.988595Z",
     "iopub.status.idle": "2020-09-20T02:35:21.998969Z",
     "shell.execute_reply": "2020-09-20T02:35:21.998372Z"
    },
    "papermill": {
     "duration": 0.104282,
     "end_time": "2020-09-20T02:35:21.999113",
     "exception": false,
     "start_time": "2020-09-20T02:35:21.894831",
     "status": "completed"
    },
    "tags": []
   },
   "outputs": [
    {
     "name": "stdout",
     "output_type": "stream",
     "text": [
      "Task 25:\n",
      "(7, 5)\n",
      "  student  language  science  maths  history pass_one\n",
      "0   kumar        90       56     34       34     Pass\n",
      "1   kevin        10       34     32       67     Fail\n",
      "2   sammy        90       23     12       32     Fail\n",
      "3  janice        20       67     90       45     Pass\n",
      "4   peter        30       56     45       65     Pass\n",
      "5    prem        90       45     45       34     Pass\n",
      "6  carrol        50       90     45       23     Pass\n"
     ]
    }
   ],
   "source": [
    "def pass_one_subject(row):\n",
    "    if(row.maths > 34):\n",
    "        return 'Pass'\n",
    "    if(row.language > 34 and row.science > 34):\n",
    "        return 'Pass'\n",
    "    \n",
    "    return 'Fail'                \n",
    "\n",
    "print('Task 25:') \n",
    "df = pandas.read_csv('/kaggle/input/datasets-for-pandas/abc.csv', sep=',', encoding = \"utf-8\")\n",
    "print(df.shape)   \n",
    "\n",
    "df['pass_one'] = df.apply(pass_one_subject, axis=1)\n",
    "print(df)"
   ]
  },
  {
   "cell_type": "markdown",
   "metadata": {
    "papermill": {
     "duration": 0.086323,
     "end_time": "2020-09-20T02:35:22.174020",
     "exception": false,
     "start_time": "2020-09-20T02:35:22.087697",
     "status": "completed"
    },
    "tags": []
   },
   "source": [
    "<div style=\"\">\n",
    "    <div style=\"float: left; width: 80%;\">\n",
    "        <a id=\"26\"></a>\n",
    "        <font><b>Task 26:</b></font>\n",
    "        <br><br>\n",
    "        Fill with average\n",
    "    </div>\n",
    "    <div style=\"float: right;\">\n",
    "        <a href=\"#top\" class=\"btn btn-primary btn-sm\" role=\"button\" aria-pressed=\"true\" style=\"color:white\" data-toggle=\"popover\" title=\"go to Top\">Go to Top</a>\n",
    "    </div>\n",
    "    <br style=\"clear: left;\" />\n",
    "</div> "
   ]
  },
  {
   "cell_type": "code",
   "execution_count": 29,
   "metadata": {
    "execution": {
     "iopub.execute_input": "2020-09-20T02:35:22.354886Z",
     "iopub.status.busy": "2020-09-20T02:35:22.354182Z",
     "iopub.status.idle": "2020-09-20T02:35:22.368439Z",
     "shell.execute_reply": "2020-09-20T02:35:22.367809Z"
    },
    "papermill": {
     "duration": 0.107289,
     "end_time": "2020-09-20T02:35:22.368547",
     "exception": false,
     "start_time": "2020-09-20T02:35:22.261258",
     "status": "completed"
    },
    "tags": []
   },
   "outputs": [
    {
     "name": "stdout",
     "output_type": "stream",
     "text": [
      "Task 26:\n",
      "(7, 5)\n",
      "  student  language  science  maths  history\n",
      "0   kumar        90     56.0   34.0       34\n",
      "1   kevin        10      NaN   32.0       67\n",
      "2   sammy        90     23.0   12.0       32\n",
      "3  janice        20      NaN   90.0       45\n",
      "4   peter        30     56.0   45.0       65\n",
      "5    prem        90     45.0    NaN       34\n",
      "6  carrol        50     90.0   45.0       23\n",
      "  student  language  science  maths  history\n",
      "0   kumar        90     56.0   34.0       34\n",
      "1   kevin        10     54.0   32.0       67\n",
      "2   sammy        90     23.0   12.0       32\n",
      "3  janice        20     54.0   90.0       45\n",
      "4   peter        30     56.0   45.0       65\n",
      "5    prem        90     45.0   43.0       34\n",
      "6  carrol        50     90.0   45.0       23\n"
     ]
    }
   ],
   "source": [
    "print('Task 26:') \n",
    "df = pandas.read_csv('/kaggle/input/datasets-for-pandas/abc2.csv', sep=',', encoding = \"utf-8\")\n",
    "print(df.shape)   \n",
    "print(df)\n",
    "df.fillna(df.mean(), inplace=True)\n",
    "\n",
    "#df['pass_one'] = df.apply(pass_one_subject, axis=1)\n",
    "print(df)"
   ]
  },
  {
   "cell_type": "markdown",
   "metadata": {
    "papermill": {
     "duration": 0.087363,
     "end_time": "2020-09-20T02:35:22.546980",
     "exception": false,
     "start_time": "2020-09-20T02:35:22.459617",
     "status": "completed"
    },
    "tags": []
   },
   "source": [
    "<div style=\"\">\n",
    "    <div style=\"float: left; width: 80%;\">\n",
    "        <a id=\"27\"></a>\n",
    "        <font><b>Task 27:</b></font>\n",
    "        <br><br>\n",
    "        New columns as sum of all\n",
    "    </div>\n",
    "    <div style=\"float: right;\">\n",
    "        <a href=\"#top\" class=\"btn btn-primary btn-sm\" role=\"button\" aria-pressed=\"true\" style=\"color:white\" data-toggle=\"popover\" title=\"go to Top\">Go to Top</a>\n",
    "    </div>\n",
    "    <br style=\"clear: left;\" />\n",
    "</div> "
   ]
  },
  {
   "cell_type": "code",
   "execution_count": 30,
   "metadata": {
    "execution": {
     "iopub.execute_input": "2020-09-20T02:35:22.738454Z",
     "iopub.status.busy": "2020-09-20T02:35:22.737823Z",
     "iopub.status.idle": "2020-09-20T02:35:22.741826Z",
     "shell.execute_reply": "2020-09-20T02:35:22.742425Z"
    },
    "papermill": {
     "duration": 0.1074,
     "end_time": "2020-09-20T02:35:22.742606",
     "exception": false,
     "start_time": "2020-09-20T02:35:22.635206",
     "status": "completed"
    },
    "tags": []
   },
   "outputs": [
    {
     "name": "stdout",
     "output_type": "stream",
     "text": [
      "Task 27:\n",
      "          0         1         2         3         4\n",
      "0       NaN       NaN       NaN       NaN  0.179480\n",
      "1       NaN       NaN       NaN       NaN  0.645797\n",
      "2       NaN       NaN       NaN       NaN  0.824847\n",
      "3  0.491720  0.539509  0.295093  0.619767  0.130226\n",
      "4  0.068830  0.970336  0.868912  0.277359  0.244433\n",
      "5  0.831997  0.701276  0.048402  0.578839  0.381859\n",
      "6  0.944832  0.728394  0.960820  0.376226  0.190479\n",
      "7  0.604709  0.562853  0.464594  0.886048  0.793408\n",
      "8  0.975858  0.062936  0.656663  0.283198  0.608657\n",
      "9  0.448046  0.571306  0.033773  0.846181  0.671725\n",
      "          0         1         2         3         4      test\n",
      "0       NaN       NaN       NaN       NaN  0.179480  0.179480\n",
      "1       NaN       NaN       NaN       NaN  0.645797  0.645797\n",
      "2       NaN       NaN       NaN       NaN  0.824847  0.824847\n",
      "3  0.491720  0.539509  0.295093  0.619767  0.130226  1.045086\n",
      "4  0.068830  0.970336  0.868912  0.277359  0.244433  1.390704\n",
      "5  0.831997  0.701276  0.048402  0.578839  0.381859  1.009100\n",
      "6  0.944832  0.728394  0.960820  0.376226  0.190479  1.527525\n",
      "7  0.604709  0.562853  0.464594  0.886048  0.793408  2.144050\n",
      "8  0.975858  0.062936  0.656663  0.283198  0.608657  1.548517\n",
      "9  0.448046  0.571306  0.033773  0.846181  0.671725  1.551679\n"
     ]
    }
   ],
   "source": [
    "print('Task 27:')\n",
    "df = pd.DataFrame(np.random.rand(10, 5))\n",
    "df.iloc[0:3, 0:4] = np.nan # throw in some na values\n",
    "print(df)\n",
    "df.loc[:, 'test'] = df.iloc[:, 2:].sum(axis=1)\n",
    "print(df)"
   ]
  },
  {
   "cell_type": "markdown",
   "metadata": {
    "papermill": {
     "duration": 0.087305,
     "end_time": "2020-09-20T02:35:22.922304",
     "exception": false,
     "start_time": "2020-09-20T02:35:22.834999",
     "status": "completed"
    },
    "tags": []
   },
   "source": [
    "<div style=\"\">\n",
    "    <div style=\"float: left; width: 80%;\">\n",
    "        <a id=\"28\"></a>\n",
    "        <font><b>Task 28:</b></font>\n",
    "        <br><br>\n",
    "        Unicode issue and fix\n",
    "    </div>\n",
    "    <div style=\"float: right;\">\n",
    "        <a href=\"#top\" class=\"btn btn-primary btn-sm\" role=\"button\" aria-pressed=\"true\" style=\"color:white\" data-toggle=\"popover\" title=\"go to Top\">Go to Top</a>\n",
    "    </div>\n",
    "    <br style=\"clear: left;\" />\n",
    "</div> "
   ]
  },
  {
   "cell_type": "code",
   "execution_count": 31,
   "metadata": {
    "execution": {
     "iopub.execute_input": "2020-09-20T02:35:23.102808Z",
     "iopub.status.busy": "2020-09-20T02:35:23.102201Z",
     "iopub.status.idle": "2020-09-20T02:35:23.109958Z",
     "shell.execute_reply": "2020-09-20T02:35:23.109550Z"
    },
    "papermill": {
     "duration": 0.099019,
     "end_time": "2020-09-20T02:35:23.110053",
     "exception": false,
     "start_time": "2020-09-20T02:35:23.011034",
     "status": "completed"
    },
    "tags": []
   },
   "outputs": [
    {
     "name": "stdout",
     "output_type": "stream",
     "text": [
      "Task 28:\n",
      "(16, 5)\n"
     ]
    }
   ],
   "source": [
    "print('Task 28:') \n",
    "df = pandas.read_csv('/kaggle/input/datasets-for-pandas/score.csv', sep=',', encoding = \"ISO-8859-1\")\n",
    "print(df.shape) "
   ]
  },
  {
   "cell_type": "markdown",
   "metadata": {
    "papermill": {
     "duration": 0.088986,
     "end_time": "2020-09-20T02:35:23.287443",
     "exception": false,
     "start_time": "2020-09-20T02:35:23.198457",
     "status": "completed"
    },
    "tags": []
   },
   "source": [
    "<div style=\"\">\n",
    "    <div style=\"float: left; width: 80%;\">\n",
    "        <a id=\"29\"></a>\n",
    "        <font><b>Task 29:</b></font>\n",
    "        <br><br>\n",
    "        Fill with average\n",
    "    </div>\n",
    "    <div style=\"float: right;\">\n",
    "        <a href=\"#top\" class=\"btn btn-primary btn-sm\" role=\"button\" aria-pressed=\"true\" style=\"color:white\" data-toggle=\"popover\" title=\"go to Top\">Go to Top</a>\n",
    "    </div>\n",
    "    <br style=\"clear: left;\" />\n",
    "</div> "
   ]
  },
  {
   "cell_type": "code",
   "execution_count": 32,
   "metadata": {
    "execution": {
     "iopub.execute_input": "2020-09-20T02:35:23.479376Z",
     "iopub.status.busy": "2020-09-20T02:35:23.478567Z",
     "iopub.status.idle": "2020-09-20T02:35:23.482149Z",
     "shell.execute_reply": "2020-09-20T02:35:23.481641Z"
    },
    "papermill": {
     "duration": 0.106362,
     "end_time": "2020-09-20T02:35:23.482247",
     "exception": false,
     "start_time": "2020-09-20T02:35:23.375885",
     "status": "completed"
    },
    "tags": []
   },
   "outputs": [
    {
     "name": "stdout",
     "output_type": "stream",
     "text": [
      "Task 29:\n",
      "(3, 4)\n",
      "          A         B         C         D\n",
      "0  0.314041  0.203296  0.207409  0.174210\n",
      "1  0.931851  0.899814  0.148542  0.390826\n",
      "2  0.281365  0.162781  0.203582  0.853141\n",
      "          A         B         C         D\n",
      "0  0.314041  0.203296  0.207409  0.174210\n",
      "1  0.931851  0.899814  0.148542  0.390826\n",
      "2  0.281365  0.162781  0.203582  0.853141\n"
     ]
    }
   ],
   "source": [
    "print('Task 29:') \n",
    "df = pd.DataFrame(np.random.rand(3,4), columns=list(\"ABCD\"))\n",
    "print(df.shape)   \n",
    "print(df)\n",
    "df.fillna(df.mean(), inplace=True)\n",
    "\n",
    "print(df)"
   ]
  },
  {
   "cell_type": "markdown",
   "metadata": {
    "papermill": {
     "duration": 0.088463,
     "end_time": "2020-09-20T02:35:23.660868",
     "exception": false,
     "start_time": "2020-09-20T02:35:23.572405",
     "status": "completed"
    },
    "tags": []
   },
   "source": [
    "<div style=\"\">\n",
    "    <div style=\"float: left; width: 80%;\">\n",
    "        <a id=\"30\"></a>\n",
    "        <font><b>Task 30:</b></font>\n",
    "        <br><br>\n",
    "        Last 4 rows\n",
    "    </div>\n",
    "    <div style=\"float: right;\">\n",
    "        <a href=\"#top\" class=\"btn btn-primary btn-sm\" role=\"button\" aria-pressed=\"true\" style=\"color:white\" data-toggle=\"popover\" title=\"go to Top\">Go to Top</a>\n",
    "    </div>\n",
    "    <br style=\"clear: left;\" />\n",
    "</div>"
   ]
  },
  {
   "cell_type": "code",
   "execution_count": 33,
   "metadata": {
    "execution": {
     "iopub.execute_input": "2020-09-20T02:35:23.845527Z",
     "iopub.status.busy": "2020-09-20T02:35:23.844747Z",
     "iopub.status.idle": "2020-09-20T02:35:23.847473Z",
     "shell.execute_reply": "2020-09-20T02:35:23.847876Z"
    },
    "papermill": {
     "duration": 0.098811,
     "end_time": "2020-09-20T02:35:23.847990",
     "exception": false,
     "start_time": "2020-09-20T02:35:23.749179",
     "status": "completed"
    },
    "tags": []
   },
   "outputs": [
    {
     "name": "stdout",
     "output_type": "stream",
     "text": [
      "Task 30:\n",
      "  capacity,score,length\n",
      "5               7,10,23\n",
      "6               3,20,22\n",
      "7               8,20,11\n",
      "8                2,30,2\n"
     ]
    }
   ],
   "source": [
    "print('Task 30:')  \n",
    "df = pandas.read_csv('/kaggle/input/datasets-for-pandas/data1.csv', sep=';') \n",
    "print(df[-4:])"
   ]
  },
  {
   "cell_type": "markdown",
   "metadata": {
    "papermill": {
     "duration": 0.089069,
     "end_time": "2020-09-20T02:35:24.026124",
     "exception": false,
     "start_time": "2020-09-20T02:35:23.937055",
     "status": "completed"
    },
    "tags": []
   },
   "source": [
    "<div style=\"\">\n",
    "    <div style=\"float: left; width: 80%;\">\n",
    "        <a id=\"31\"></a>\n",
    "        <font><b>Task 31:</b></font>\n",
    "        <br><br>\n",
    "        Expanding Apply\n",
    "    </div>\n",
    "    <div style=\"float: right;\">\n",
    "        <a href=\"#top\" class=\"btn btn-primary btn-sm\" role=\"button\" aria-pressed=\"true\" style=\"color:white\" data-toggle=\"popover\" title=\"go to Top\">Go to Top</a>\n",
    "    </div>\n",
    "    <br style=\"clear: left;\" />\n",
    "</div> "
   ]
  },
  {
   "cell_type": "code",
   "execution_count": 34,
   "metadata": {
    "execution": {
     "iopub.execute_input": "2020-09-20T02:35:24.210031Z",
     "iopub.status.busy": "2020-09-20T02:35:24.209445Z",
     "iopub.status.idle": "2020-09-20T02:35:24.217574Z",
     "shell.execute_reply": "2020-09-20T02:35:24.216840Z"
    },
    "papermill": {
     "duration": 0.102334,
     "end_time": "2020-09-20T02:35:24.217741",
     "exception": false,
     "start_time": "2020-09-20T02:35:24.115407",
     "status": "completed"
    },
    "tags": []
   },
   "outputs": [
    {
     "name": "stdout",
     "output_type": "stream",
     "text": [
      "Task 31:\n",
      "0    0.01\n",
      "1    0.02\n",
      "2    0.03\n",
      "3    0.04\n",
      "4    0.05\n",
      "dtype: float64\n",
      "0    1.010000\n",
      "1    1.030200\n",
      "2    1.061106\n",
      "3    1.103550\n",
      "4    1.158728\n",
      "dtype: float64\n"
     ]
    }
   ],
   "source": [
    "print('Task 31:')\n",
    "series1 = pd.Series([i / 100.0 for i in range(1,6)])\n",
    "print(series1)\n",
    "def CumRet(x,y):\n",
    "    return x * (1 + y)\n",
    "def Red(x):\n",
    "    return functools.reduce(CumRet,x,1.0)\n",
    "s2 = series1.expanding().apply(Red)\n",
    "# s2 = series1.expanding().apply(Red, raw=True) # is not working\n",
    "print(s2)"
   ]
  },
  {
   "cell_type": "markdown",
   "metadata": {
    "papermill": {
     "duration": 0.089068,
     "end_time": "2020-09-20T02:35:24.397394",
     "exception": false,
     "start_time": "2020-09-20T02:35:24.308326",
     "status": "completed"
    },
    "tags": []
   },
   "source": [
    "<div style=\"\">\n",
    "    <div style=\"float: left; width: 80%;\">\n",
    "        <a id=\"32\"></a>\n",
    "        <font><b>Task 32:</b></font>\n",
    "        <br><br>\n",
    "        Get 3 and 4th row\n",
    "    </div>\n",
    "    <div style=\"float: right;\">\n",
    "        <a href=\"#top\" class=\"btn btn-primary btn-sm\" role=\"button\" aria-pressed=\"true\" style=\"color:white\" data-toggle=\"popover\" title=\"go to Top\">Go to Top</a>\n",
    "    </div>\n",
    "    <br style=\"clear: left;\" />\n",
    "</div> "
   ]
  },
  {
   "cell_type": "code",
   "execution_count": 35,
   "metadata": {
    "execution": {
     "iopub.execute_input": "2020-09-20T02:35:24.581405Z",
     "iopub.status.busy": "2020-09-20T02:35:24.580868Z",
     "iopub.status.idle": "2020-09-20T02:35:24.587052Z",
     "shell.execute_reply": "2020-09-20T02:35:24.587552Z"
    },
    "papermill": {
     "duration": 0.09991,
     "end_time": "2020-09-20T02:35:24.587673",
     "exception": false,
     "start_time": "2020-09-20T02:35:24.487763",
     "status": "completed"
    },
    "tags": []
   },
   "outputs": [
    {
     "name": "stdout",
     "output_type": "stream",
     "text": [
      "Task 32:\n",
      "  capacity,score,length\n",
      "2               3,30,40\n",
      "3               3,40,30\n"
     ]
    }
   ],
   "source": [
    "print('Task 32:')  \n",
    "df = pandas.read_csv('/kaggle/input/datasets-for-pandas/data1.csv', sep=';') \n",
    "print(df[2:4])"
   ]
  },
  {
   "cell_type": "markdown",
   "metadata": {
    "papermill": {
     "duration": 0.088958,
     "end_time": "2020-09-20T02:35:24.765615",
     "exception": false,
     "start_time": "2020-09-20T02:35:24.676657",
     "status": "completed"
    },
    "tags": []
   },
   "source": [
    "<div style=\"\">\n",
    "    <div style=\"float: left; width: 80%;\">\n",
    "        <a id=\"33\"></a>\n",
    "        <font><b>Task 33:</b></font>\n",
    "        <br><br>\n",
    "        Last 4th to 1st\n",
    "    </div>\n",
    "    <div style=\"float: right;\">\n",
    "        <a href=\"#top\" class=\"btn btn-primary btn-sm\" role=\"button\" aria-pressed=\"true\" style=\"color:white\" data-toggle=\"popover\" title=\"go to Top\">Go to Top</a>\n",
    "    </div>\n",
    "    <br style=\"clear: left;\" />\n",
    "</div> "
   ]
  },
  {
   "cell_type": "code",
   "execution_count": 36,
   "metadata": {
    "execution": {
     "iopub.execute_input": "2020-09-20T02:35:24.952257Z",
     "iopub.status.busy": "2020-09-20T02:35:24.951752Z",
     "iopub.status.idle": "2020-09-20T02:35:24.961202Z",
     "shell.execute_reply": "2020-09-20T02:35:24.961611Z"
    },
    "papermill": {
     "duration": 0.10589,
     "end_time": "2020-09-20T02:35:24.961733",
     "exception": false,
     "start_time": "2020-09-20T02:35:24.855843",
     "status": "completed"
    },
    "tags": []
   },
   "outputs": [
    {
     "name": "stdout",
     "output_type": "stream",
     "text": [
      "Task 33:\n",
      "  capacity,score,length\n",
      "5               7,10,23\n",
      "6               3,20,22\n",
      "7               8,20,11\n"
     ]
    }
   ],
   "source": [
    "print('Task 33:')  \n",
    "df = pandas.read_csv('/kaggle/input/datasets-for-pandas/data1.csv', sep=';') \n",
    "print(df[-4:-1])"
   ]
  },
  {
   "cell_type": "markdown",
   "metadata": {
    "papermill": {
     "duration": 0.088766,
     "end_time": "2020-09-20T02:35:25.139845",
     "exception": false,
     "start_time": "2020-09-20T02:35:25.051079",
     "status": "completed"
    },
    "tags": []
   },
   "source": [
    "<div style=\"\">\n",
    "    <div style=\"float: left; width: 80%;\">\n",
    "        <a id=\"34\"></a>\n",
    "        <font><b>Task 34:</b></font>\n",
    "        <br><br>\n",
    "        iloc position slice\n",
    "    </div>\n",
    "    <div style=\"float: right;\">\n",
    "        <a href=\"#top\" class=\"btn btn-primary btn-sm\" role=\"button\" aria-pressed=\"true\" style=\"color:white\" data-toggle=\"popover\" title=\"go to Top\">Go to Top</a>\n",
    "    </div>\n",
    "    <br style=\"clear: left;\" />\n",
    "</div> "
   ]
  },
  {
   "cell_type": "code",
   "execution_count": 37,
   "metadata": {
    "execution": {
     "iopub.execute_input": "2020-09-20T02:35:25.327315Z",
     "iopub.status.busy": "2020-09-20T02:35:25.326528Z",
     "iopub.status.idle": "2020-09-20T02:35:25.329863Z",
     "shell.execute_reply": "2020-09-20T02:35:25.329426Z"
    },
    "papermill": {
     "duration": 0.10125,
     "end_time": "2020-09-20T02:35:25.329961",
     "exception": false,
     "start_time": "2020-09-20T02:35:25.228711",
     "status": "completed"
    },
    "tags": []
   },
   "outputs": [
    {
     "name": "stdout",
     "output_type": "stream",
     "text": [
      "Task 34:\n",
      "  capacity,score,length\n",
      "1               2,20,30\n",
      "2               3,30,40\n",
      "3               3,40,30\n",
      "4               2,30,40\n",
      "5               7,10,23\n",
      "6               3,20,22\n",
      "7               8,20,11\n",
      "8                2,30,2\n"
     ]
    }
   ],
   "source": [
    "print('Task 34:')  \n",
    "df = pandas.read_csv('/kaggle/input/datasets-for-pandas/data1.csv', sep=';') \n",
    "print(df.iloc[1:9])"
   ]
  },
  {
   "cell_type": "markdown",
   "metadata": {
    "papermill": {
     "duration": 0.090433,
     "end_time": "2020-09-20T02:35:25.510208",
     "exception": false,
     "start_time": "2020-09-20T02:35:25.419775",
     "status": "completed"
    },
    "tags": []
   },
   "source": [
    "<div style=\"\">\n",
    "    <div style=\"float: left; width: 80%;\">\n",
    "        <a id=\"35\"></a>\n",
    "        <font><b>Task 35:</b></font>\n",
    "        <br><br>\n",
    "        Loc - iloc - ix - at - iat\n",
    "    </div>\n",
    "    <div style=\"float: right;\">\n",
    "        <a href=\"#top\" class=\"btn btn-primary btn-sm\" role=\"button\" aria-pressed=\"true\" style=\"color:white\" data-toggle=\"popover\" title=\"go to Top\">Go to Top</a>\n",
    "    </div>\n",
    "    <br style=\"clear: left;\" />\n",
    "</div>"
   ]
  },
  {
   "cell_type": "code",
   "execution_count": 38,
   "metadata": {
    "execution": {
     "iopub.execute_input": "2020-09-20T02:35:25.707119Z",
     "iopub.status.busy": "2020-09-20T02:35:25.706555Z",
     "iopub.status.idle": "2020-09-20T02:35:25.710162Z",
     "shell.execute_reply": "2020-09-20T02:35:25.709527Z"
    },
    "papermill": {
     "duration": 0.109659,
     "end_time": "2020-09-20T02:35:25.710309",
     "exception": false,
     "start_time": "2020-09-20T02:35:25.600650",
     "status": "completed"
    },
    "tags": []
   },
   "outputs": [
    {
     "name": "stdout",
     "output_type": "stream",
     "text": [
      "Task 35:\n"
     ]
    }
   ],
   "source": [
    "print('Task 35:')  \n",
    "df = pandas.read_csv('/kaggle/input/datasets-for-pandas/data1.csv', sep=';')"
   ]
  },
  {
   "cell_type": "markdown",
   "metadata": {
    "papermill": {
     "duration": 0.091652,
     "end_time": "2020-09-20T02:35:25.897444",
     "exception": false,
     "start_time": "2020-09-20T02:35:25.805792",
     "status": "completed"
    },
    "tags": []
   },
   "source": [
    "<div style=\"\">\n",
    "    <div style=\"float: left; width: 80%;\">\n",
    "        <a id=\"36\"></a>\n",
    "        <font><b>Task 36:</b></font>\n",
    "        <br><br>\n",
    "        Random data\n",
    "    </div>\n",
    "    <div style=\"float: right;\">\n",
    "        <a href=\"#top\" class=\"btn btn-primary btn-sm\" role=\"button\" aria-pressed=\"true\" style=\"color:white\" data-toggle=\"popover\" title=\"go to Top\">Go to Top</a>\n",
    "    </div>\n",
    "    <br style=\"clear: left;\" />\n",
    "</div> "
   ]
  },
  {
   "cell_type": "code",
   "execution_count": 39,
   "metadata": {
    "execution": {
     "iopub.execute_input": "2020-09-20T02:35:26.092444Z",
     "iopub.status.busy": "2020-09-20T02:35:26.091787Z",
     "iopub.status.idle": "2020-09-20T02:35:26.107039Z",
     "shell.execute_reply": "2020-09-20T02:35:26.107434Z"
    },
    "papermill": {
     "duration": 0.11837,
     "end_time": "2020-09-20T02:35:26.107570",
     "exception": false,
     "start_time": "2020-09-20T02:35:25.989200",
     "status": "completed"
    },
    "tags": []
   },
   "outputs": [
    {
     "name": "stdout",
     "output_type": "stream",
     "text": [
      "Task 36:\n",
      "1000\n"
     ]
    },
    {
     "data": {
      "text/html": [
       "<div>\n",
       "<style scoped>\n",
       "    .dataframe tbody tr th:only-of-type {\n",
       "        vertical-align: middle;\n",
       "    }\n",
       "\n",
       "    .dataframe tbody tr th {\n",
       "        vertical-align: top;\n",
       "    }\n",
       "\n",
       "    .dataframe thead th {\n",
       "        text-align: right;\n",
       "    }\n",
       "</style>\n",
       "<table border=\"1\" class=\"dataframe\">\n",
       "  <thead>\n",
       "    <tr style=\"text-align: right;\">\n",
       "      <th></th>\n",
       "      <th>date</th>\n",
       "      <th>rnd_1</th>\n",
       "      <th>rnd_2</th>\n",
       "      <th>rnd_3</th>\n",
       "    </tr>\n",
       "  </thead>\n",
       "  <tbody>\n",
       "    <tr>\n",
       "      <th>0</th>\n",
       "      <td>2012-04-10</td>\n",
       "      <td>18</td>\n",
       "      <td>11</td>\n",
       "      <td>15</td>\n",
       "    </tr>\n",
       "    <tr>\n",
       "      <th>1</th>\n",
       "      <td>2012-04-11</td>\n",
       "      <td>12</td>\n",
       "      <td>7</td>\n",
       "      <td>2</td>\n",
       "    </tr>\n",
       "    <tr>\n",
       "      <th>2</th>\n",
       "      <td>2012-04-12</td>\n",
       "      <td>9</td>\n",
       "      <td>3</td>\n",
       "      <td>6</td>\n",
       "    </tr>\n",
       "    <tr>\n",
       "      <th>3</th>\n",
       "      <td>2012-04-13</td>\n",
       "      <td>10</td>\n",
       "      <td>10</td>\n",
       "      <td>11</td>\n",
       "    </tr>\n",
       "    <tr>\n",
       "      <th>4</th>\n",
       "      <td>2012-04-14</td>\n",
       "      <td>13</td>\n",
       "      <td>19</td>\n",
       "      <td>14</td>\n",
       "    </tr>\n",
       "  </tbody>\n",
       "</table>\n",
       "</div>"
      ],
      "text/plain": [
       "        date  rnd_1  rnd_2  rnd_3\n",
       "0 2012-04-10     18     11     15\n",
       "1 2012-04-11     12      7      2\n",
       "2 2012-04-12      9      3      6\n",
       "3 2012-04-13     10     10     11\n",
       "4 2012-04-14     13     19     14"
      ]
     },
     "execution_count": 39,
     "metadata": {},
     "output_type": "execute_result"
    }
   ],
   "source": [
    "print('Task 36:')  \n",
    "def xrange(x):\n",
    "    return iter(range(x))\n",
    "\n",
    "rnd_1  =  [ rn.randrange ( 1 , 20 )  for  x  in  xrange ( 1000 )] \n",
    "rnd_2  =  [ rn.randrange ( 1 , 20 )  for  x  in  xrange ( 1000 )] \n",
    "rnd_3  =  [ rn.randrange ( 1 , 20 )  for  x in  xrange ( 1000 )] \n",
    "date  =  pd . date_range ( '2012-4-10' ,  '2015-1-4' )\n",
    "print(len(date))\n",
    "data  =  pd . DataFrame ({ 'date' : date ,  'rnd_1' :  rnd_1 ,  'rnd_2' :  rnd_2 ,  'rnd_3' :  rnd_3 })\n",
    "\n",
    "data.head()"
   ]
  },
  {
   "cell_type": "markdown",
   "metadata": {
    "papermill": {
     "duration": 0.091756,
     "end_time": "2020-09-20T02:35:26.291527",
     "exception": false,
     "start_time": "2020-09-20T02:35:26.199771",
     "status": "completed"
    },
    "tags": []
   },
   "source": [
    "<div style=\"\">\n",
    "    <div style=\"float: left; width: 80%;\">\n",
    "        <a id=\"37\"></a>\n",
    "        <font><b>Task 37:</b></font>\n",
    "        <br><br>\n",
    "        Filter with the value comparison\n",
    "    </div>\n",
    "    <div style=\"float: right;\">\n",
    "        <a href=\"#top\" class=\"btn btn-primary btn-sm\" role=\"button\" aria-pressed=\"true\" style=\"color:white\" data-toggle=\"popover\" title=\"go to Top\">Go to Top</a>\n",
    "    </div>\n",
    "    <br style=\"clear: left;\" />\n",
    "</div> "
   ]
  },
  {
   "cell_type": "code",
   "execution_count": 40,
   "metadata": {
    "execution": {
     "iopub.execute_input": "2020-09-20T02:35:26.485513Z",
     "iopub.status.busy": "2020-09-20T02:35:26.484915Z",
     "iopub.status.idle": "2020-09-20T02:35:26.488053Z",
     "shell.execute_reply": "2020-09-20T02:35:26.488484Z"
    },
    "papermill": {
     "duration": 0.105122,
     "end_time": "2020-09-20T02:35:26.488610",
     "exception": false,
     "start_time": "2020-09-20T02:35:26.383488",
     "status": "completed"
    },
    "tags": []
   },
   "outputs": [
    {
     "name": "stdout",
     "output_type": "stream",
     "text": [
      "Task 37:\n",
      "          date  rnd_1  rnd_2  rnd_3\n",
      "0   2012-04-10     18     11     15\n",
      "1   2012-04-11     12      7      2\n",
      "2   2012-04-12      9      3      6\n",
      "3   2012-04-13     10     10     11\n",
      "4   2012-04-14     13     19     14\n",
      "..         ...    ...    ...    ...\n",
      "995 2014-12-31     11     17      7\n",
      "996 2015-01-01     14     11     10\n",
      "997 2015-01-02      9      5      5\n",
      "998 2015-01-03     10     13      4\n",
      "999 2015-01-04      7     12      6\n",
      "\n",
      "[1000 rows x 4 columns]\n"
     ]
    }
   ],
   "source": [
    "print('Task 37:')\n",
    "below_20 = data[data['rnd_1'] < 20]    \n",
    "print(below_20)"
   ]
  },
  {
   "cell_type": "markdown",
   "metadata": {
    "papermill": {
     "duration": 0.092125,
     "end_time": "2020-09-20T02:35:26.672783",
     "exception": false,
     "start_time": "2020-09-20T02:35:26.580658",
     "status": "completed"
    },
    "tags": []
   },
   "source": [
    "<div style=\"\">\n",
    "    <div style=\"float: left; width: 80%;\">\n",
    "        <a id=\"38\"></a>\n",
    "        <font><b>Task 38:</b></font>\n",
    "        <br><br>\n",
    "        Filter between 5 and 10 on col 1\n",
    "    </div>\n",
    "    <div style=\"float: right;\">\n",
    "        <a href=\"#top\" class=\"btn btn-primary btn-sm\" role=\"button\" aria-pressed=\"true\" style=\"color:white\" data-toggle=\"popover\" title=\"go to Top\">Go to Top</a>\n",
    "    </div>\n",
    "    <br style=\"clear: left;\" />\n",
    "</div> "
   ]
  },
  {
   "cell_type": "code",
   "execution_count": 41,
   "metadata": {
    "execution": {
     "iopub.execute_input": "2020-09-20T02:35:26.905613Z",
     "iopub.status.busy": "2020-09-20T02:35:26.904205Z",
     "iopub.status.idle": "2020-09-20T02:35:26.908372Z",
     "shell.execute_reply": "2020-09-20T02:35:26.908778Z"
    },
    "papermill": {
     "duration": 0.109469,
     "end_time": "2020-09-20T02:35:26.908892",
     "exception": false,
     "start_time": "2020-09-20T02:35:26.799423",
     "status": "completed"
    },
    "tags": []
   },
   "outputs": [
    {
     "name": "stdout",
     "output_type": "stream",
     "text": [
      "Task 38:\n",
      "1000\n"
     ]
    }
   ],
   "source": [
    "print('Task 38:') \n",
    "def xrange(x):\n",
    "    return iter(range(x))\n",
    "rnd_1  =  [ rn.randrange ( 1 , 20 )  for  x  in  xrange ( 1000 )] \n",
    "rnd_2  =  [ rn.randrange ( 1 , 20 )  for  x  in  xrange ( 1000 )] \n",
    "rnd_3  =  [ rn.randrange ( 1 , 20 )  for  x in  xrange ( 1000 )] \n",
    "date  =  pd . date_range ( '2012-4-10' ,  '2015-1-4' )\n",
    "print(len(date))\n",
    "data  =  pd . DataFrame ({ 'date' : date ,  'rnd_1' :  rnd_1 ,  'rnd_2' :  rnd_2 ,  'rnd_3' :  rnd_3 })\n",
    "below_20 = data[data['rnd_1'] < 20]\n",
    "ten_to_20 = data[(data['rnd_1'] >= 5) & (data['rnd_1'] < 10)]\n",
    "#print(ten_to_20)"
   ]
  },
  {
   "cell_type": "markdown",
   "metadata": {
    "papermill": {
     "duration": 0.091353,
     "end_time": "2020-09-20T02:35:27.093711",
     "exception": false,
     "start_time": "2020-09-20T02:35:27.002358",
     "status": "completed"
    },
    "tags": []
   },
   "source": [
    "<div style=\"\">\n",
    "    <div style=\"float: left; width: 80%;\">\n",
    "        <a id=\"39\"></a>\n",
    "        <font><b>Task 39:</b></font>\n",
    "        <br><br>\n",
    "        Filter between 15 to 20\n",
    "    </div>\n",
    "    <div style=\"float: right;\">\n",
    "        <a href=\"#top\" class=\"btn btn-primary btn-sm\" role=\"button\" aria-pressed=\"true\" style=\"color:white\" data-toggle=\"popover\" title=\"go to Top\">Go to Top</a>\n",
    "    </div>\n",
    "    <br style=\"clear: left;\" />\n",
    "</div> "
   ]
  },
  {
   "cell_type": "code",
   "execution_count": 42,
   "metadata": {
    "execution": {
     "iopub.execute_input": "2020-09-20T02:35:27.287957Z",
     "iopub.status.busy": "2020-09-20T02:35:27.287408Z",
     "iopub.status.idle": "2020-09-20T02:35:27.290816Z",
     "shell.execute_reply": "2020-09-20T02:35:27.290410Z"
    },
    "papermill": {
     "duration": 0.105346,
     "end_time": "2020-09-20T02:35:27.290910",
     "exception": false,
     "start_time": "2020-09-20T02:35:27.185564",
     "status": "completed"
    },
    "tags": []
   },
   "outputs": [
    {
     "name": "stdout",
     "output_type": "stream",
     "text": [
      "Task 39:\n",
      "         date  rnd_1  rnd_2  rnd_3\n",
      "1  2018-08-02     16     13     14\n",
      "2  2018-08-03     18      3      4\n",
      "12 2018-08-13     19      6      6\n",
      "14 2018-08-15     19      9      8\n"
     ]
    }
   ],
   "source": [
    "print('Task 39:')      \n",
    "date  =  pd . date_range ( '2018-08-01' ,  '2018-08-15' )\n",
    "date_count = len(date)\n",
    "\n",
    "def fill_rand(start, end, count):\n",
    "    return [rn.randrange(1, 20 ) for x in xrange( count )]\n",
    "\n",
    "rnd_1 = fill_rand(1, 20, date_count) \n",
    "rnd_2 = fill_rand(1, 20, date_count) \n",
    "rnd_3 = fill_rand(1, 20, date_count)\n",
    "#print(len(date))\n",
    "data  =  pd . DataFrame ({ 'date' : date ,  'rnd_1' :  rnd_1 ,  'rnd_2' :  rnd_2 ,  'rnd_3' :  rnd_3 })\n",
    "#print(len(date))\n",
    "ten_to_20 = data[(data['rnd_1'] >= 15) & (data['rnd_1'] < 20)]\n",
    "print(ten_to_20)"
   ]
  },
  {
   "cell_type": "markdown",
   "metadata": {
    "papermill": {
     "duration": 0.0917,
     "end_time": "2020-09-20T02:35:27.474321",
     "exception": false,
     "start_time": "2020-09-20T02:35:27.382621",
     "status": "completed"
    },
    "tags": []
   },
   "source": [
    "<div style=\"\">\n",
    "    <div style=\"float: left; width: 80%;\">\n",
    "        <a id=\"40\"></a>\n",
    "        <font><b>Task 40:</b></font>\n",
    "        <br><br>\n",
    "        15 to 33\n",
    "    </div>\n",
    "    <div style=\"float: right;\">\n",
    "        <a href=\"#top\" class=\"btn btn-primary btn-sm\" role=\"button\" aria-pressed=\"true\" style=\"color:white\" data-toggle=\"popover\" title=\"go to Top\">Go to Top</a>\n",
    "    </div>\n",
    "    <br style=\"clear: left;\" />\n",
    "</div>"
   ]
  },
  {
   "cell_type": "code",
   "execution_count": 43,
   "metadata": {
    "execution": {
     "iopub.execute_input": "2020-09-20T02:35:27.671312Z",
     "iopub.status.busy": "2020-09-20T02:35:27.670731Z",
     "iopub.status.idle": "2020-09-20T02:35:27.673430Z",
     "shell.execute_reply": "2020-09-20T02:35:27.674092Z"
    },
    "papermill": {
     "duration": 0.10837,
     "end_time": "2020-09-20T02:35:27.674222",
     "exception": false,
     "start_time": "2020-09-20T02:35:27.565852",
     "status": "completed"
    },
    "tags": []
   },
   "outputs": [
    {
     "name": "stdout",
     "output_type": "stream",
     "text": [
      "Task 40:\n",
      "         date  rnd_1  rnd_2  rnd_3\n",
      "1  2018-08-02     15      8     18\n",
      "3  2018-08-04     15      3      4\n",
      "7  2018-08-08     18     10     15\n",
      "8  2018-08-09     17     17     19\n",
      "12 2018-08-13     18      7     15\n"
     ]
    }
   ],
   "source": [
    "print('Task 40:')      \n",
    "date  =  pd . date_range ( '2018-08-01' ,  '2018-08-15' )\n",
    "date_count = len(date)\n",
    "\n",
    "def fill_rand(start, end, count):\n",
    "    return [rn.randrange(1, 20 ) for x in xrange( count )]\n",
    "\n",
    "rnd_1 = fill_rand(1, 20, date_count) \n",
    "rnd_2 = fill_rand(1, 20, date_count) \n",
    "rnd_3 = fill_rand(1, 20, date_count)\n",
    "\n",
    "data  =  pd . DataFrame ({ 'date' : date ,  'rnd_1' :  rnd_1 ,  'rnd_2' :  rnd_2 ,  'rnd_3' :  rnd_3 })\n",
    "\n",
    "ten_to_20 = data[(data['rnd_1'] >= 15) & (data['rnd_1'] < 33)]\n",
    "print(ten_to_20)"
   ]
  },
  {
   "cell_type": "markdown",
   "metadata": {
    "papermill": {
     "duration": 0.09291,
     "end_time": "2020-09-20T02:35:27.859470",
     "exception": false,
     "start_time": "2020-09-20T02:35:27.766560",
     "status": "completed"
    },
    "tags": []
   },
   "source": [
    "<div style=\"\">\n",
    "    <div style=\"float: left; width: 80%;\">\n",
    "        <a id=\"41\"></a>\n",
    "        <font><b>Task 41:</b></font>\n",
    "        <br><br>\n",
    "        Custom method and xrnage on dataframe\n",
    "    </div>\n",
    "    <div style=\"float: right;\">\n",
    "        <a href=\"#top\" class=\"btn btn-primary btn-sm\" role=\"button\" aria-pressed=\"true\" style=\"color:white\" data-toggle=\"popover\" title=\"go to Top\">Go to Top</a>\n",
    "    </div>\n",
    "    <br style=\"clear: left;\" />\n",
    "</div> "
   ]
  },
  {
   "cell_type": "code",
   "execution_count": 44,
   "metadata": {
    "execution": {
     "iopub.execute_input": "2020-09-20T02:35:28.046708Z",
     "iopub.status.busy": "2020-09-20T02:35:28.046156Z",
     "iopub.status.idle": "2020-09-20T02:35:28.060804Z",
     "shell.execute_reply": "2020-09-20T02:35:28.060392Z"
    },
    "papermill": {
     "duration": 0.108867,
     "end_time": "2020-09-20T02:35:28.060904",
     "exception": false,
     "start_time": "2020-09-20T02:35:27.952037",
     "status": "completed"
    },
    "tags": []
   },
   "outputs": [
    {
     "name": "stdout",
     "output_type": "stream",
     "text": [
      "Task 41:\n",
      "   rnd_2       date\n",
      "2     13 2018-08-03\n",
      "3      5 2018-08-04\n",
      "4      4 2018-08-05\n"
     ]
    }
   ],
   "source": [
    "print('Task 41:')  \n",
    "date  =  pd . date_range ( '2018-08-01' ,  '2018-08-15' )\n",
    "date_count = len(date)\n",
    "\n",
    "def xrange(x):\n",
    "    return iter(range(x))\n",
    "\n",
    "def fill_rand(start, end, count):\n",
    "    return [rn.randrange(1, 20 ) for x in xrange( count )]\n",
    "\n",
    "rnd_1 = fill_rand(1, 20, date_count) \n",
    "rnd_2 = fill_rand(1, 20, date_count) \n",
    "rnd_3 = fill_rand(1, 20, date_count)\n",
    "\n",
    "data  =  pd . DataFrame ({ 'date' : date ,  'rnd_1' :  rnd_1 ,  'rnd_2' :  rnd_2 ,  'rnd_3' :  rnd_3 })\n",
    "filter_loc = data.loc[ 2 : 4 ,  [ 'rnd_2' ,  'date' ]]\n",
    "print(filter_loc)"
   ]
  },
  {
   "cell_type": "markdown",
   "metadata": {
    "papermill": {
     "duration": 0.092136,
     "end_time": "2020-09-20T02:35:28.245364",
     "exception": false,
     "start_time": "2020-09-20T02:35:28.153228",
     "status": "completed"
    },
    "tags": []
   },
   "source": [
    "<div style=\"\">\n",
    "    <div style=\"float: left; width: 80%;\">\n",
    "        <a id=\"42\"></a>\n",
    "        <font><b>Task 42:</b></font>\n",
    "        <br><br>\n",
    "        Set index with date column\n",
    "    </div>\n",
    "    <div style=\"float: right;\">\n",
    "        <a href=\"#top\" class=\"btn btn-primary btn-sm\" role=\"button\" aria-pressed=\"true\" style=\"color:white\" data-toggle=\"popover\" title=\"go to Top\">Go to Top</a>\n",
    "    </div>\n",
    "    <br style=\"clear: left;\" />\n",
    "</div> "
   ]
  },
  {
   "cell_type": "code",
   "execution_count": 45,
   "metadata": {
    "execution": {
     "iopub.execute_input": "2020-09-20T02:35:28.437585Z",
     "iopub.status.busy": "2020-09-20T02:35:28.435129Z",
     "iopub.status.idle": "2020-09-20T02:35:28.440593Z",
     "shell.execute_reply": "2020-09-20T02:35:28.441007Z"
    },
    "papermill": {
     "duration": 0.102293,
     "end_time": "2020-09-20T02:35:28.441134",
     "exception": false,
     "start_time": "2020-09-20T02:35:28.338841",
     "status": "completed"
    },
    "tags": []
   },
   "outputs": [
    {
     "name": "stdout",
     "output_type": "stream",
     "text": [
      "Task 42:\n",
      "            rnd_1  rnd_2  rnd_3\n",
      "date                           \n",
      "2018-08-01     16      5      8\n",
      "2018-08-02      6      2     10\n",
      "2018-08-03      8     13      6\n",
      "2018-08-04     12      5      5\n",
      "2018-08-05     15      4      9\n"
     ]
    }
   ],
   "source": [
    "print('Task 42:')\n",
    "date_date = data.set_index( 'date' ) \n",
    "print(date_date.head())"
   ]
  },
  {
   "cell_type": "markdown",
   "metadata": {
    "papermill": {
     "duration": 0.091157,
     "end_time": "2020-09-20T02:35:28.624481",
     "exception": false,
     "start_time": "2020-09-20T02:35:28.533324",
     "status": "completed"
    },
    "tags": []
   },
   "source": [
    "<div style=\"\">\n",
    "    <div style=\"float: left; width: 80%;\">\n",
    "        <a id=\"43\"></a>\n",
    "        <font><b>Task 43:</b></font>\n",
    "        <br><br>\n",
    "        Change columns based on other columns\n",
    "    </div>\n",
    "    <div style=\"float: right;\">\n",
    "        <a href=\"#top\" class=\"btn btn-primary btn-sm\" role=\"button\" aria-pressed=\"true\" style=\"color:white\" data-toggle=\"popover\" title=\"go to Top\">Go to Top</a>\n",
    "    </div>\n",
    "    <br style=\"clear: left;\" />\n",
    "</div> "
   ]
  },
  {
   "cell_type": "code",
   "execution_count": 46,
   "metadata": {
    "execution": {
     "iopub.execute_input": "2020-09-20T02:35:28.820263Z",
     "iopub.status.busy": "2020-09-20T02:35:28.819705Z",
     "iopub.status.idle": "2020-09-20T02:35:28.823311Z",
     "shell.execute_reply": "2020-09-20T02:35:28.822545Z"
    },
    "papermill": {
     "duration": 0.106518,
     "end_time": "2020-09-20T02:35:28.823486",
     "exception": false,
     "start_time": "2020-09-20T02:35:28.716968",
     "status": "completed"
    },
    "tags": []
   },
   "outputs": [
    {
     "name": "stdout",
     "output_type": "stream",
     "text": [
      "Task 43:\n",
      "   a  b   c\n",
      "0  1  9  11\n",
      "1  2  8  12\n",
      "2  3  7  13\n",
      "3  4  6  14\n",
      "changing on one column\n",
      "   a  b   c\n",
      "0  1  9  11\n",
      "1  2  9  12\n",
      "2  3  9  13\n",
      "3  4  9  14\n"
     ]
    }
   ],
   "source": [
    "print('Task 43:') \n",
    "df = pd.DataFrame({\n",
    "    'a' : [1,2,3,4], \n",
    "    'b' : [9,8,7,6],\n",
    "    'c' : [11,12,13,14]\n",
    "});\n",
    "print(df) \n",
    "\n",
    "print('changing on one column')\n",
    "# Change columns\n",
    "df.loc[df.a >= 2,'b'] = 9\n",
    "print(df)"
   ]
  },
  {
   "cell_type": "markdown",
   "metadata": {
    "papermill": {
     "duration": 0.094353,
     "end_time": "2020-09-20T02:35:29.013127",
     "exception": false,
     "start_time": "2020-09-20T02:35:28.918774",
     "status": "completed"
    },
    "tags": []
   },
   "source": [
    "<div style=\"\">\n",
    "    <div style=\"float: left; width: 80%;\">\n",
    "        <a id=\"44\"></a>\n",
    "        <font><b>Task 44:</b></font>\n",
    "        <br><br>\n",
    "        Change multiple columns based on one column values\n",
    "    </div>\n",
    "    <div style=\"float: right;\">\n",
    "        <a href=\"#top\" class=\"btn btn-primary btn-sm\" role=\"button\" aria-pressed=\"true\" style=\"color:white\" data-toggle=\"popover\" title=\"go to Top\">Go to Top</a>\n",
    "    </div>\n",
    "    <br style=\"clear: left;\" />\n",
    "</div> "
   ]
  },
  {
   "cell_type": "code",
   "execution_count": 47,
   "metadata": {
    "execution": {
     "iopub.execute_input": "2020-09-20T02:35:29.206539Z",
     "iopub.status.busy": "2020-09-20T02:35:29.205970Z",
     "iopub.status.idle": "2020-09-20T02:35:29.208625Z",
     "shell.execute_reply": "2020-09-20T02:35:29.209021Z"
    },
    "papermill": {
     "duration": 0.103095,
     "end_time": "2020-09-20T02:35:29.209161",
     "exception": false,
     "start_time": "2020-09-20T02:35:29.106066",
     "status": "completed"
    },
    "tags": []
   },
   "outputs": [
    {
     "name": "stdout",
     "output_type": "stream",
     "text": [
      "Task 44:\n",
      "changing on multipe columns\n",
      "   a   b   c\n",
      "0  1   9  11\n",
      "1  2   9  12\n",
      "2  3  45  45\n",
      "3  4  45  45\n"
     ]
    }
   ],
   "source": [
    "print('Task 44:')  \n",
    "print('changing on multipe columns')\n",
    "df.loc[df.a > 2,['b', 'c']] = 45\n",
    "print(df)"
   ]
  },
  {
   "cell_type": "markdown",
   "metadata": {
    "papermill": {
     "duration": 0.117952,
     "end_time": "2020-09-20T02:35:29.420708",
     "exception": false,
     "start_time": "2020-09-20T02:35:29.302756",
     "status": "completed"
    },
    "tags": []
   },
   "source": [
    "<div style=\"\">\n",
    "    <div style=\"float: left; width: 80%;\">\n",
    "        <a id=\"45\"></a>\n",
    "        <font><b>Task 45:</b></font>\n",
    "        <br><br>\n",
    "        Pandas Mask\n",
    "    </div>\n",
    "    <div style=\"float: right;\">\n",
    "        <a href=\"#top\" class=\"btn btn-primary btn-sm\" role=\"button\" aria-pressed=\"true\" style=\"color:white\" data-toggle=\"popover\" title=\"go to Top\">Go to Top</a>\n",
    "    </div>\n",
    "    <br style=\"clear: left;\" />\n",
    "</div>"
   ]
  },
  {
   "cell_type": "code",
   "execution_count": 48,
   "metadata": {
    "execution": {
     "iopub.execute_input": "2020-09-20T02:35:29.620851Z",
     "iopub.status.busy": "2020-09-20T02:35:29.620041Z",
     "iopub.status.idle": "2020-09-20T02:35:29.623360Z",
     "shell.execute_reply": "2020-09-20T02:35:29.623735Z"
    },
    "papermill": {
     "duration": 0.106913,
     "end_time": "2020-09-20T02:35:29.623862",
     "exception": false,
     "start_time": "2020-09-20T02:35:29.516949",
     "status": "completed"
    },
    "tags": []
   },
   "outputs": [
    {
     "name": "stdout",
     "output_type": "stream",
     "text": [
      "Task 45:\n",
      "   a   b   c\n",
      "0  1   9  11\n",
      "1  2   9  12\n",
      "2  3  45  45\n",
      "3  4  45  45\n",
      "   a     b     c\n",
      "0  1 -1000    11\n",
      "1  2 -1000 -1000\n",
      "2  3 -1000    45\n",
      "3  4 -1000 -1000\n"
     ]
    }
   ],
   "source": [
    "print('Task 45:')  \n",
    "print(df)\n",
    "df_mask = pd.DataFrame({\n",
    "    'a' : [True] * 4, \n",
    "    'b' : [False] * 4,\n",
    "    'c' : [True, False] * 2\n",
    "})\n",
    "print(df.where(df_mask,-1000))"
   ]
  },
  {
   "cell_type": "markdown",
   "metadata": {
    "papermill": {
     "duration": 0.093441,
     "end_time": "2020-09-20T02:35:29.811022",
     "exception": false,
     "start_time": "2020-09-20T02:35:29.717581",
     "status": "completed"
    },
    "tags": []
   },
   "source": [
    "<div style=\"\">\n",
    "    <div style=\"float: left; width: 80%;\">\n",
    "        <a id=\"46\"></a>\n",
    "        <font><b>Task 46:</b></font>\n",
    "        <br><br>\n",
    "        Check high or low comparing the column against 5\n",
    "    </div>\n",
    "    <div style=\"float: right;\">\n",
    "        <a href=\"#top\" class=\"btn btn-primary btn-sm\" role=\"button\" aria-pressed=\"true\" style=\"color:white\" data-toggle=\"popover\" title=\"go to Top\">Go to Top</a>\n",
    "    </div>\n",
    "    <br style=\"clear: left;\" />\n",
    "</div>"
   ]
  },
  {
   "cell_type": "code",
   "execution_count": 49,
   "metadata": {
    "execution": {
     "iopub.execute_input": "2020-09-20T02:35:30.004307Z",
     "iopub.status.busy": "2020-09-20T02:35:30.003459Z",
     "iopub.status.idle": "2020-09-20T02:35:30.013149Z",
     "shell.execute_reply": "2020-09-20T02:35:30.013603Z"
    },
    "papermill": {
     "duration": 0.108681,
     "end_time": "2020-09-20T02:35:30.013733",
     "exception": false,
     "start_time": "2020-09-20T02:35:29.905052",
     "status": "completed"
    },
    "tags": []
   },
   "outputs": [
    {
     "name": "stdout",
     "output_type": "stream",
     "text": [
      "Task 46:\n",
      "   a   b   c\n",
      "0  1   9  11\n",
      "1  2   9  12\n",
      "2  3  45  45\n",
      "3  4  45  45\n",
      "   a   b   c logic\n",
      "0  1   9  11   low\n",
      "1  2   9  12   low\n",
      "2  3  45  45   low\n",
      "3  4  45  45   low\n"
     ]
    }
   ],
   "source": [
    "print('Task 46:')\n",
    "print(df)  \n",
    "df['logic'] = np.where(df['a'] > 5, 'high', 'low')\n",
    "print(df)"
   ]
  },
  {
   "cell_type": "markdown",
   "metadata": {
    "papermill": {
     "duration": 0.093601,
     "end_time": "2020-09-20T02:35:30.201162",
     "exception": false,
     "start_time": "2020-09-20T02:35:30.107561",
     "status": "completed"
    },
    "tags": []
   },
   "source": [
    "<div style=\"\">\n",
    "    <div style=\"float: left; width: 80%;\">\n",
    "        <a id=\"47\"></a>\n",
    "        <font><b>Task 47:</b></font>\n",
    "        <br><br>\n",
    "        Student Marks (Pass or Fail)\n",
    "    </div>\n",
    "    <div style=\"float: right;\">\n",
    "        <a href=\"#top\" class=\"btn btn-primary btn-sm\" role=\"button\" aria-pressed=\"true\" style=\"color:white\" data-toggle=\"popover\" title=\"go to Top\">Go to Top</a>\n",
    "    </div>\n",
    "    <br style=\"clear: left;\" />\n",
    "</div>"
   ]
  },
  {
   "cell_type": "code",
   "execution_count": 50,
   "metadata": {
    "execution": {
     "iopub.execute_input": "2020-09-20T02:35:30.404032Z",
     "iopub.status.busy": "2020-09-20T02:35:30.403243Z",
     "iopub.status.idle": "2020-09-20T02:35:30.406692Z",
     "shell.execute_reply": "2020-09-20T02:35:30.406150Z"
    },
    "papermill": {
     "duration": 0.110808,
     "end_time": "2020-09-20T02:35:30.406790",
     "exception": false,
     "start_time": "2020-09-20T02:35:30.295982",
     "status": "completed"
    },
    "tags": []
   },
   "outputs": [
    {
     "name": "stdout",
     "output_type": "stream",
     "text": [
      "Task 47:\n",
      "   Language  Math  Science\n",
      "0        60    90       45\n",
      "1        45    80       90\n",
      "2        78    23       95\n",
      "3         4    60       20\n",
      "   Language  Math  Science language_grade math_grade science_grade\n",
      "0        60    90       45           Pass       Pass          Fail\n",
      "1        45    80       90           Fail       Pass          Pass\n",
      "2        78    23       95           Pass       Fail          Pass\n",
      "3         4    60       20           Fail       Pass          Fail\n"
     ]
    }
   ],
   "source": [
    "print('Task 47:')\n",
    "marks_df = pd.DataFrame({\n",
    "    'Language' : [60, 45, 78, 4], \n",
    "    'Math' : [90, 80, 23, 60],\n",
    "    'Science' : [45, 90, 95, 20]\n",
    "});\n",
    "print(marks_df)\n",
    "marks_df['language_grade'] = np.where(marks_df['Language'] >= 50, 'Pass', 'Fail')\n",
    "marks_df['math_grade'] = np.where(marks_df['Math'] >= 50, 'Pass', 'Fail')\n",
    "marks_df['science_grade'] = np.where(marks_df['Science'] >= 50, 'Pass', 'Fail')\n",
    "print(marks_df)"
   ]
  },
  {
   "cell_type": "markdown",
   "metadata": {
    "papermill": {
     "duration": 0.094213,
     "end_time": "2020-09-20T02:35:30.596541",
     "exception": false,
     "start_time": "2020-09-20T02:35:30.502328",
     "status": "completed"
    },
    "tags": []
   },
   "source": [
    "<div style=\"\">\n",
    "    <div style=\"float: left; width: 80%;\">\n",
    "        <a id=\"48\"></a>\n",
    "        <font><b>Task 48:</b></font>\n",
    "        <br><br>\n",
    "        Get passed grades\n",
    "    </div>\n",
    "    <div style=\"float: right;\">\n",
    "        <a href=\"#top\" class=\"btn btn-primary btn-sm\" role=\"button\" aria-pressed=\"true\" style=\"color:white\" data-toggle=\"popover\" title=\"go to Top\">Go to Top</a>\n",
    "    </div>\n",
    "    <br style=\"clear: left;\" />\n",
    "</div>"
   ]
  },
  {
   "cell_type": "code",
   "execution_count": 51,
   "metadata": {
    "execution": {
     "iopub.execute_input": "2020-09-20T02:35:30.789256Z",
     "iopub.status.busy": "2020-09-20T02:35:30.788418Z",
     "iopub.status.idle": "2020-09-20T02:35:30.799820Z",
     "shell.execute_reply": "2020-09-20T02:35:30.799181Z"
    },
    "papermill": {
     "duration": 0.108763,
     "end_time": "2020-09-20T02:35:30.799923",
     "exception": false,
     "start_time": "2020-09-20T02:35:30.691160",
     "status": "completed"
    },
    "tags": []
   },
   "outputs": [
    {
     "name": "stdout",
     "output_type": "stream",
     "text": [
      "Task 48:\n",
      "   Language  Math  Science\n",
      "0        60    90       45\n",
      "1        45    80       90\n",
      "2        78    23       95\n",
      "3         4    60       20\n",
      "   Language  Math  Science\n",
      "0        60    90       45\n",
      "2        78    23       95\n"
     ]
    }
   ],
   "source": [
    "print('Task 48:')  \n",
    "marks_df = pd.DataFrame({\n",
    "    'Language' : [60, 45, 78, 4], \n",
    "    'Math' : [90, 80, 23, 60],\n",
    "    'Science' : [45, 90, 95, 20]\n",
    "});\n",
    "print(marks_df)\n",
    "marks_df_passed_in_language = marks_df[marks_df.Language >=50 ]\n",
    "print(marks_df_passed_in_language)"
   ]
  },
  {
   "cell_type": "markdown",
   "metadata": {
    "papermill": {
     "duration": 0.096571,
     "end_time": "2020-09-20T02:35:30.991903",
     "exception": false,
     "start_time": "2020-09-20T02:35:30.895332",
     "status": "completed"
    },
    "tags": []
   },
   "source": [
    "<div style=\"\">\n",
    "    <div style=\"float: left; width: 80%;\">\n",
    "        <a id=\"49\"></a>\n",
    "        <font><b>Task 49:</b></font>\n",
    "        <br><br>\n",
    "        Students passed in Language and Math\n",
    "    </div>\n",
    "    <div style=\"float: right;\">\n",
    "        <a href=\"#top\" class=\"btn btn-primary btn-sm\" role=\"button\" aria-pressed=\"true\" style=\"color:white\" data-toggle=\"popover\" title=\"go to Top\">Go to Top</a>\n",
    "    </div>\n",
    "    <br style=\"clear: left;\" />\n",
    "</div> "
   ]
  },
  {
   "cell_type": "code",
   "execution_count": 52,
   "metadata": {
    "execution": {
     "iopub.execute_input": "2020-09-20T02:35:31.190572Z",
     "iopub.status.busy": "2020-09-20T02:35:31.189963Z",
     "iopub.status.idle": "2020-09-20T02:35:31.194172Z",
     "shell.execute_reply": "2020-09-20T02:35:31.193746Z"
    },
    "papermill": {
     "duration": 0.106638,
     "end_time": "2020-09-20T02:35:31.194307",
     "exception": false,
     "start_time": "2020-09-20T02:35:31.087669",
     "status": "completed"
    },
    "tags": []
   },
   "outputs": [
    {
     "name": "stdout",
     "output_type": "stream",
     "text": [
      "Task 49:\n",
      "   Language  Math  Science\n",
      "0        60    90       45\n"
     ]
    }
   ],
   "source": [
    "print('Task 49:')  \n",
    "marks_df_passed_in_lang_math = marks_df[(marks_df.Language >=50) & (marks_df.Math >= 50)]\n",
    "print(marks_df_passed_in_lang_math)"
   ]
  },
  {
   "cell_type": "markdown",
   "metadata": {
    "papermill": {
     "duration": 0.097894,
     "end_time": "2020-09-20T02:35:31.389969",
     "exception": false,
     "start_time": "2020-09-20T02:35:31.292075",
     "status": "completed"
    },
    "tags": []
   },
   "source": [
    "<div style=\"\">\n",
    "    <div style=\"float: left; width: 80%;\">\n",
    "        <a id=\"50\"></a>\n",
    "        <font><b>Task 50:</b></font>\n",
    "        <br><br>\n",
    "        Students passed in Language and Science\n",
    "    </div>\n",
    "    <div style=\"float: right;\">\n",
    "        <a href=\"#top\" class=\"btn btn-primary btn-sm\" role=\"button\" aria-pressed=\"true\" style=\"color:white\" data-toggle=\"popover\" title=\"go to Top\">Go to Top</a>\n",
    "    </div>\n",
    "    <br style=\"clear: left;\" />\n",
    "</div>"
   ]
  },
  {
   "cell_type": "code",
   "execution_count": 53,
   "metadata": {
    "execution": {
     "iopub.execute_input": "2020-09-20T02:35:31.592790Z",
     "iopub.status.busy": "2020-09-20T02:35:31.592029Z",
     "iopub.status.idle": "2020-09-20T02:35:31.595022Z",
     "shell.execute_reply": "2020-09-20T02:35:31.595491Z"
    },
    "papermill": {
     "duration": 0.107836,
     "end_time": "2020-09-20T02:35:31.595626",
     "exception": false,
     "start_time": "2020-09-20T02:35:31.487790",
     "status": "completed"
    },
    "tags": []
   },
   "outputs": [
    {
     "name": "stdout",
     "output_type": "stream",
     "text": [
      "Task 50:\n",
      "   Language  Math  Science\n",
      "2        78    23       95\n"
     ]
    }
   ],
   "source": [
    "print('Task 50:')  \n",
    "marks_df_passed_in_lang_and_sc = marks_df.loc[(marks_df.Language >=50) & (marks_df.Science >= 50)]\n",
    "print(marks_df_passed_in_lang_and_sc)"
   ]
  },
  {
   "cell_type": "markdown",
   "metadata": {
    "papermill": {
     "duration": 0.096391,
     "end_time": "2020-09-20T02:35:31.788822",
     "exception": false,
     "start_time": "2020-09-20T02:35:31.692431",
     "status": "completed"
    },
    "tags": []
   },
   "source": [
    "<div style=\"\">\n",
    "    <div style=\"float: left; width: 80%;\">\n",
    "        <a id=\"51\"></a>\n",
    "        <font><b>Task 51:</b></font>\n",
    "        <br><br>\n",
    "        Loc with Label oriented slicing\n",
    "<br>possible error:\n",
    "<br>pandas.errors.UnsortedIndexError\n",
    "    </div>\n",
    "    <div style=\"float: right;\">\n",
    "        <a href=\"#top\" class=\"btn btn-primary btn-sm\" role=\"button\" aria-pressed=\"true\" style=\"color:white\" data-toggle=\"popover\" title=\"go to Top\">Go to Top</a>\n",
    "    </div>\n",
    "    <br style=\"clear: left;\" />\n",
    "</div> "
   ]
  },
  {
   "cell_type": "code",
   "execution_count": 54,
   "metadata": {
    "execution": {
     "iopub.execute_input": "2020-09-20T02:35:31.985757Z",
     "iopub.status.busy": "2020-09-20T02:35:31.985146Z",
     "iopub.status.idle": "2020-09-20T02:35:31.993324Z",
     "shell.execute_reply": "2020-09-20T02:35:31.992693Z"
    },
    "papermill": {
     "duration": 0.108688,
     "end_time": "2020-09-20T02:35:31.993473",
     "exception": false,
     "start_time": "2020-09-20T02:35:31.884785",
     "status": "completed"
    },
    "tags": []
   },
   "outputs": [
    {
     "name": "stdout",
     "output_type": "stream",
     "text": [
      "Task 51:\n",
      "         age  movies  awards\n",
      "dhanush   31      51      42\n",
      "simbu     23      23      12\n",
      "kamal     65      87       4\n",
      "vikram    50     200      78\n"
     ]
    }
   ],
   "source": [
    "print('Task 51:')\n",
    "stars = {\n",
    "    'age' : [31, 23, 65, 50],\n",
    "    'movies' : [51, 23, 87, 200],\n",
    "    'awards' : [42, 12, 4, 78]\n",
    "    }\n",
    "star_names = ['dhanush', 'simbu', 'kamal', 'vikram']\n",
    "stars_df = pd.DataFrame(data=stars, index=[star_names])\n",
    "print(stars_df)"
   ]
  },
  {
   "cell_type": "markdown",
   "metadata": {
    "papermill": {
     "duration": 0.098574,
     "end_time": "2020-09-20T02:35:32.191040",
     "exception": false,
     "start_time": "2020-09-20T02:35:32.092466",
     "status": "completed"
    },
    "tags": []
   },
   "source": [
    "<div style=\"\">\n",
    "    <div style=\"float: left; width: 80%;\">\n",
    "        <a id=\"52\"></a>\n",
    "        <font><b>Task 52:</b></font>\n",
    "        <br><br>\n",
    "        iloc with positional slicing\n",
    "    </div>\n",
    "    <div style=\"float: right;\">\n",
    "        <a href=\"#top\" class=\"btn btn-primary btn-sm\" role=\"button\" aria-pressed=\"true\" style=\"color:white\" data-toggle=\"popover\" title=\"go to Top\">Go to Top</a>\n",
    "    </div>\n",
    "    <br style=\"clear: left;\" />\n",
    "</div> "
   ]
  },
  {
   "cell_type": "code",
   "execution_count": 55,
   "metadata": {
    "execution": {
     "iopub.execute_input": "2020-09-20T02:35:32.392847Z",
     "iopub.status.busy": "2020-09-20T02:35:32.391986Z",
     "iopub.status.idle": "2020-09-20T02:35:32.398962Z",
     "shell.execute_reply": "2020-09-20T02:35:32.398168Z"
    },
    "papermill": {
     "duration": 0.109603,
     "end_time": "2020-09-20T02:35:32.399100",
     "exception": false,
     "start_time": "2020-09-20T02:35:32.289497",
     "status": "completed"
    },
    "tags": []
   },
   "outputs": [
    {
     "name": "stdout",
     "output_type": "stream",
     "text": [
      "Task 52:\n",
      "       age  movies  awards\n",
      "simbu   23      23      12\n",
      "kamal   65      87       4\n"
     ]
    }
   ],
   "source": [
    "print('Task 52:')  \n",
    "print(stars_df.iloc[1:3])"
   ]
  },
  {
   "cell_type": "markdown",
   "metadata": {
    "papermill": {
     "duration": 0.096238,
     "end_time": "2020-09-20T02:35:32.594111",
     "exception": false,
     "start_time": "2020-09-20T02:35:32.497873",
     "status": "completed"
    },
    "tags": []
   },
   "source": [
    "<div style=\"\">\n",
    "    <div style=\"float: left; width: 80%;\">\n",
    "        <a id=\"53\"></a>\n",
    "        <font><b>Task 53:</b></font>\n",
    "        <br><br>\n",
    "        Label between numbers\n",
    "    </div>\n",
    "    <div style=\"float: right;\">\n",
    "        <a href=\"#top\" class=\"btn btn-primary btn-sm\" role=\"button\" aria-pressed=\"true\" style=\"color:white\" data-toggle=\"popover\" title=\"go to Top\">Go to Top</a>\n",
    "    </div>\n",
    "    <br style=\"clear: left;\" />\n",
    "</div>"
   ]
  },
  {
   "cell_type": "code",
   "execution_count": 56,
   "metadata": {
    "execution": {
     "iopub.execute_input": "2020-09-20T02:35:32.801756Z",
     "iopub.status.busy": "2020-09-20T02:35:32.801131Z",
     "iopub.status.idle": "2020-09-20T02:35:32.803956Z",
     "shell.execute_reply": "2020-09-20T02:35:32.804398Z"
    },
    "papermill": {
     "duration": 0.111285,
     "end_time": "2020-09-20T02:35:32.804539",
     "exception": false,
     "start_time": "2020-09-20T02:35:32.693254",
     "status": "completed"
    },
    "tags": []
   },
   "outputs": [
    {
     "name": "stdout",
     "output_type": "stream",
     "text": [
      "Task 53:\n",
      "    one  two\n",
      "12   10    2\n",
      "14   50    6\n",
      "16   80   56\n",
      "18   40   45\n",
      "label between 12 and 16\n",
      "    one  two\n",
      "12   10    2\n",
      "14   50    6\n",
      "16   80   56\n",
      "index between 1 and 3\n",
      "    one  two\n",
      "14   50    6\n",
      "16   80   56\n"
     ]
    }
   ],
   "source": [
    "print('Task 53:')  \n",
    "numbers = pd.DataFrame({\n",
    "        'one' : [10, 50, 80, 40],\n",
    "        'two' : [2, 6, 56, 45]\n",
    "    },\n",
    "    index = [12, 14, 16, 18])\n",
    "print(numbers)\n",
    "\n",
    "print('label between 12 and 16')\n",
    "print(numbers.loc[12:16])\n",
    "\n",
    "print('index between 1 and 3')\n",
    "print(numbers.iloc[1:3])"
   ]
  },
  {
   "cell_type": "markdown",
   "metadata": {
    "papermill": {
     "duration": 0.09672,
     "end_time": "2020-09-20T02:35:33.000035",
     "exception": false,
     "start_time": "2020-09-20T02:35:32.903315",
     "status": "completed"
    },
    "tags": []
   },
   "source": [
    "<div style=\"\">\n",
    "    <div style=\"float: left; width: 80%;\">\n",
    "        <a id=\"54\"></a>\n",
    "        <font><b>Task 54:</b></font>\n",
    "        <br><br>\n",
    "        Stars with names\n",
    "    </div>\n",
    "    <div style=\"float: right;\">\n",
    "        <a href=\"#top\" class=\"btn btn-primary btn-sm\" role=\"button\" aria-pressed=\"true\" style=\"color:white\" data-toggle=\"popover\" title=\"go to Top\">Go to Top</a>\n",
    "    </div>\n",
    "    <br style=\"clear: left;\" />\n",
    "</div> "
   ]
  },
  {
   "cell_type": "code",
   "execution_count": 57,
   "metadata": {
    "execution": {
     "iopub.execute_input": "2020-09-20T02:35:33.196829Z",
     "iopub.status.busy": "2020-09-20T02:35:33.196325Z",
     "iopub.status.idle": "2020-09-20T02:35:33.206449Z",
     "shell.execute_reply": "2020-09-20T02:35:33.206826Z"
    },
    "papermill": {
     "duration": 0.109625,
     "end_time": "2020-09-20T02:35:33.206955",
     "exception": false,
     "start_time": "2020-09-20T02:35:33.097330",
     "status": "completed"
    },
    "tags": []
   },
   "outputs": [
    {
     "name": "stdout",
     "output_type": "stream",
     "text": [
      "Task 54:\n",
      "    one  two\n",
      "12   10    2\n",
      "14   50    6\n",
      "16   80   56\n",
      "18   40   45\n"
     ]
    }
   ],
   "source": [
    "print('Task 54:') \n",
    "stars = {\n",
    "    'age' : [31, 23, 65, 50],\n",
    "    'movies' : [51, 23, 87, 200],\n",
    "    'awards' : [42, 12, 4, 78]\n",
    "    }\n",
    "star_names = ['dhanush', 'simbu', 'kamal', 'vikram']\n",
    "stars_df = pd.DataFrame(data=stars, index=[star_names])\n",
    "numbers = pd.DataFrame({\n",
    "        'one' : [10, 50, 80, 40],\n",
    "        'two' : [2, 6, 56, 45]\n",
    "    },\n",
    "    index = [12, 14, 16, 18])\n",
    "print(numbers)"
   ]
  },
  {
   "cell_type": "markdown",
   "metadata": {
    "papermill": {
     "duration": 0.098843,
     "end_time": "2020-09-20T02:35:33.405027",
     "exception": false,
     "start_time": "2020-09-20T02:35:33.306184",
     "status": "completed"
    },
    "tags": []
   },
   "source": [
    "<div style=\"\">\n",
    "    <div style=\"float: left; width: 80%;\">\n",
    "        <a id=\"55\"></a>\n",
    "        <font><b>Task 55:</b></font>\n",
    "        <br><br>\n",
    "        Row label selection\n",
    "        <br>Age is above 25 and movies above 25\n",
    "    </div>\n",
    "    <div style=\"float: right;\">\n",
    "        <a href=\"#top\" class=\"btn btn-primary btn-sm\" role=\"button\" aria-pressed=\"true\" style=\"color:white\" data-toggle=\"popover\" title=\"go to Top\">Go to Top</a>\n",
    "    </div>\n",
    "    <br style=\"clear: left;\" />\n",
    "</div>"
   ]
  },
  {
   "cell_type": "code",
   "execution_count": 58,
   "metadata": {
    "execution": {
     "iopub.execute_input": "2020-09-20T02:35:33.609170Z",
     "iopub.status.busy": "2020-09-20T02:35:33.608631Z",
     "iopub.status.idle": "2020-09-20T02:35:33.611424Z",
     "shell.execute_reply": "2020-09-20T02:35:33.612062Z"
    },
    "papermill": {
     "duration": 0.108417,
     "end_time": "2020-09-20T02:35:33.612256",
     "exception": false,
     "start_time": "2020-09-20T02:35:33.503839",
     "status": "completed"
    },
    "tags": []
   },
   "outputs": [
    {
     "name": "stdout",
     "output_type": "stream",
     "text": [
      "Task 55:\n",
      "         age  movies  awards\n",
      "dhanush   31      51      42\n",
      "kamal     65      87       4\n",
      "vikram    50     200      78\n"
     ]
    }
   ],
   "source": [
    "print('Task 55:')\n",
    "\n",
    "age_movies_25 = stars_df[(stars_df.movies > 25 ) & (stars_df.age > 25)]  \n",
    "print(age_movies_25)"
   ]
  },
  {
   "cell_type": "markdown",
   "metadata": {
    "papermill": {
     "duration": 0.096199,
     "end_time": "2020-09-20T02:35:33.806864",
     "exception": false,
     "start_time": "2020-09-20T02:35:33.710665",
     "status": "completed"
    },
    "tags": []
   },
   "source": [
    "<div style=\"\">\n",
    "    <div style=\"float: left; width: 80%;\">\n",
    "        <a id=\"56\"></a>\n",
    "        <font><b>Task 56:</b></font>\n",
    "        <br><br>\n",
    "        Stars in in certain ages\n",
    "    </div>\n",
    "    <div style=\"float: right;\">\n",
    "        <a href=\"#top\" class=\"btn btn-primary btn-sm\" role=\"button\" aria-pressed=\"true\" style=\"color:white\" data-toggle=\"popover\" title=\"go to Top\">Go to Top</a>\n",
    "    </div>\n",
    "    <br style=\"clear: left;\" />\n",
    "</div> "
   ]
  },
  {
   "cell_type": "code",
   "execution_count": 59,
   "metadata": {
    "execution": {
     "iopub.execute_input": "2020-09-20T02:35:34.008564Z",
     "iopub.status.busy": "2020-09-20T02:35:34.008000Z",
     "iopub.status.idle": "2020-09-20T02:35:34.014750Z",
     "shell.execute_reply": "2020-09-20T02:35:34.015185Z"
    },
    "papermill": {
     "duration": 0.108778,
     "end_time": "2020-09-20T02:35:34.015321",
     "exception": false,
     "start_time": "2020-09-20T02:35:33.906543",
     "status": "completed"
    },
    "tags": []
   },
   "outputs": [
    {
     "name": "stdout",
     "output_type": "stream",
     "text": [
      "Task 56:\n",
      "         age  movies  awards\n",
      "dhanush   31      51      42\n",
      "kamal     65      87       4\n"
     ]
    }
   ],
   "source": [
    "print('Task 56:')  \n",
    "custom_stars = stars_df[stars_df.age.isin([31, 65])]\n",
    "print(custom_stars)"
   ]
  },
  {
   "cell_type": "markdown",
   "metadata": {
    "papermill": {
     "duration": 0.096542,
     "end_time": "2020-09-20T02:35:34.208843",
     "exception": false,
     "start_time": "2020-09-20T02:35:34.112301",
     "status": "completed"
    },
    "tags": []
   },
   "source": [
    "<div style=\"\">\n",
    "    <div style=\"float: left; width: 80%;\">\n",
    "        <a id=\"57\"></a>\n",
    "        <font><b>Task 57:</b></font>\n",
    "        <br><br>\n",
    "        inverse opeartor\n",
    "         <br>!( above one.45 and below two.50 )\n",
    "    </div>\n",
    "    <div style=\"float: right;\">\n",
    "        <a href=\"#top\" class=\"btn btn-primary btn-sm\" role=\"button\" aria-pressed=\"true\" style=\"color:white\" data-toggle=\"popover\" title=\"go to Top\">Go to Top</a>\n",
    "    </div>\n",
    "    <br style=\"clear: left;\" />\n",
    "</div> "
   ]
  },
  {
   "cell_type": "code",
   "execution_count": 60,
   "metadata": {
    "execution": {
     "iopub.execute_input": "2020-09-20T02:35:34.405238Z",
     "iopub.status.busy": "2020-09-20T02:35:34.404698Z",
     "iopub.status.idle": "2020-09-20T02:35:34.413440Z",
     "shell.execute_reply": "2020-09-20T02:35:34.412988Z"
    },
    "papermill": {
     "duration": 0.107831,
     "end_time": "2020-09-20T02:35:34.413534",
     "exception": false,
     "start_time": "2020-09-20T02:35:34.305703",
     "status": "completed"
    },
    "tags": []
   },
   "outputs": [
    {
     "name": "stdout",
     "output_type": "stream",
     "text": [
      "Task 57:\n",
      "    one  two\n",
      "12   10    2\n",
      "14   50    6\n",
      "16   80   56\n",
      "18   40   45\n",
      "    one  two\n",
      "12   10    2\n",
      "16   80   56\n",
      "18   40   45\n"
     ]
    }
   ],
   "source": [
    "print('Task 57:')  \n",
    "print(numbers)\n",
    "print(numbers[~( (numbers.one > 45) & (numbers.two < 50) )])"
   ]
  },
  {
   "cell_type": "markdown",
   "metadata": {
    "papermill": {
     "duration": 0.096853,
     "end_time": "2020-09-20T02:35:34.607774",
     "exception": false,
     "start_time": "2020-09-20T02:35:34.510921",
     "status": "completed"
    },
    "tags": []
   },
   "source": [
    "<div style=\"\">\n",
    "    <div style=\"float: left; width: 80%;\">\n",
    "        <a id=\"58\"></a>\n",
    "        <font><b>Task 58:</b></font>\n",
    "        <br><br>\n",
    "        Apply custom function\n",
    "    </div>\n",
    "    <div style=\"float: right;\">\n",
    "        <a href=\"#top\" class=\"btn btn-primary btn-sm\" role=\"button\" aria-pressed=\"true\" style=\"color:white\" data-toggle=\"popover\" title=\"go to Top\">Go to Top</a>\n",
    "    </div>\n",
    "    <br style=\"clear: left;\" />\n",
    "</div> "
   ]
  },
  {
   "cell_type": "code",
   "execution_count": 61,
   "metadata": {
    "execution": {
     "iopub.execute_input": "2020-09-20T02:35:34.806088Z",
     "iopub.status.busy": "2020-09-20T02:35:34.805097Z",
     "iopub.status.idle": "2020-09-20T02:35:34.829425Z",
     "shell.execute_reply": "2020-09-20T02:35:34.829803Z"
    },
    "papermill": {
     "duration": 0.124867,
     "end_time": "2020-09-20T02:35:34.829932",
     "exception": false,
     "start_time": "2020-09-20T02:35:34.705065",
     "status": "completed"
    },
    "tags": []
   },
   "outputs": [
    {
     "name": "stdout",
     "output_type": "stream",
     "text": [
      "Task 58:\n",
      "       size   weight  adult\n",
      "animal                     \n",
      "cat       L   9.4375   True\n",
      "dog       L  12.5000   True\n",
      "fish      L   1.2500   True\n"
     ]
    }
   ],
   "source": [
    "print('Task 58:')\n",
    "def GrowUp(x):\n",
    "    avg_weight =  sum(x[x['size'] == 'series1'].weight * 1.5)\n",
    "    avg_weight += sum(x[x['size'] == 'M'].weight * 1.25)\n",
    "    avg_weight += sum(x[x['size'] == 'L'].weight)\n",
    "    avg_weight /= len(x)\n",
    "    return pd.Series(['L',avg_weight,True], index=['size', 'weight', 'adult'])\n",
    "\n",
    "animals_df = pd.DataFrame({'animal': 'cat dog cat fish dog cat cat'.split(),\n",
    "                   'size': list('SSMMMLL'),\n",
    "                   'weight': [8, 10, 11, 1, 20, 12, 12],\n",
    "                   'adult' : [False] * 5 + [True] * 2})\n",
    "\n",
    "gb = animals_df.groupby(['animal'])\n",
    "\n",
    "expected_df = gb.apply(GrowUp)\n",
    "print(expected_df)"
   ]
  },
  {
   "cell_type": "markdown",
   "metadata": {
    "papermill": {
     "duration": 0.100493,
     "end_time": "2020-09-20T02:35:35.031489",
     "exception": false,
     "start_time": "2020-09-20T02:35:34.930996",
     "status": "completed"
    },
    "tags": []
   },
   "source": [
    "<div style=\"\">\n",
    "    <div style=\"float: left; width: 80%;\">\n",
    "        <a id=\"59\"></a>\n",
    "        <font><b>Task 59:</b></font>\n",
    "        <br><br>\n",
    "        Group by single column\n",
    "    </div>\n",
    "    <div style=\"float: right;\">\n",
    "        <a href=\"#top\" class=\"btn btn-primary btn-sm\" role=\"button\" aria-pressed=\"true\" style=\"color:white\" data-toggle=\"popover\" title=\"go to Top\">Go to Top</a>\n",
    "    </div>\n",
    "    <br style=\"clear: left;\" />\n",
    "</div> "
   ]
  },
  {
   "cell_type": "code",
   "execution_count": 62,
   "metadata": {
    "execution": {
     "iopub.execute_input": "2020-09-20T02:35:35.234247Z",
     "iopub.status.busy": "2020-09-20T02:35:35.233191Z",
     "iopub.status.idle": "2020-09-20T02:35:35.242234Z",
     "shell.execute_reply": "2020-09-20T02:35:35.241707Z"
    },
    "papermill": {
     "duration": 0.110998,
     "end_time": "2020-09-20T02:35:35.242352",
     "exception": false,
     "start_time": "2020-09-20T02:35:35.131354",
     "status": "completed"
    },
    "tags": []
   },
   "outputs": [
    {
     "name": "stdout",
     "output_type": "stream",
     "text": [
      "Task 59:\n",
      "  animal size  weight  adult\n",
      "4    dog    M      20  False\n"
     ]
    }
   ],
   "source": [
    "print('Task 59:')\n",
    "weights = animals_df.groupby(['weight']).get_group(20)  \n",
    "print(weights)"
   ]
  },
  {
   "cell_type": "markdown",
   "metadata": {
    "papermill": {
     "duration": 0.100669,
     "end_time": "2020-09-20T02:35:35.443141",
     "exception": false,
     "start_time": "2020-09-20T02:35:35.342472",
     "status": "completed"
    },
    "tags": []
   },
   "source": [
    "<div style=\"\">\n",
    "    <div style=\"float: left; width: 80%;\">\n",
    "        <a id=\"60\"></a>\n",
    "        <font><b>Task 60:</b></font>\n",
    "        <br><br>\n",
    "        Creating new Columns using Applymap\n",
    "        <br>Sides & applymap\n",
    "    </div>\n",
    "    <div style=\"float: right;\">\n",
    "        <a href=\"#top\" class=\"btn btn-primary btn-sm\" role=\"button\" aria-pressed=\"true\" style=\"color:white\" data-toggle=\"popover\" title=\"go to Top\">Go to Top</a>\n",
    "    </div>\n",
    "    <br style=\"clear: left;\" />\n",
    "</div>"
   ]
  },
  {
   "cell_type": "code",
   "execution_count": 63,
   "metadata": {
    "execution": {
     "iopub.execute_input": "2020-09-20T02:35:35.661120Z",
     "iopub.status.busy": "2020-09-20T02:35:35.654500Z",
     "iopub.status.idle": "2020-09-20T02:35:35.664320Z",
     "shell.execute_reply": "2020-09-20T02:35:35.665000Z"
    },
    "papermill": {
     "duration": 0.121168,
     "end_time": "2020-09-20T02:35:35.665179",
     "exception": false,
     "start_time": "2020-09-20T02:35:35.544011",
     "status": "completed"
    },
    "tags": []
   },
   "outputs": [
    {
     "name": "stdout",
     "output_type": "stream",
     "text": [
      "Task 60:\n",
      "   a  b\n",
      "0  1  2\n",
      "1  1  1\n",
      "2  2  3\n",
      "3  4  4\n",
      "Index(['a', 'b'], dtype='object')\n",
      "   a  b a_side b_side\n",
      "0  1  2  North   East\n",
      "1  1  1  North  North\n",
      "2  2  3   East  South\n",
      "3  4  4   West   West\n"
     ]
    }
   ],
   "source": [
    "print('Task 60:')\n",
    "sides_df = pd.DataFrame({\n",
    "    'a' : [1, 1, 2, 4],\n",
    "    'b' : [2, 1, 3, 4]\n",
    "    })  \n",
    "print(sides_df)\n",
    "source_cols = sides_df.columns\n",
    "print(source_cols)\n",
    "new_cols = [str(x)+\"_side\" for x in source_cols]\n",
    "side_category = {\n",
    "    1 : 'North',\n",
    "    2 : 'East',\n",
    "    3 : 'South', \n",
    "    4 : 'West'\n",
    "    }\n",
    "sides_df[new_cols] = sides_df[source_cols].applymap(side_category.get)\n",
    "print(sides_df)"
   ]
  },
  {
   "cell_type": "markdown",
   "metadata": {
    "papermill": {
     "duration": 0.127625,
     "end_time": "2020-09-20T02:35:35.897381",
     "exception": false,
     "start_time": "2020-09-20T02:35:35.769756",
     "status": "completed"
    },
    "tags": []
   },
   "source": [
    "<div style=\"\">\n",
    "    <div style=\"float: left; width: 80%;\">\n",
    "        <a id=\"61\"></a>\n",
    "        <font><b>Task 61:</b></font>\n",
    "        <br><br>\n",
    "        Replacing some values with mean of the rest of a group\n",
    "    </div>\n",
    "    <div style=\"float: right;\">\n",
    "        <a href=\"#top\" class=\"btn btn-primary btn-sm\" role=\"button\" aria-pressed=\"true\" style=\"color:white\" data-toggle=\"popover\" title=\"go to Top\">Go to Top</a>\n",
    "    </div>\n",
    "    <br style=\"clear: left;\" />\n",
    "</div> "
   ]
  },
  {
   "cell_type": "code",
   "execution_count": 64,
   "metadata": {
    "execution": {
     "iopub.execute_input": "2020-09-20T02:35:36.109709Z",
     "iopub.status.busy": "2020-09-20T02:35:36.109153Z",
     "iopub.status.idle": "2020-09-20T02:35:36.130541Z",
     "shell.execute_reply": "2020-09-20T02:35:36.130917Z"
    },
    "papermill": {
     "duration": 0.123824,
     "end_time": "2020-09-20T02:35:36.131046",
     "exception": false,
     "start_time": "2020-09-20T02:35:36.007222",
     "status": "completed"
    },
    "tags": []
   },
   "outputs": [
    {
     "name": "stdout",
     "output_type": "stream",
     "text": [
      "Task 61:\n",
      "   A  B\n",
      "0  1  1\n",
      "1  1 -1\n",
      "2  2  1\n",
      "3  2  2\n",
      "     B\n",
      "0  1.0\n",
      "1  1.0\n",
      "2  1.0\n",
      "3  2.0\n"
     ]
    }
   ],
   "source": [
    "print('Task 61:')  \n",
    "df = pd.DataFrame({'A' : [1, 1, 2, 2], 'B' : [1, -1, 1, 2]})\n",
    "print(df)\n",
    "\n",
    "gb = df.groupby('A')\n",
    "\n",
    "def replace(g):\n",
    "    mask = g < 0\n",
    "    g.loc[mask] = g[~mask].mean()\n",
    "    return g\n",
    "\n",
    "gbt = gb.transform(replace)\n",
    "\n",
    "print(gbt)"
   ]
  },
  {
   "cell_type": "markdown",
   "metadata": {
    "papermill": {
     "duration": 0.102684,
     "end_time": "2020-09-20T02:35:36.334591",
     "exception": false,
     "start_time": "2020-09-20T02:35:36.231907",
     "status": "completed"
    },
    "tags": []
   },
   "source": [
    "<div style=\"\">\n",
    "    <div style=\"float: left; width: 80%;\">\n",
    "        <a id=\"62\"></a>\n",
    "        <font><b>Task 62:</b></font>\n",
    "        <br><br>\n",
    "        Students passed in Language or Science (any one subject)\n",
    "    </div>\n",
    "    <div style=\"float: right;\">\n",
    "        <a href=\"#top\" class=\"btn btn-primary btn-sm\" role=\"button\" aria-pressed=\"true\" style=\"color:white\" data-toggle=\"popover\" title=\"go to Top\">Go to Top</a>\n",
    "    </div>\n",
    "    <br style=\"clear: left;\" />\n",
    "</div> "
   ]
  },
  {
   "cell_type": "code",
   "execution_count": 65,
   "metadata": {
    "execution": {
     "iopub.execute_input": "2020-09-20T02:35:36.542127Z",
     "iopub.status.busy": "2020-09-20T02:35:36.541121Z",
     "iopub.status.idle": "2020-09-20T02:35:36.552834Z",
     "shell.execute_reply": "2020-09-20T02:35:36.553216Z"
    },
    "papermill": {
     "duration": 0.117402,
     "end_time": "2020-09-20T02:35:36.553362",
     "exception": false,
     "start_time": "2020-09-20T02:35:36.435960",
     "status": "completed"
    },
    "tags": []
   },
   "outputs": [
    {
     "name": "stdout",
     "output_type": "stream",
     "text": [
      "Task 62:\n",
      "   Language  Math  Science\n",
      "0        60    90       45\n",
      "1        45    80       90\n",
      "2        78    23       95\n",
      "3         4    60       20\n",
      "   Language  Math  Science\n",
      "0        60    90       45\n",
      "1        45    80       90\n",
      "2        78    23       95\n"
     ]
    }
   ],
   "source": [
    "print('Task 62:') \n",
    "marks_df = pd.DataFrame({\n",
    "    'Language' : [60, 45, 78, 4], \n",
    "    'Math' : [90, 80, 23, 60],\n",
    "    'Science' : [45, 90, 95, 20]\n",
    "});\n",
    "print(marks_df)\n",
    "marks_df_passed_in_lang_or_sc = marks_df.loc[(marks_df.Language >=50) | (marks_df.Science >= 50)]\n",
    "print(marks_df_passed_in_lang_or_sc)"
   ]
  },
  {
   "cell_type": "markdown",
   "metadata": {
    "papermill": {
     "duration": 0.098549,
     "end_time": "2020-09-20T02:35:36.751103",
     "exception": false,
     "start_time": "2020-09-20T02:35:36.652554",
     "status": "completed"
    },
    "tags": []
   },
   "source": [
    "<div style=\"\">\n",
    "    <div style=\"float: left; width: 80%;\">\n",
    "        <a id=\"\"></a>\n",
    "        <font><b>Task 63:</b></font>\n",
    "        <br><br>\n",
    "        possible errors:\n",
    "        <br>TypeError: 'Series' objects are mutable, thus they cannot be hashed\n",
    "    </div>\n",
    "    <div style=\"float: right;\">\n",
    "        <a href=\"#top\" class=\"btn btn-primary btn-sm\" role=\"button\" aria-pressed=\"true\" style=\"color:white\" data-toggle=\"popover\" title=\"go to Top\">Go to Top</a>\n",
    "    </div>\n",
    "    <br style=\"clear: left;\" />\n",
    "</div> "
   ]
  },
  {
   "cell_type": "code",
   "execution_count": 66,
   "metadata": {
    "execution": {
     "iopub.execute_input": "2020-09-20T02:35:36.991618Z",
     "iopub.status.busy": "2020-09-20T02:35:36.990765Z",
     "iopub.status.idle": "2020-09-20T02:35:36.994720Z",
     "shell.execute_reply": "2020-09-20T02:35:36.994161Z"
    },
    "papermill": {
     "duration": 0.112067,
     "end_time": "2020-09-20T02:35:36.994829",
     "exception": false,
     "start_time": "2020-09-20T02:35:36.882762",
     "status": "completed"
    },
    "tags": []
   },
   "outputs": [
    {
     "name": "stdout",
     "output_type": "stream",
     "text": [
      "Task 63:\n",
      "   Language  Math  Science passed_one_subject\n",
      "0        60    90       45               Pass\n",
      "1        45    80       90               Fail\n",
      "2        78    23       95               Pass\n",
      "3         4    60       20               Fail\n"
     ]
    }
   ],
   "source": [
    "print('Task 63:')  \n",
    "marks_df['passed_one_subject'] = 'Fail' \n",
    "marks_df.loc[(marks_df.Language >=50) , 'passed_one_subject'] = 'Pass'\n",
    "print(marks_df)"
   ]
  },
  {
   "cell_type": "markdown",
   "metadata": {
    "papermill": {
     "duration": 0.103603,
     "end_time": "2020-09-20T02:35:37.198532",
     "exception": false,
     "start_time": "2020-09-20T02:35:37.094929",
     "status": "completed"
    },
    "tags": []
   },
   "source": [
    "<div style=\"\">\n",
    "    <div style=\"float: left; width: 80%;\">\n",
    "        <a id=\"64\"></a>\n",
    "        <font><b>Task 64:</b></font>\n",
    "        <br><br>\n",
    "        argsort\n",
    "        <br>Select rows with data closest to certain value using argsort\n",
    "    </div>\n",
    "    <div style=\"float: right;\">\n",
    "        <a href=\"#top\" class=\"btn btn-primary btn-sm\" role=\"button\" aria-pressed=\"true\" style=\"color:white\" data-toggle=\"popover\" title=\"go to Top\">Go to Top</a>\n",
    "    </div>\n",
    "    <br style=\"clear: left;\" />\n",
    "</div> "
   ]
  },
  {
   "cell_type": "code",
   "execution_count": 67,
   "metadata": {
    "execution": {
     "iopub.execute_input": "2020-09-20T02:35:37.409306Z",
     "iopub.status.busy": "2020-09-20T02:35:37.408745Z",
     "iopub.status.idle": "2020-09-20T02:35:37.413719Z",
     "shell.execute_reply": "2020-09-20T02:35:37.413193Z"
    },
    "papermill": {
     "duration": 0.116456,
     "end_time": "2020-09-20T02:35:37.413834",
     "exception": false,
     "start_time": "2020-09-20T02:35:37.297378",
     "status": "completed"
    },
    "tags": []
   },
   "outputs": [
    {
     "name": "stdout",
     "output_type": "stream",
     "text": [
      "Task 64:\n",
      "    a   b\n",
      "0   1  23\n",
      "1  82   1\n",
      "2  65  14\n",
      "3  37  27\n",
      "4  45  14\n",
      "with argsort\n",
      "    a   b\n",
      "2  65  14\n",
      "1  82   1\n",
      "4  45  14\n",
      "3  37  27\n",
      "0   1  23\n",
      "    a   b\n",
      "1  82   1\n",
      "2  65  14\n",
      "4  45  14\n",
      "0   1  23\n",
      "3  37  27\n"
     ]
    }
   ],
   "source": [
    "print('Task 64:')  \n",
    "df = pd.DataFrame({\n",
    "    \"a\": np.random.randint(0, 100, size=(5,)), \n",
    "    \"b\": np.random.randint(0, 70, size=(5,))\n",
    "})\n",
    "print(df)\n",
    "par = 65\n",
    "print('with argsort')\n",
    "df1 = df.loc[(df.a-par).abs().argsort()]\n",
    "print(df1)\n",
    "\n",
    "print(df.loc[(df.b-2).abs().argsort()])"
   ]
  },
  {
   "cell_type": "markdown",
   "metadata": {
    "papermill": {
     "duration": 0.100489,
     "end_time": "2020-09-20T02:35:37.613925",
     "exception": false,
     "start_time": "2020-09-20T02:35:37.513436",
     "status": "completed"
    },
    "tags": []
   },
   "source": [
    "<div style=\"\">\n",
    "    <div style=\"float: left; width: 80%;\">\n",
    "        <a id=\"65\"></a>\n",
    "        <font><b>Task 65:</b></font>\n",
    "        <br><br>\n",
    "        argsort with stars        \n",
    "        <br>old stars (near by 50 age) argsort\n",
    "    </div>\n",
    "    <div style=\"float: right;\">\n",
    "        <a href=\"#top\" class=\"btn btn-primary btn-sm\" role=\"button\" aria-pressed=\"true\" style=\"color:white\" data-toggle=\"popover\" title=\"go to Top\">Go to Top</a>\n",
    "    </div>\n",
    "    <br style=\"clear: left;\" />\n",
    "</div>"
   ]
  },
  {
   "cell_type": "code",
   "execution_count": 68,
   "metadata": {
    "execution": {
     "iopub.execute_input": "2020-09-20T02:35:37.828029Z",
     "iopub.status.busy": "2020-09-20T02:35:37.827506Z",
     "iopub.status.idle": "2020-09-20T02:35:37.831127Z",
     "shell.execute_reply": "2020-09-20T02:35:37.830643Z"
    },
    "papermill": {
     "duration": 0.114346,
     "end_time": "2020-09-20T02:35:37.831232",
     "exception": false,
     "start_time": "2020-09-20T02:35:37.716886",
     "status": "completed"
    },
    "tags": []
   },
   "outputs": [
    {
     "name": "stdout",
     "output_type": "stream",
     "text": [
      "Task 65:\n",
      "   age  movies\n",
      "1   50       3\n",
      "3   45      45\n",
      "4   65      34\n",
      "2   24      90\n",
      "5   18       2\n",
      "0   17       2\n"
     ]
    }
   ],
   "source": [
    "print('Task 65:')  \n",
    "stars = pd.DataFrame({\n",
    "    \"age\": [17, 50, 24, 45, 65, 18], \n",
    "    \"movies\": [2, 3, 90, 45, 34, 2] \n",
    "})\n",
    "print(stars.loc[(stars.age - 50).abs().argsort()])"
   ]
  },
  {
   "cell_type": "markdown",
   "metadata": {
    "papermill": {
     "duration": 0.102068,
     "end_time": "2020-09-20T02:35:38.034075",
     "exception": false,
     "start_time": "2020-09-20T02:35:37.932007",
     "status": "completed"
    },
    "tags": []
   },
   "source": [
    "<div style=\"\">\n",
    "    <div style=\"float: left; width: 80%;\">\n",
    "        <a id=\"66\"></a>\n",
    "        <font><b>Task 66:</b></font>\n",
    "        <br><br>\n",
    "        Argsort with actors\n",
    "\n",
    "        <br>young stars (near by 17)\n",
    "    </div>\n",
    "    <div style=\"float: right;\">\n",
    "        <a href=\"#top\" class=\"btn btn-primary btn-sm\" role=\"button\" aria-pressed=\"true\" style=\"color:white\" data-toggle=\"popover\" title=\"go to Top\">Go to Top</a>\n",
    "    </div>\n",
    "    <br style=\"clear: left;\" />\n",
    "</div> "
   ]
  },
  {
   "cell_type": "code",
   "execution_count": 69,
   "metadata": {
    "execution": {
     "iopub.execute_input": "2020-09-20T02:35:38.245778Z",
     "iopub.status.busy": "2020-09-20T02:35:38.245138Z",
     "iopub.status.idle": "2020-09-20T02:35:38.248442Z",
     "shell.execute_reply": "2020-09-20T02:35:38.248858Z"
    },
    "papermill": {
     "duration": 0.112413,
     "end_time": "2020-09-20T02:35:38.248975",
     "exception": false,
     "start_time": "2020-09-20T02:35:38.136562",
     "status": "completed"
    },
    "tags": []
   },
   "outputs": [
    {
     "name": "stdout",
     "output_type": "stream",
     "text": [
      "Task 66:\n",
      "   age  movies\n",
      "0   17       2\n",
      "5   18       2\n",
      "2   24      90\n",
      "3   45      45\n",
      "1   50       3\n",
      "4   65      34\n"
     ]
    }
   ],
   "source": [
    "print('Task 66:')  \n",
    "print(stars.loc[(stars.age - 17).abs().argsort()])"
   ]
  },
  {
   "cell_type": "markdown",
   "metadata": {
    "papermill": {
     "duration": 0.10023,
     "end_time": "2020-09-20T02:35:38.450471",
     "exception": false,
     "start_time": "2020-09-20T02:35:38.350241",
     "status": "completed"
    },
    "tags": []
   },
   "source": [
    "<div style=\"\">\n",
    "    <div style=\"float: left; width: 80%;\">\n",
    "        <a id=\"67\"></a>\n",
    "        <font><b>Task 67:</b></font>\n",
    "        <br><br>\n",
    "        Binary operators\n",
    "\n",
    "        <br>Stars with\n",
    "\n",
    "        <br>younger than 19 - very young\n",
    "\n",
    "        <br>more movies acted**\n",
    "    </div>\n",
    "    <div style=\"float: right;\">\n",
    "        <a href=\"#top\" class=\"btn btn-primary btn-sm\" role=\"button\" aria-pressed=\"true\" style=\"color:white\" data-toggle=\"popover\" title=\"go to Top\">Go to Top</a>\n",
    "    </div>\n",
    "    <br style=\"clear: left;\" />\n",
    "</div> "
   ]
  },
  {
   "cell_type": "code",
   "execution_count": 70,
   "metadata": {
    "execution": {
     "iopub.execute_input": "2020-09-20T02:35:38.665257Z",
     "iopub.status.busy": "2020-09-20T02:35:38.664676Z",
     "iopub.status.idle": "2020-09-20T02:35:38.668141Z",
     "shell.execute_reply": "2020-09-20T02:35:38.667632Z"
    },
    "papermill": {
     "duration": 0.116674,
     "end_time": "2020-09-20T02:35:38.668233",
     "exception": false,
     "start_time": "2020-09-20T02:35:38.551559",
     "status": "completed"
    },
    "tags": []
   },
   "outputs": [
    {
     "name": "stdout",
     "output_type": "stream",
     "text": [
      "Task 67:\n",
      "   age  movies\n",
      "0   17      22\n",
      "1   50      33\n",
      "2   24      90\n",
      "3   45      75\n",
      "4   65      34\n",
      "5   18       2\n",
      "Young and more movies acted\n",
      "   age  movies\n",
      "2   24      90\n"
     ]
    }
   ],
   "source": [
    "print('Task 67:')\n",
    "stars = pd.DataFrame({\n",
    "    \"age\": [17, 50, 24, 45, 65, 18], \n",
    "    \"movies\": [22, 33, 90, 75, 34, 2] \n",
    "})  \n",
    "print(stars)\n",
    "print('Young and more movies acted')\n",
    "young = stars.age < 30    \n",
    "more_movies = stars.movies > 30\n",
    "young_more = [young, more_movies]\n",
    "young_more_Criteria = functools.reduce(lambda x, y : x & y, young_more)\n",
    "print(stars[young_more_Criteria])"
   ]
  },
  {
   "cell_type": "markdown",
   "metadata": {
    "papermill": {
     "duration": 0.099652,
     "end_time": "2020-09-20T02:35:38.868526",
     "exception": false,
     "start_time": "2020-09-20T02:35:38.768874",
     "status": "completed"
    },
    "tags": []
   },
   "source": [
    "<div style=\"\">\n",
    "    <div style=\"float: left; width: 80%;\">\n",
    "        <a id=\"68\"></a>\n",
    "        <font><b>Task 68:</b></font>\n",
    "        <br><br>\n",
    "        Young, Higher Salary, and Higher Position\n",
    "    </div>\n",
    "    <div style=\"float: right;\">\n",
    "        <a href=\"#top\" class=\"btn btn-primary btn-sm\" role=\"button\" aria-pressed=\"true\" style=\"color:white\" data-toggle=\"popover\" title=\"go to Top\">Go to Top</a>\n",
    "    </div>\n",
    "    <br style=\"clear: left;\" />\n",
    "</div> "
   ]
  },
  {
   "cell_type": "code",
   "execution_count": 71,
   "metadata": {
    "execution": {
     "iopub.execute_input": "2020-09-20T02:35:39.081641Z",
     "iopub.status.busy": "2020-09-20T02:35:39.080739Z",
     "iopub.status.idle": "2020-09-20T02:35:39.085196Z",
     "shell.execute_reply": "2020-09-20T02:35:39.084658Z"
    },
    "papermill": {
     "duration": 0.116322,
     "end_time": "2020-09-20T02:35:39.085304",
     "exception": false,
     "start_time": "2020-09-20T02:35:38.968982",
     "status": "completed"
    },
    "tags": []
   },
   "outputs": [
    {
     "name": "stdout",
     "output_type": "stream",
     "text": [
      "Task 68:\n",
      "   age  salary  grade\n",
      "0   17      75      7\n",
      "1   50      33      8\n",
      "2   24      90      9\n",
      "3   45     175      2\n",
      "4   65     134      7\n",
      "5   18      78      8\n",
      "Young, Higher Salary, and Higher Position\n",
      "   age  salary  grade\n",
      "0   17      75      7\n",
      "2   24      90      9\n",
      "5   18      78      8\n"
     ]
    }
   ],
   "source": [
    "print('Task 68:')  \n",
    "employees = pd.DataFrame({\n",
    "    \"age\": [17, 50, 24, 45, 65, 18], \n",
    "    \"salary\": [75, 33, 90, 175, 134, 78],\n",
    "    \"grade\" : [7, 8, 9, 2, 7, 8] \n",
    "})  \n",
    "print(employees)\n",
    "print('Young, Higher Salary, and Higher Position')\n",
    "young = employees.age < 30\n",
    "high_salary = employees.salary > 60\n",
    "high_position = employees.grade > 6\n",
    "young_salary_position = [young, high_salary, high_position]\n",
    "young_salary_position_Criteria = functools.reduce(lambda x, y : x & y, young_salary_position)\n",
    "print(employees[young_salary_position_Criteria])"
   ]
  },
  {
   "cell_type": "markdown",
   "metadata": {
    "papermill": {
     "duration": 0.101592,
     "end_time": "2020-09-20T02:35:39.288264",
     "exception": false,
     "start_time": "2020-09-20T02:35:39.186672",
     "status": "completed"
    },
    "tags": []
   },
   "source": [
    "<div style=\"\">\n",
    "    <div style=\"float: left; width: 80%;\">\n",
    "        <a id=\"69\"></a>\n",
    "        <font><b>Task 69:</b></font>\n",
    "        <br><br>\n",
    "        Rename columns\n",
    "    </div>\n",
    "    <div style=\"float: right;\">\n",
    "        <a href=\"#top\" class=\"btn btn-primary btn-sm\" role=\"button\" aria-pressed=\"true\" style=\"color:white\" data-toggle=\"popover\" title=\"go to Top\">Go to Top</a>\n",
    "    </div>\n",
    "    <br style=\"clear: left;\" />\n",
    "</div>"
   ]
  },
  {
   "cell_type": "code",
   "execution_count": 72,
   "metadata": {
    "execution": {
     "iopub.execute_input": "2020-09-20T02:35:39.502579Z",
     "iopub.status.busy": "2020-09-20T02:35:39.502025Z",
     "iopub.status.idle": "2020-09-20T02:35:39.506128Z",
     "shell.execute_reply": "2020-09-20T02:35:39.505732Z"
    },
    "papermill": {
     "duration": 0.114989,
     "end_time": "2020-09-20T02:35:39.506226",
     "exception": false,
     "start_time": "2020-09-20T02:35:39.391237",
     "status": "completed"
    },
    "tags": []
   },
   "outputs": [
    {
     "name": "stdout",
     "output_type": "stream",
     "text": [
      "Task 69:\n",
      "   age  salary  grade\n",
      "0   17      75      7\n",
      "1   50      33      8\n",
      "2   24      90      9\n",
      "3   45     175      2\n",
      "4   65     134      7\n",
      "5   18      78      8\n",
      "   User Age  Salary 2018  grade\n",
      "0        17           75      7\n",
      "1        50           33      8\n",
      "2        24           90      9\n",
      "3        45          175      2\n",
      "4        65          134      7\n",
      "5        18           78      8\n"
     ]
    }
   ],
   "source": [
    "print('Task 69:')  \n",
    "employees = pd.DataFrame({\n",
    "    \"age\": [17, 50, 24, 45, 65, 18], \n",
    "    \"salary\": [75, 33, 90, 175, 134, 78],\n",
    "    \"grade\" : [7, 8, 9, 2, 7, 8] \n",
    "})  \n",
    "print(employees)\n",
    "employees.rename(columns={'age': 'User Age', 'salary': 'Salary 2018'}, inplace=True)\n",
    "print(employees)"
   ]
  },
  {
   "cell_type": "markdown",
   "metadata": {
    "papermill": {
     "duration": 0.101423,
     "end_time": "2020-09-20T02:35:39.709449",
     "exception": false,
     "start_time": "2020-09-20T02:35:39.608026",
     "status": "completed"
    },
    "tags": []
   },
   "source": [
    "<div style=\"\">\n",
    "    <div style=\"float: left; width: 80%;\">\n",
    "        <a id=\"70\"></a>\n",
    "        <font><b>Task 70:</b></font>\n",
    "        <br><br>\n",
    "        Add a new column\n",
    "    </div>\n",
    "    <div style=\"float: right;\">\n",
    "        <a href=\"#top\" class=\"btn btn-primary btn-sm\" role=\"button\" aria-pressed=\"true\" style=\"color:white\" data-toggle=\"popover\" title=\"go to Top\">Go to Top</a>\n",
    "    </div>\n",
    "    <br style=\"clear: left;\" />\n",
    "</div>"
   ]
  },
  {
   "cell_type": "code",
   "execution_count": 73,
   "metadata": {
    "execution": {
     "iopub.execute_input": "2020-09-20T02:35:39.925581Z",
     "iopub.status.busy": "2020-09-20T02:35:39.924922Z",
     "iopub.status.idle": "2020-09-20T02:35:39.929244Z",
     "shell.execute_reply": "2020-09-20T02:35:39.928840Z"
    },
    "papermill": {
     "duration": 0.118329,
     "end_time": "2020-09-20T02:35:39.929362",
     "exception": false,
     "start_time": "2020-09-20T02:35:39.811033",
     "status": "completed"
    },
    "tags": []
   },
   "outputs": [
    {
     "name": "stdout",
     "output_type": "stream",
     "text": [
      "Task 70:\n",
      "   age  salary  grade\n",
      "0   17      75      7\n",
      "1   50      33      8\n",
      "2   24      90      9\n",
      "3   45     175      2\n",
      "4   65     134      7\n",
      "5   18      78      8\n",
      "   age  salary  grade     group\n",
      "0   17      75      7  1.360710\n",
      "1   50      33      8  0.802086\n",
      "2   24      90      9 -1.003693\n",
      "3   45     175      2  0.663048\n",
      "4   65     134      7 -0.682799\n",
      "5   18      78      8 -0.774252\n"
     ]
    }
   ],
   "source": [
    "print('Task 70:')  \n",
    "employees = pd.DataFrame({\n",
    "    \"age\": [17, 50, 24, 45, 65, 18], \n",
    "    \"salary\": [75, 33, 90, 175, 134, 78],\n",
    "    \"grade\" : [7, 8, 9, 2, 7, 8] \n",
    "})  \n",
    "print(employees)\n",
    "employees['group'] = pd.Series(np.random.randn(len(employees)))\n",
    "print(employees)"
   ]
  },
  {
   "cell_type": "markdown",
   "metadata": {
    "papermill": {
     "duration": 0.101451,
     "end_time": "2020-09-20T02:35:40.135719",
     "exception": false,
     "start_time": "2020-09-20T02:35:40.034268",
     "status": "completed"
    },
    "tags": []
   },
   "source": [
    "<div style=\"\">\n",
    "    <div style=\"float: left; width: 80%;\">\n",
    "        <a id=\"71\"></a>\n",
    "        <font><b>Task 71:</b></font>\n",
    "        <br><br>\n",
    "        Drop a column\n",
    "    </div>\n",
    "    <div style=\"float: right;\">\n",
    "        <a href=\"#top\" class=\"btn btn-primary btn-sm\" role=\"button\" aria-pressed=\"true\" style=\"color:white\" data-toggle=\"popover\" title=\"go to Top\">Go to Top</a>\n",
    "    </div>\n",
    "    <br style=\"clear: left;\" />\n",
    "</div> "
   ]
  },
  {
   "cell_type": "code",
   "execution_count": 74,
   "metadata": {
    "execution": {
     "iopub.execute_input": "2020-09-20T02:35:40.350981Z",
     "iopub.status.busy": "2020-09-20T02:35:40.350148Z",
     "iopub.status.idle": "2020-09-20T02:35:40.364810Z",
     "shell.execute_reply": "2020-09-20T02:35:40.365345Z"
    },
    "papermill": {
     "duration": 0.128281,
     "end_time": "2020-09-20T02:35:40.365491",
     "exception": false,
     "start_time": "2020-09-20T02:35:40.237210",
     "status": "completed"
    },
    "tags": []
   },
   "outputs": [
    {
     "name": "stdout",
     "output_type": "stream",
     "text": [
      "Task 71:\n",
      "   age  salary  grade\n",
      "0   17      75      7\n",
      "1   50      33      8\n",
      "2   24      90      9\n",
      "3   45     175      2\n",
      "4   65     134      7\n",
      "5   18      78      8\n",
      "   age  salary  grade     group\n",
      "0   17      75      7 -1.143825\n",
      "1   50      33      8  0.259716\n",
      "2   24      90      9 -1.069531\n",
      "3   45     175      2  0.566547\n",
      "4   65     134      7  0.345881\n",
      "5   18      78      8  0.868072\n",
      "   salary  grade     group\n",
      "0      75      7 -1.143825\n",
      "1      33      8  0.259716\n",
      "2      90      9 -1.069531\n",
      "3     175      2  0.566547\n",
      "4     134      7  0.345881\n",
      "5      78      8  0.868072\n"
     ]
    }
   ],
   "source": [
    "print('Task 71:')  \n",
    "employees = pd.DataFrame({\n",
    "    \"age\": [17, 50, 24, 45, 65, 18], \n",
    "    \"salary\": [75, 33, 90, 175, 134, 78],\n",
    "    \"grade\" : [7, 8, 9, 2, 7, 8] \n",
    "})  \n",
    "print(employees)\n",
    "employees['group'] = pd.Series(np.random.randn(len(employees)))\n",
    "print(employees)\n",
    "employees.drop(employees.columns[[0]], axis=1, inplace = True)\n",
    "print(employees)"
   ]
  },
  {
   "cell_type": "markdown",
   "metadata": {
    "papermill": {
     "duration": 0.102881,
     "end_time": "2020-09-20T02:35:40.589247",
     "exception": false,
     "start_time": "2020-09-20T02:35:40.486366",
     "status": "completed"
    },
    "tags": []
   },
   "source": [
    "<div style=\"\">\n",
    "    <div style=\"float: left; width: 80%;\">\n",
    "        <a id=\"72\"></a>\n",
    "        <font><b>Task 72:</b></font>\n",
    "        <br><br>\n",
    "        Drop multiple columns\n",
    "    </div>\n",
    "    <div style=\"float: right;\">\n",
    "        <a href=\"#top\" class=\"btn btn-primary btn-sm\" role=\"button\" aria-pressed=\"true\" style=\"color:white\" data-toggle=\"popover\" title=\"go to Top\">Go to Top</a>\n",
    "    </div>\n",
    "    <br style=\"clear: left;\" />\n",
    "</div> "
   ]
  },
  {
   "cell_type": "code",
   "execution_count": 75,
   "metadata": {
    "execution": {
     "iopub.execute_input": "2020-09-20T02:35:40.800558Z",
     "iopub.status.busy": "2020-09-20T02:35:40.799647Z",
     "iopub.status.idle": "2020-09-20T02:35:40.815248Z",
     "shell.execute_reply": "2020-09-20T02:35:40.814685Z"
    },
    "papermill": {
     "duration": 0.123636,
     "end_time": "2020-09-20T02:35:40.815381",
     "exception": false,
     "start_time": "2020-09-20T02:35:40.691745",
     "status": "completed"
    },
    "tags": []
   },
   "outputs": [
    {
     "name": "stdout",
     "output_type": "stream",
     "text": [
      "Task 72:\n",
      "   age  salary  grade\n",
      "0   17      75      7\n",
      "1   50      33      8\n",
      "2   24      90      9\n",
      "3   45     175      2\n",
      "4   65     134      7\n",
      "5   18      78      8\n",
      "   age  salary  grade     group\n",
      "0   17      75      7 -0.938384\n",
      "1   50      33      8 -1.051741\n",
      "2   24      90      9  1.334088\n",
      "3   45     175      2 -0.972690\n",
      "4   65     134      7 -0.538307\n",
      "5   18      78      8 -1.478065\n",
      "   age     group\n",
      "0   17 -0.938384\n",
      "1   50 -1.051741\n",
      "2   24  1.334088\n",
      "3   45 -0.972690\n",
      "4   65 -0.538307\n",
      "5   18 -1.478065\n"
     ]
    }
   ],
   "source": [
    "print('Task 72:')  \n",
    "employees = pd.DataFrame({\n",
    "    \"age\": [17, 50, 24, 45, 65, 18], \n",
    "    \"salary\": [75, 33, 90, 175, 134, 78],\n",
    "    \"grade\" : [7, 8, 9, 2, 7, 8] \n",
    "})  \n",
    "print(employees)\n",
    "employees['group'] = pd.Series(np.random.randn(len(employees)))\n",
    "print(employees)\n",
    "employees.drop(employees.columns[[1, 2]], axis=1, inplace = True)\n",
    "print(employees)"
   ]
  },
  {
   "cell_type": "markdown",
   "metadata": {
    "papermill": {
     "duration": 0.108008,
     "end_time": "2020-09-20T02:35:41.028765",
     "exception": false,
     "start_time": "2020-09-20T02:35:40.920757",
     "status": "completed"
    },
    "tags": []
   },
   "source": [
    "<div style=\"\">\n",
    "    <div style=\"float: left; width: 80%;\">\n",
    "        <a id=\"73\"></a>\n",
    "        <font><b>Task 73:</b></font>\n",
    "        <br><br>\n",
    "        Drop first and last column\n",
    "    </div>\n",
    "    <div style=\"float: right;\">\n",
    "        <a href=\"#top\" class=\"btn btn-primary btn-sm\" role=\"button\" aria-pressed=\"true\" style=\"color:white\" data-toggle=\"popover\" title=\"go to Top\">Go to Top</a>\n",
    "    </div>\n",
    "    <br style=\"clear: left;\" />\n",
    "</div> "
   ]
  },
  {
   "cell_type": "code",
   "execution_count": 76,
   "metadata": {
    "execution": {
     "iopub.execute_input": "2020-09-20T02:35:41.245207Z",
     "iopub.status.busy": "2020-09-20T02:35:41.244666Z",
     "iopub.status.idle": "2020-09-20T02:35:41.248491Z",
     "shell.execute_reply": "2020-09-20T02:35:41.248867Z"
    },
    "papermill": {
     "duration": 0.1173,
     "end_time": "2020-09-20T02:35:41.248999",
     "exception": false,
     "start_time": "2020-09-20T02:35:41.131699",
     "status": "completed"
    },
    "tags": []
   },
   "outputs": [
    {
     "name": "stdout",
     "output_type": "stream",
     "text": [
      "Task 73:\n",
      "   age  salary  grade  group\n",
      "0   17      75      7      1\n",
      "1   50      33      8      1\n",
      "2   24      90      9      2\n",
      "3   45     175      2      2\n",
      "4   65     134      7      2\n",
      "5   18      78      8      1\n",
      "   salary  grade\n",
      "0      75      7\n",
      "1      33      8\n",
      "2      90      9\n",
      "3     175      2\n",
      "4     134      7\n",
      "5      78      8\n"
     ]
    }
   ],
   "source": [
    "print('Task 73:')  \n",
    "employees = pd.DataFrame({\n",
    "    \"age\": [17, 50, 24, 45, 65, 18], \n",
    "    \"salary\": [75, 33, 90, 175, 134, 78],\n",
    "    \"grade\" : [7, 8, 9, 2, 7, 8],\n",
    "    \"group\" : [1, 1, 2, 2, 2, 1] \n",
    "    \n",
    "})  \n",
    "print(employees)\n",
    "employees.drop(employees.columns[[0, len(employees.columns)-1]], axis=1, inplace = True)\n",
    "print(employees)"
   ]
  },
  {
   "cell_type": "markdown",
   "metadata": {
    "papermill": {
     "duration": 0.101733,
     "end_time": "2020-09-20T02:35:41.453132",
     "exception": false,
     "start_time": "2020-09-20T02:35:41.351399",
     "status": "completed"
    },
    "tags": []
   },
   "source": [
    "<div style=\"\">\n",
    "    <div style=\"float: left; width: 80%;\">\n",
    "        <a id=\"74\"></a>\n",
    "        <font><b>Task 74:</b></font>\n",
    "        <br><br>\n",
    "        Delete by pop function\n",
    "    </div>\n",
    "    <div style=\"float: right;\">\n",
    "        <a href=\"#top\" class=\"btn btn-primary btn-sm\" role=\"button\" aria-pressed=\"true\" style=\"color:white\" data-toggle=\"popover\" title=\"go to Top\">Go to Top</a>\n",
    "    </div>\n",
    "    <br style=\"clear: left;\" />\n",
    "</div>"
   ]
  },
  {
   "cell_type": "code",
   "execution_count": 77,
   "metadata": {
    "execution": {
     "iopub.execute_input": "2020-09-20T02:35:41.660672Z",
     "iopub.status.busy": "2020-09-20T02:35:41.660072Z",
     "iopub.status.idle": "2020-09-20T02:35:41.672816Z",
     "shell.execute_reply": "2020-09-20T02:35:41.672302Z"
    },
    "papermill": {
     "duration": 0.117868,
     "end_time": "2020-09-20T02:35:41.672907",
     "exception": false,
     "start_time": "2020-09-20T02:35:41.555039",
     "status": "completed"
    },
    "tags": []
   },
   "outputs": [
    {
     "name": "stdout",
     "output_type": "stream",
     "text": [
      "Task 74:\n",
      "   age  salary  grade  group\n",
      "0   17      75      7      1\n",
      "1   50      33      8      1\n",
      "2   24      90      9      2\n",
      "3   45     175      2      2\n",
      "4   65     134      7      2\n",
      "5   18      78      8      1\n",
      "   age  salary  grade\n",
      "0   17      75      7\n",
      "1   50      33      8\n",
      "2   24      90      9\n",
      "3   45     175      2\n",
      "4   65     134      7\n",
      "5   18      78      8\n",
      "0    1\n",
      "1    1\n",
      "2    2\n",
      "3    2\n",
      "4    2\n",
      "5    1\n",
      "Name: group, dtype: int64\n"
     ]
    }
   ],
   "source": [
    "print('Task 74:')  \n",
    "employees = pd.DataFrame({\n",
    "    \"age\": [17, 50, 24, 45, 65, 18], \n",
    "    \"salary\": [75, 33, 90, 175, 134, 78],\n",
    "    \"grade\" : [7, 8, 9, 2, 7, 8],\n",
    "    \"group\" : [1, 1, 2, 2, 2, 1] \n",
    "    \n",
    "})  \n",
    "print(employees)\n",
    "group = employees.pop('group')\n",
    "print(employees)\n",
    "print(group)"
   ]
  },
  {
   "cell_type": "markdown",
   "metadata": {
    "papermill": {
     "duration": 0.104767,
     "end_time": "2020-09-20T02:35:41.881864",
     "exception": false,
     "start_time": "2020-09-20T02:35:41.777097",
     "status": "completed"
    },
    "tags": []
   },
   "source": [
    "<div style=\"\">\n",
    "    <div style=\"float: left; width: 80%;\">\n",
    "        <a id=\"75\"></a>\n",
    "        <font><b>Task 75:</b></font>\n",
    "        <br><br>\n",
    "        DataFrame.from_items\n",
    "    </div>\n",
    "    <div style=\"float: right;\">\n",
    "        <a href=\"#top\" class=\"btn btn-primary btn-sm\" role=\"button\" aria-pressed=\"true\" style=\"color:white\" data-toggle=\"popover\" title=\"go to Top\">Go to Top</a>\n",
    "    </div>\n",
    "    <br style=\"clear: left;\" />\n",
    "</div>"
   ]
  },
  {
   "cell_type": "code",
   "execution_count": 78,
   "metadata": {
    "execution": {
     "iopub.execute_input": "2020-09-20T02:35:42.094446Z",
     "iopub.status.busy": "2020-09-20T02:35:42.093882Z",
     "iopub.status.idle": "2020-09-20T02:35:42.098092Z",
     "shell.execute_reply": "2020-09-20T02:35:42.098593Z"
    },
    "papermill": {
     "duration": 0.111075,
     "end_time": "2020-09-20T02:35:42.098706",
     "exception": false,
     "start_time": "2020-09-20T02:35:41.987631",
     "status": "completed"
    },
    "tags": []
   },
   "outputs": [
    {
     "name": "stdout",
     "output_type": "stream",
     "text": [
      "Task 75:\n"
     ]
    }
   ],
   "source": [
    "print('Task 75:')  \n",
    "# df = pd.DataFrame.from_items([('A', [1, 2, 3]), ('B', [4, 5, 6]), ('C', [7,8, 9])], orient='index', columns=['one', 'two', 'three'])\n",
    "# print(df) # throwing error"
   ]
  },
  {
   "cell_type": "markdown",
   "metadata": {
    "papermill": {
     "duration": 0.104541,
     "end_time": "2020-09-20T02:35:42.308651",
     "exception": false,
     "start_time": "2020-09-20T02:35:42.204110",
     "status": "completed"
    },
    "tags": []
   },
   "source": [
    "<div style=\"\">\n",
    "    <div style=\"float: left; width: 80%;\">\n",
    "        <a id=\"76\"></a>\n",
    "        <font><b>Task 76:</b></font>\n",
    "        <br><br>\n",
    "        Pandas to list\n",
    "    </div>\n",
    "    <div style=\"float: right;\">\n",
    "        <a href=\"#top\" class=\"btn btn-primary btn-sm\" role=\"button\" aria-pressed=\"true\" style=\"color:white\" data-toggle=\"popover\" title=\"go to Top\">Go to Top</a>\n",
    "    </div>\n",
    "    <br style=\"clear: left;\" />\n",
    "</div> "
   ]
  },
  {
   "cell_type": "code",
   "execution_count": 79,
   "metadata": {
    "execution": {
     "iopub.execute_input": "2020-09-20T02:35:42.528699Z",
     "iopub.status.busy": "2020-09-20T02:35:42.528141Z",
     "iopub.status.idle": "2020-09-20T02:35:42.530448Z",
     "shell.execute_reply": "2020-09-20T02:35:42.530862Z"
    },
    "papermill": {
     "duration": 0.117168,
     "end_time": "2020-09-20T02:35:42.530981",
     "exception": false,
     "start_time": "2020-09-20T02:35:42.413813",
     "status": "completed"
    },
    "tags": []
   },
   "outputs": [
    {
     "name": "stdout",
     "output_type": "stream",
     "text": [
      "Task 76:\n",
      "   age  salary  grade  group\n",
      "0   17      75      7      1\n",
      "1   50      33      8      1\n",
      "2   24      90      9      2\n",
      "3   45     175      2      2\n",
      "4   65     134      7      2\n",
      "5   18      78      8      1\n",
      "['age', 'salary', 'grade', 'group']\n",
      "[[17, 75, 7, 1], [50, 33, 8, 1], [24, 90, 9, 2], [45, 175, 2, 2], [65, 134, 7, 2], [18, 78, 8, 1]]\n"
     ]
    }
   ],
   "source": [
    "print('Task 76:')\n",
    "employees = pd.DataFrame({\n",
    "    \"age\": [17, 50, 24, 45, 65, 18], \n",
    "    \"salary\": [75, 33, 90, 175, 134, 78],\n",
    "    \"grade\" : [7, 8, 9, 2, 7, 8],\n",
    "    \"group\" : [1, 1, 2, 2, 2, 1] \n",
    "    \n",
    "})  \n",
    "print(employees)  \n",
    "employees_list1 = list(employees.columns.values) \n",
    "employees_list2 = employees.values.tolist()\n",
    "#employees_list = list(employees)\n",
    "print(employees_list1)\n",
    "print(employees_list2)"
   ]
  },
  {
   "cell_type": "markdown",
   "metadata": {
    "papermill": {
     "duration": 0.104942,
     "end_time": "2020-09-20T02:35:42.742421",
     "exception": false,
     "start_time": "2020-09-20T02:35:42.637479",
     "status": "completed"
    },
    "tags": []
   },
   "source": [
    "<div style=\"\">\n",
    "    <div style=\"float: left; width: 80%;\">\n",
    "        <a id=\"77\"></a>\n",
    "        <font><b>Task 77:</b></font>\n",
    "        <br><br>\n",
    "        Pandas rows to list\n",
    "    </div>\n",
    "    <div style=\"float: right;\">\n",
    "        <a href=\"#top\" class=\"btn btn-primary btn-sm\" role=\"button\" aria-pressed=\"true\" style=\"color:white\" data-toggle=\"popover\" title=\"go to Top\">Go to Top</a>\n",
    "    </div>\n",
    "    <br style=\"clear: left;\" />\n",
    "</div> "
   ]
  },
  {
   "cell_type": "code",
   "execution_count": 80,
   "metadata": {
    "execution": {
     "iopub.execute_input": "2020-09-20T02:35:42.996519Z",
     "iopub.status.busy": "2020-09-20T02:35:42.995528Z",
     "iopub.status.idle": "2020-09-20T02:35:43.004120Z",
     "shell.execute_reply": "2020-09-20T02:35:43.004907Z"
    },
    "papermill": {
     "duration": 0.158146,
     "end_time": "2020-09-20T02:35:43.005097",
     "exception": false,
     "start_time": "2020-09-20T02:35:42.846951",
     "status": "completed"
    },
    "tags": []
   },
   "outputs": [
    {
     "name": "stdout",
     "output_type": "stream",
     "text": [
      "Task 77:\n",
      "   age  salary  grade  group\n",
      "0   17      75      7      1\n",
      "1   50      33      8      1\n",
      "2   24      90      9      2\n",
      "3   45     175      2      2\n",
      "4   65     134      7      2\n",
      "5   18      78      8      1\n",
      "[[17, 75, 7, 1], [50, 33, 8, 1], [24, 90, 9, 2], [45, 175, 2, 2], [65, 134, 7, 2], [18, 78, 8, 1]]\n",
      "<class 'list'>\n",
      "6\n"
     ]
    }
   ],
   "source": [
    "print('Task 77:')\n",
    "employees = pd.DataFrame({\n",
    "    \"age\": [17, 50, 24, 45, 65, 18], \n",
    "    \"salary\": [75, 33, 90, 175, 134, 78],\n",
    "    \"grade\" : [7, 8, 9, 2, 7, 8],\n",
    "    \"group\" : [1, 1, 2, 2, 2, 1] \n",
    "    \n",
    "})  \n",
    "print(employees)  \n",
    "employees_list2 = employees.values.tolist()\n",
    "print(employees_list2)\n",
    "print(type(employees_list2))\n",
    "print(len(employees_list2))"
   ]
  },
  {
   "cell_type": "markdown",
   "metadata": {
    "papermill": {
     "duration": 0.104444,
     "end_time": "2020-09-20T02:35:43.236258",
     "exception": false,
     "start_time": "2020-09-20T02:35:43.131814",
     "status": "completed"
    },
    "tags": []
   },
   "source": [
    "<div style=\"\">\n",
    "    <div style=\"float: left; width: 80%;\">\n",
    "        <a id=\"78\"></a>\n",
    "        <font><b>Task 78:</b></font>\n",
    "        <br><br>\n",
    "        XPandas rows to array \n",
    "\n",
    "        <br>Note: as_matrix is deprecatedYZ\n",
    "    </div>\n",
    "    <div style=\"float: right;\">\n",
    "        <a href=\"#top\" class=\"btn btn-primary btn-sm\" role=\"button\" aria-pressed=\"true\" style=\"color:white\" data-toggle=\"popover\" title=\"go to Top\">Go to Top</a>\n",
    "    </div>\n",
    "    <br style=\"clear: left;\" />\n",
    "</div> "
   ]
  },
  {
   "cell_type": "code",
   "execution_count": 81,
   "metadata": {
    "execution": {
     "iopub.execute_input": "2020-09-20T02:35:43.451217Z",
     "iopub.status.busy": "2020-09-20T02:35:43.450697Z",
     "iopub.status.idle": "2020-09-20T02:35:43.461093Z",
     "shell.execute_reply": "2020-09-20T02:35:43.461830Z"
    },
    "papermill": {
     "duration": 0.117946,
     "end_time": "2020-09-20T02:35:43.462037",
     "exception": false,
     "start_time": "2020-09-20T02:35:43.344091",
     "status": "completed"
    },
    "tags": []
   },
   "outputs": [
    {
     "name": "stdout",
     "output_type": "stream",
     "text": [
      "Task 78:\n",
      "   age  salary  grade  group\n",
      "0   17      75      7      1\n",
      "1   50      33      8      1\n",
      "2   24      90      9      2\n",
      "3   45     175      2      2\n",
      "4   65     134      7      2\n",
      "5   18      78      8      1\n",
      "[[ 17  75   7   1]\n",
      " [ 50  33   8   1]\n",
      " [ 24  90   9   2]\n",
      " [ 45 175   2   2]\n",
      " [ 65 134   7   2]\n",
      " [ 18  78   8   1]]\n",
      "<class 'numpy.ndarray'>\n",
      "(6, 4)\n"
     ]
    }
   ],
   "source": [
    "print('Task 78:')\n",
    "employees = pd.DataFrame({\n",
    "    \"age\": [17, 50, 24, 45, 65, 18], \n",
    "    \"salary\": [75, 33, 90, 175, 134, 78],\n",
    "    \"grade\" : [7, 8, 9, 2, 7, 8],\n",
    "    \"group\" : [1, 1, 2, 2, 2, 1] \n",
    "    \n",
    "})  \n",
    "print(employees)  \n",
    "employees_list2 = employees.values\n",
    "print(employees_list2)\n",
    "print(type(employees_list2))\n",
    "print(employees_list2.shape)"
   ]
  },
  {
   "cell_type": "markdown",
   "metadata": {
    "papermill": {
     "duration": 0.105153,
     "end_time": "2020-09-20T02:35:43.672938",
     "exception": false,
     "start_time": "2020-09-20T02:35:43.567785",
     "status": "completed"
    },
    "tags": []
   },
   "source": [
    "<div style=\"\">\n",
    "    <div style=\"float: left; width: 80%;\">\n",
    "        <a id=\"79\"></a>\n",
    "        <font><b>Task 79:</b></font>\n",
    "        <br><br>\n",
    "        Pandas rows to map\n",
    "    </div>\n",
    "    <div style=\"float: right;\">\n",
    "        <a href=\"#top\" class=\"btn btn-primary btn-sm\" role=\"button\" aria-pressed=\"true\" style=\"color:white\" data-toggle=\"popover\" title=\"go to Top\">Go to Top</a>\n",
    "    </div>\n",
    "    <br style=\"clear: left;\" />\n",
    "</div> "
   ]
  },
  {
   "cell_type": "code",
   "execution_count": 82,
   "metadata": {
    "execution": {
     "iopub.execute_input": "2020-09-20T02:35:43.892125Z",
     "iopub.status.busy": "2020-09-20T02:35:43.891433Z",
     "iopub.status.idle": "2020-09-20T02:35:43.894926Z",
     "shell.execute_reply": "2020-09-20T02:35:43.894377Z"
    },
    "papermill": {
     "duration": 0.118094,
     "end_time": "2020-09-20T02:35:43.895024",
     "exception": false,
     "start_time": "2020-09-20T02:35:43.776930",
     "status": "completed"
    },
    "tags": []
   },
   "outputs": [
    {
     "name": "stdout",
     "output_type": "stream",
     "text": [
      "Task 79:\n",
      "   age  salary  grade  group\n",
      "0   17      75      7      1\n",
      "1   50      33      8      1\n",
      "2   24      90      9      2\n",
      "3   45     175      2      2\n",
      "4   65     134      7      2\n",
      "5   18      78      8      1\n",
      "<map object at 0x7f3556654590>\n",
      "<class 'map'>\n"
     ]
    }
   ],
   "source": [
    "print('Task 79:')\n",
    "employees = pd.DataFrame({\n",
    "    \"age\": [17, 50, 24, 45, 65, 18], \n",
    "    \"salary\": [75, 33, 90, 175, 134, 78],\n",
    "    \"grade\" : [7, 8, 9, 2, 7, 8],\n",
    "    \"group\" : [1, 1, 2, 2, 2, 1] \n",
    "    \n",
    "})  \n",
    "print(employees)  \n",
    "employees_list2 = map(list, employees.values)\n",
    "print(employees_list2)\n",
    "print(type(employees_list2))"
   ]
  },
  {
   "cell_type": "markdown",
   "metadata": {
    "papermill": {
     "duration": 0.104121,
     "end_time": "2020-09-20T02:35:44.106775",
     "exception": false,
     "start_time": "2020-09-20T02:35:44.002654",
     "status": "completed"
    },
    "tags": []
   },
   "source": [
    "<div style=\"\">\n",
    "    <div style=\"float: left; width: 80%;\">\n",
    "        <a id=\"80\"></a>\n",
    "        <font><b>Task 80:</b></font>\n",
    "        <br><br>\n",
    "        Pandas rows to map\n",
    "    </div>\n",
    "    <div style=\"float: right;\">\n",
    "        <a href=\"#top\" class=\"btn btn-primary btn-sm\" role=\"button\" aria-pressed=\"true\" style=\"color:white\" data-toggle=\"popover\" title=\"go to Top\">Go to Top</a>\n",
    "    </div>\n",
    "    <br style=\"clear: left;\" />\n",
    "</div>"
   ]
  },
  {
   "cell_type": "code",
   "execution_count": 83,
   "metadata": {
    "execution": {
     "iopub.execute_input": "2020-09-20T02:35:44.326172Z",
     "iopub.status.busy": "2020-09-20T02:35:44.325253Z",
     "iopub.status.idle": "2020-09-20T02:35:44.337880Z",
     "shell.execute_reply": "2020-09-20T02:35:44.339010Z"
    },
    "papermill": {
     "duration": 0.12773,
     "end_time": "2020-09-20T02:35:44.339177",
     "exception": false,
     "start_time": "2020-09-20T02:35:44.211447",
     "status": "completed"
    },
    "tags": []
   },
   "outputs": [
    {
     "name": "stdout",
     "output_type": "stream",
     "text": [
      "Task 80:\n",
      "   age  salary  grade  group\n",
      "0   17      75      7      1\n",
      "1   50      33      8      1\n",
      "2   24      90      9      2\n",
      "3   45     175      2      2\n",
      "4   65     134      7      2\n",
      "5   18      78      8      1\n",
      "[[17, 75, 7, 1], [50, 33, 8, 1], [24, 90, 9, 2], [45, 175, 2, 2], [65, 134, 7, 2], [18, 78, 8, 1]]\n",
      "<class 'list'>\n"
     ]
    }
   ],
   "source": [
    "print('Task 80:')\n",
    "employees = pd.DataFrame({\n",
    "    \"age\": [17, 50, 24, 45, 65, 18], \n",
    "    \"salary\": [75, 33, 90, 175, 134, 78],\n",
    "    \"grade\" : [7, 8, 9, 2, 7, 8],\n",
    "    \"group\" : [1, 1, 2, 2, 2, 1] \n",
    "    \n",
    "})  \n",
    "print(employees)  \n",
    "employees_list2 = list(map(list, employees.values))\n",
    "print(employees_list2)\n",
    "print(type(employees_list2))"
   ]
  },
  {
   "cell_type": "markdown",
   "metadata": {
    "papermill": {
     "duration": 0.10665,
     "end_time": "2020-09-20T02:35:44.556101",
     "exception": false,
     "start_time": "2020-09-20T02:35:44.449451",
     "status": "completed"
    },
    "tags": []
   },
   "source": [
    "<div style=\"\">\n",
    "    <div style=\"float: left; width: 80%;\">\n",
    "        <a id=\"81\"></a>\n",
    "        <font><b>Task 81:</b></font>\n",
    "        <br><br>\n",
    "        Drop duplicates\n",
    "    </div>\n",
    "    <div style=\"float: right;\">\n",
    "        <a href=\"#top\" class=\"btn btn-primary btn-sm\" role=\"button\" aria-pressed=\"true\" style=\"color:white\" data-toggle=\"popover\" title=\"go to Top\">Go to Top</a>\n",
    "    </div>\n",
    "    <br style=\"clear: left;\" />\n",
    "</div> "
   ]
  },
  {
   "cell_type": "code",
   "execution_count": 84,
   "metadata": {
    "execution": {
     "iopub.execute_input": "2020-09-20T02:35:44.781213Z",
     "iopub.status.busy": "2020-09-20T02:35:44.780529Z",
     "iopub.status.idle": "2020-09-20T02:35:44.784650Z",
     "shell.execute_reply": "2020-09-20T02:35:44.784032Z"
    },
    "papermill": {
     "duration": 0.121977,
     "end_time": "2020-09-20T02:35:44.784787",
     "exception": false,
     "start_time": "2020-09-20T02:35:44.662810",
     "status": "completed"
    },
    "tags": []
   },
   "outputs": [
    {
     "name": "stdout",
     "output_type": "stream",
     "text": [
      "Task 81:\n",
      "   id      city  count\n",
      "0   1   Toronto      7\n",
      "1   1  Montreal      8\n",
      "2   2   Calgary      9\n",
      "3   2  Montreal      2\n",
      "4   3  Montreal      7\n",
      "5   3    Ottawa      8\n",
      "   id      city  count\n",
      "1   1  Montreal      8\n",
      "3   2  Montreal      2\n",
      "5   3    Ottawa      8\n"
     ]
    }
   ],
   "source": [
    "print('Task 81:')  \n",
    "users = pd.DataFrame({\n",
    "    \"id\": [1, 1, 2, 2, 3, 3], \n",
    "    \"city\": ['Toronto', 'Montreal', 'Calgary', 'Montreal', 'Montreal', 'Ottawa'],\n",
    "    \"count\" : [7, 8, 9, 2, 7, 8] \n",
    "    \n",
    "}) \n",
    "print(users)\n",
    "users.drop_duplicates('id', inplace=True, keep='last')\n",
    "print(users)"
   ]
  },
  {
   "cell_type": "markdown",
   "metadata": {
    "papermill": {
     "duration": 0.104834,
     "end_time": "2020-09-20T02:35:44.995919",
     "exception": false,
     "start_time": "2020-09-20T02:35:44.891085",
     "status": "completed"
    },
    "tags": []
   },
   "source": [
    "<div style=\"\">\n",
    "    <div style=\"float: left; width: 80%;\">\n",
    "        <a id=\"82\"></a>\n",
    "        <font><b>Task 82:</b></font>\n",
    "        <br><br>\n",
    "        Selecting multiple columns\n",
    "    </div>\n",
    "    <div style=\"float: right;\">\n",
    "        <a href=\"#top\" class=\"btn btn-primary btn-sm\" role=\"button\" aria-pressed=\"true\" style=\"color:white\" data-toggle=\"popover\" title=\"go to Top\">Go to Top</a>\n",
    "    </div>\n",
    "    <br style=\"clear: left;\" />\n",
    "</div> "
   ]
  },
  {
   "cell_type": "code",
   "execution_count": 85,
   "metadata": {
    "execution": {
     "iopub.execute_input": "2020-09-20T02:35:45.211171Z",
     "iopub.status.busy": "2020-09-20T02:35:45.210619Z",
     "iopub.status.idle": "2020-09-20T02:35:45.218777Z",
     "shell.execute_reply": "2020-09-20T02:35:45.218245Z"
    },
    "papermill": {
     "duration": 0.11817,
     "end_time": "2020-09-20T02:35:45.218879",
     "exception": false,
     "start_time": "2020-09-20T02:35:45.100709",
     "status": "completed"
    },
    "tags": []
   },
   "outputs": [
    {
     "name": "stdout",
     "output_type": "stream",
     "text": [
      "Task 82:\n",
      "   id      city  count\n",
      "0   1   Toronto      7\n",
      "1   1  Montreal      8\n",
      "2   2   Calgary      9\n",
      "3   2  Montreal      2\n",
      "4   3  Montreal      7\n",
      "5   3    Ottawa      8\n",
      "   id      city\n",
      "0   1   Toronto\n",
      "1   1  Montreal\n",
      "2   2   Calgary\n",
      "3   2  Montreal\n",
      "4   3  Montreal\n",
      "5   3    Ottawa\n"
     ]
    }
   ],
   "source": [
    "print('Task 82:')  \n",
    "users = pd.DataFrame({\n",
    "    \"id\": [1, 1, 2, 2, 3, 3], \n",
    "    \"city\": ['Toronto', 'Montreal', 'Calgary', 'Montreal', 'Montreal', 'Ottawa'],\n",
    "    \"count\" : [7, 8, 9, 2, 7, 8] \n",
    "    \n",
    "}) \n",
    "print(users)\n",
    "users1 = users[['id', 'city']]\n",
    "print(users1)"
   ]
  },
  {
   "cell_type": "markdown",
   "metadata": {
    "papermill": {
     "duration": 0.114688,
     "end_time": "2020-09-20T02:35:45.440466",
     "exception": false,
     "start_time": "2020-09-20T02:35:45.325778",
     "status": "completed"
    },
    "tags": []
   },
   "source": [
    "<div style=\"\">\n",
    "    <div style=\"float: left; width: 80%;\">\n",
    "        <a id=\"83\"></a>\n",
    "        <font><b>Task 83:</b></font>\n",
    "        <br><br>\n",
    "        Selecting multiple columns\n",
    "    </div>\n",
    "    <div style=\"float: right;\">\n",
    "        <a href=\"#top\" class=\"btn btn-primary btn-sm\" role=\"button\" aria-pressed=\"true\" style=\"color:white\" data-toggle=\"popover\" title=\"go to Top\">Go to Top</a>\n",
    "    </div>\n",
    "    <br style=\"clear: left;\" />\n",
    "</div>"
   ]
  },
  {
   "cell_type": "code",
   "execution_count": 86,
   "metadata": {
    "execution": {
     "iopub.execute_input": "2020-09-20T02:35:45.680251Z",
     "iopub.status.busy": "2020-09-20T02:35:45.679511Z",
     "iopub.status.idle": "2020-09-20T02:35:45.682389Z",
     "shell.execute_reply": "2020-09-20T02:35:45.682990Z"
    },
    "papermill": {
     "duration": 0.136055,
     "end_time": "2020-09-20T02:35:45.683128",
     "exception": false,
     "start_time": "2020-09-20T02:35:45.547073",
     "status": "completed"
    },
    "tags": []
   },
   "outputs": [
    {
     "name": "stdout",
     "output_type": "stream",
     "text": [
      "Task 83:\n",
      "   id      city  count\n",
      "0   1   Toronto      7\n",
      "1   1  Montreal      8\n",
      "2   2   Calgary      9\n",
      "3   2  Montreal      2\n",
      "4   3  Montreal      7\n",
      "5   3    Ottawa      8\n",
      "   id  count\n",
      "0   1      7\n",
      "1   1      8\n",
      "2   2      9\n",
      "3   2      2\n",
      "4   3      7\n",
      "5   3      8\n"
     ]
    }
   ],
   "source": [
    "print('Task 83:')  \n",
    "users = pd.DataFrame({\n",
    "    \"id\": [1, 1, 2, 2, 3, 3], \n",
    "    \"city\": ['Toronto', 'Montreal', 'Calgary', 'Montreal', 'Montreal', 'Ottawa'],\n",
    "    \"count\" : [7, 8, 9, 2, 7, 8] \n",
    "}) \n",
    "print(users)\n",
    "columns = ['id', 'count']\n",
    "users1 = pd.DataFrame(users, columns=columns)\n",
    "print(users1)"
   ]
  },
  {
   "cell_type": "markdown",
   "metadata": {
    "papermill": {
     "duration": 0.114245,
     "end_time": "2020-09-20T02:35:45.906764",
     "exception": false,
     "start_time": "2020-09-20T02:35:45.792519",
     "status": "completed"
    },
    "tags": []
   },
   "source": [
    "<div style=\"\">\n",
    "    <div style=\"float: left; width: 80%;\">\n",
    "        <a id=\"84\"></a>\n",
    "        <font><b>Task 84:</b></font>\n",
    "        <br><br>\n",
    "        Row and Column Slicing\n",
    "    </div>\n",
    "    <div style=\"float: right;\">\n",
    "        <a href=\"#top\" class=\"btn btn-primary btn-sm\" role=\"button\" aria-pressed=\"true\" style=\"color:white\" data-toggle=\"popover\" title=\"go to Top\">Go to Top</a>\n",
    "    </div>\n",
    "    <br style=\"clear: left;\" />\n",
    "</div> "
   ]
  },
  {
   "cell_type": "code",
   "execution_count": 87,
   "metadata": {
    "execution": {
     "iopub.execute_input": "2020-09-20T02:35:46.135477Z",
     "iopub.status.busy": "2020-09-20T02:35:46.134904Z",
     "iopub.status.idle": "2020-09-20T02:35:46.139035Z",
     "shell.execute_reply": "2020-09-20T02:35:46.139959Z"
    },
    "papermill": {
     "duration": 0.123135,
     "end_time": "2020-09-20T02:35:46.140140",
     "exception": false,
     "start_time": "2020-09-20T02:35:46.017005",
     "status": "completed"
    },
    "tags": []
   },
   "outputs": [
    {
     "name": "stdout",
     "output_type": "stream",
     "text": [
      "Task 84:\n",
      "   id      city  count\n",
      "0   1   Toronto      7\n",
      "1   1  Montreal      8\n",
      "2   2   Calgary      9\n",
      "3   2  Montreal      2\n",
      "4   3  Montreal      7\n",
      "5   3    Ottawa      8\n",
      "       city  count\n",
      "0   Toronto      7\n",
      "1  Montreal      8\n"
     ]
    }
   ],
   "source": [
    "print('Task 84:')  \n",
    "users = pd.DataFrame({\n",
    "    \"id\": [1, 1, 2, 2, 3, 3], \n",
    "    \"city\": ['Toronto', 'Montreal', 'Calgary', 'Montreal', 'Montreal', 'Ottawa'],\n",
    "    \"count\" : [7, 8, 9, 2, 7, 8] \n",
    "    \n",
    "}) \n",
    "print(users)    \n",
    "users1 = users.iloc[0:2, 1:3]\n",
    "print(users1)"
   ]
  },
  {
   "cell_type": "markdown",
   "metadata": {
    "papermill": {
     "duration": 0.120537,
     "end_time": "2020-09-20T02:35:46.368050",
     "exception": false,
     "start_time": "2020-09-20T02:35:46.247513",
     "status": "completed"
    },
    "tags": []
   },
   "source": [
    "<div style=\"\">\n",
    "    <div style=\"float: left; width: 80%;\">\n",
    "        <a id=\"85\"></a>\n",
    "        <font><b>Task 85:</b></font>\n",
    "        <br><br>\n",
    "        Iterating rows\n",
    "    </div>\n",
    "    <div style=\"float: right;\">\n",
    "        <a href=\"#top\" class=\"btn btn-primary btn-sm\" role=\"button\" aria-pressed=\"true\" style=\"color:white\" data-toggle=\"popover\" title=\"go to Top\">Go to Top</a>\n",
    "    </div>\n",
    "    <br style=\"clear: left;\" />\n",
    "</div>"
   ]
  },
  {
   "cell_type": "code",
   "execution_count": 88,
   "metadata": {
    "execution": {
     "iopub.execute_input": "2020-09-20T02:35:46.584811Z",
     "iopub.status.busy": "2020-09-20T02:35:46.583976Z",
     "iopub.status.idle": "2020-09-20T02:35:46.596203Z",
     "shell.execute_reply": "2020-09-20T02:35:46.596618Z"
    },
    "papermill": {
     "duration": 0.121379,
     "end_time": "2020-09-20T02:35:46.596746",
     "exception": false,
     "start_time": "2020-09-20T02:35:46.475367",
     "status": "completed"
    },
    "tags": []
   },
   "outputs": [
    {
     "name": "stdout",
     "output_type": "stream",
     "text": [
      "Task 85:\n",
      "   id      city  count\n",
      "0   1   Toronto      7\n",
      "1   1  Montreal      8\n",
      "2   2   Calgary      9\n",
      "3   2  Montreal      2\n",
      "4   3  Montreal      7\n",
      "5   3    Ottawa      8\n",
      "Toronto ==> 7\n",
      "Montreal ==> 8\n",
      "Calgary ==> 9\n",
      "Montreal ==> 2\n",
      "Montreal ==> 7\n",
      "Ottawa ==> 8\n"
     ]
    }
   ],
   "source": [
    "print('Task 85:')  \n",
    "users = pd.DataFrame({\n",
    "    \"id\": [1, 1, 2, 2, 3, 3], \n",
    "    \"city\": ['Toronto', 'Montreal', 'Calgary', 'Montreal', 'Montreal', 'Ottawa'],\n",
    "    \"count\" : [7, 8, 9, 2, 7, 8] \n",
    "    \n",
    "}) \n",
    "print(users)    \n",
    "for index, row in users.iterrows():\n",
    "    print(row['city'], \"==>\", row['count'])"
   ]
  },
  {
   "cell_type": "markdown",
   "metadata": {
    "papermill": {
     "duration": 0.106555,
     "end_time": "2020-09-20T02:35:46.810680",
     "exception": false,
     "start_time": "2020-09-20T02:35:46.704125",
     "status": "completed"
    },
    "tags": []
   },
   "source": [
    "<div style=\"\">\n",
    "    <div style=\"float: left; width: 80%;\">\n",
    "        <a id=\"86\"></a>\n",
    "        <font><b>Task 86:</b></font>\n",
    "        <br><br>\n",
    "        Iterating tuples\n",
    "    </div>\n",
    "    <div style=\"float: right;\">\n",
    "        <a href=\"#top\" class=\"btn btn-primary btn-sm\" role=\"button\" aria-pressed=\"true\" style=\"color:white\" data-toggle=\"popover\" title=\"go to Top\">Go to Top</a>\n",
    "    </div>\n",
    "    <br style=\"clear: left;\" />\n",
    "</div> "
   ]
  },
  {
   "cell_type": "code",
   "execution_count": 89,
   "metadata": {
    "execution": {
     "iopub.execute_input": "2020-09-20T02:35:47.064380Z",
     "iopub.status.busy": "2020-09-20T02:35:47.063680Z",
     "iopub.status.idle": "2020-09-20T02:35:47.069550Z",
     "shell.execute_reply": "2020-09-20T02:35:47.069917Z"
    },
    "papermill": {
     "duration": 0.150877,
     "end_time": "2020-09-20T02:35:47.070027",
     "exception": false,
     "start_time": "2020-09-20T02:35:46.919150",
     "status": "completed"
    },
    "tags": []
   },
   "outputs": [
    {
     "name": "stdout",
     "output_type": "stream",
     "text": [
      "Task 86:\n",
      "   id      city  count\n",
      "0   1   Toronto      7\n",
      "1   1  Montreal      8\n",
      "2   2   Calgary      9\n",
      "3   2  Montreal      2\n",
      "4   3  Montreal      7\n",
      "5   3    Ottawa      8\n",
      "Toronto\n",
      "Montreal\n",
      "Calgary\n",
      "Montreal\n",
      "Montreal\n",
      "Ottawa\n",
      "7\n",
      "8\n",
      "9\n",
      "2\n",
      "7\n",
      "8\n"
     ]
    }
   ],
   "source": [
    "print('Task 86:')  \n",
    "users = pd.DataFrame({\n",
    "    \"id\": [1, 1, 2, 2, 3, 3], \n",
    "    \"city\": ['Toronto', 'Montreal', 'Calgary', 'Montreal', 'Montreal', 'Ottawa'],\n",
    "    \"count\" : [7, 8, 9, 2, 7, 8] \n",
    "    \n",
    "}) \n",
    "print(users)    \n",
    "for row in users.itertuples(index=True, name='Pandas'):\n",
    "    print(getattr(row, 'city'))\n",
    "    \n",
    "for row in users.itertuples(index=True, name='Pandas'):\n",
    "    print(row.count)"
   ]
  },
  {
   "cell_type": "markdown",
   "metadata": {
    "papermill": {
     "duration": 0.105874,
     "end_time": "2020-09-20T02:35:47.281780",
     "exception": false,
     "start_time": "2020-09-20T02:35:47.175906",
     "status": "completed"
    },
    "tags": []
   },
   "source": [
    "<div style=\"\">\n",
    "    <div style=\"float: left; width: 80%;\">\n",
    "        <a id=\"87\"></a>\n",
    "        <font><b>Task 87:</b></font>\n",
    "        <br><br>\n",
    "        Iterating rows and columns\n",
    "    </div>\n",
    "    <div style=\"float: right;\">\n",
    "        <a href=\"#top\" class=\"btn btn-primary btn-sm\" role=\"button\" aria-pressed=\"true\" style=\"color:white\" data-toggle=\"popover\" title=\"go to Top\">Go to Top</a>\n",
    "    </div>\n",
    "    <br style=\"clear: left;\" />\n",
    "</div> "
   ]
  },
  {
   "cell_type": "code",
   "execution_count": 90,
   "metadata": {
    "execution": {
     "iopub.execute_input": "2020-09-20T02:35:47.510435Z",
     "iopub.status.busy": "2020-09-20T02:35:47.509856Z",
     "iopub.status.idle": "2020-09-20T02:35:47.514308Z",
     "shell.execute_reply": "2020-09-20T02:35:47.514966Z"
    },
    "papermill": {
     "duration": 0.125446,
     "end_time": "2020-09-20T02:35:47.515170",
     "exception": false,
     "start_time": "2020-09-20T02:35:47.389724",
     "status": "completed"
    },
    "tags": []
   },
   "outputs": [
    {
     "name": "stdout",
     "output_type": "stream",
     "text": [
      "Task 87:\n",
      "   id      city  count\n",
      "0   1   Toronto      7\n",
      "1   1  Montreal      8\n",
      "2   2   Calgary      9\n",
      "3   2  Montreal      2\n",
      "4   3  Montreal      7\n",
      "5   3    Ottawa      8\n",
      "1\n",
      "Toronto\n",
      "7\n",
      "1\n",
      "Montreal\n",
      "8\n",
      "2\n",
      "Calgary\n",
      "9\n",
      "2\n",
      "Montreal\n",
      "2\n",
      "3\n",
      "Montreal\n",
      "7\n",
      "3\n",
      "Ottawa\n",
      "8\n"
     ]
    }
   ],
   "source": [
    "print('Task 87:')  \n",
    "users = pd.DataFrame({\n",
    "    \"id\": [1, 1, 2, 2, 3, 3], \n",
    "    \"city\": ['Toronto', 'Montreal', 'Calgary', 'Montreal', 'Montreal', 'Ottawa'],\n",
    "    \"count\" : [7, 8, 9, 2, 7, 8] \n",
    "    \n",
    "}) \n",
    "print(users)    \n",
    "for i, row in users.iterrows():\n",
    "    for j, col in row.iteritems():    \n",
    "        print(col)"
   ]
  },
  {
   "cell_type": "markdown",
   "metadata": {
    "papermill": {
     "duration": 0.108136,
     "end_time": "2020-09-20T02:35:47.732868",
     "exception": false,
     "start_time": "2020-09-20T02:35:47.624732",
     "status": "completed"
    },
    "tags": []
   },
   "source": [
    "<div style=\"\">\n",
    "    <div style=\"float: left; width: 80%;\">\n",
    "        <a id=\"88\"></a>\n",
    "        <font><b>Task 88:</b></font>\n",
    "        <br><br>\n",
    "        List of Dictionary to Dataframe\n",
    "    </div>\n",
    "    <div style=\"float: right;\">\n",
    "        <a href=\"#top\" class=\"btn btn-primary btn-sm\" role=\"button\" aria-pressed=\"true\" style=\"color:white\" data-toggle=\"popover\" title=\"go to Top\">Go to Top</a>\n",
    "    </div>\n",
    "    <br style=\"clear: left;\" />\n",
    "</div> "
   ]
  },
  {
   "cell_type": "code",
   "execution_count": 91,
   "metadata": {
    "execution": {
     "iopub.execute_input": "2020-09-20T02:35:47.960439Z",
     "iopub.status.busy": "2020-09-20T02:35:47.959884Z",
     "iopub.status.idle": "2020-09-20T02:35:47.972808Z",
     "shell.execute_reply": "2020-09-20T02:35:47.972363Z"
    },
    "papermill": {
     "duration": 0.130086,
     "end_time": "2020-09-20T02:35:47.972911",
     "exception": false,
     "start_time": "2020-09-20T02:35:47.842825",
     "status": "completed"
    },
    "tags": []
   },
   "outputs": [
    {
     "name": "stdout",
     "output_type": "stream",
     "text": [
      "Task 88:\n",
      "[{'points': 50, 'time': '5:00', 'year': 2010}, {'points': 25, 'time': '6:00', 'month': 'february'}, {'points': 90, 'time': '9:00', 'month': 'january'}, {'points_h1': 20, 'month': 'june'}]\n",
      "   points  time    year     month  points_h1\n",
      "0    50.0  5:00  2010.0       NaN        NaN\n",
      "1    25.0  6:00     NaN  february        NaN\n",
      "2    90.0  9:00     NaN   january        NaN\n",
      "3     NaN   NaN     NaN      june       20.0\n",
      "   points  time    year     month  points_h1\n",
      "0    50.0  5:00  2010.0       NaN        NaN\n",
      "1    25.0  6:00     NaN  february        NaN\n",
      "2    90.0  9:00     NaN   january        NaN\n",
      "3     NaN   NaN     NaN      june       20.0\n"
     ]
    }
   ],
   "source": [
    "print('Task 88:')  \n",
    "pointlist = [\n",
    "                {'points': 50, 'time': '5:00', 'year': 2010}, \n",
    "                {'points': 25, 'time': '6:00', 'month': \"february\"}, \n",
    "                {'points':90, 'time': '9:00', 'month': 'january'}, \n",
    "                {'points_h1':20, 'month': 'june'}\n",
    "            ]\n",
    "print(pointlist)\n",
    "pointDf = pd.DataFrame(pointlist)\n",
    "print(pointDf)\n",
    "\n",
    "pointDf1 = pd.DataFrame.from_dict(pointlist)\n",
    "print(pointDf1)"
   ]
  },
  {
   "cell_type": "markdown",
   "metadata": {
    "papermill": {
     "duration": 0.108532,
     "end_time": "2020-09-20T02:35:48.190408",
     "exception": false,
     "start_time": "2020-09-20T02:35:48.081876",
     "status": "completed"
    },
    "tags": []
   },
   "source": [
    "<div style=\"\">\n",
    "    <div style=\"float: left; width: 80%;\">\n",
    "        <a id=\"89\"></a>\n",
    "        <font><b>Task 89:</b></font>\n",
    "        <br><br>\n",
    "        NaN values\n",
    "    </div>\n",
    "    <div style=\"float: right;\">\n",
    "        <a href=\"#top\" class=\"btn btn-primary btn-sm\" role=\"button\" aria-pressed=\"true\" style=\"color:white\" data-toggle=\"popover\" title=\"go to Top\">Go to Top</a>\n",
    "    </div>\n",
    "    <br style=\"clear: left;\" />\n",
    "</div> "
   ]
  },
  {
   "cell_type": "code",
   "execution_count": 92,
   "metadata": {
    "execution": {
     "iopub.execute_input": "2020-09-20T02:35:48.441956Z",
     "iopub.status.busy": "2020-09-20T02:35:48.441184Z",
     "iopub.status.idle": "2020-09-20T02:35:48.444948Z",
     "shell.execute_reply": "2020-09-20T02:35:48.445598Z"
    },
    "papermill": {
     "duration": 0.147393,
     "end_time": "2020-09-20T02:35:48.445772",
     "exception": false,
     "start_time": "2020-09-20T02:35:48.298379",
     "status": "completed"
    },
    "tags": []
   },
   "outputs": [
    {
     "name": "stdout",
     "output_type": "stream",
     "text": [
      "Task 89:\n",
      "          0         1         2         3         4         5\n",
      "0  0.410635  0.958747 -1.317093 -1.816903  0.173854  0.291953\n",
      "1 -0.978828       NaN -0.125408  0.035908 -1.514339 -0.576232\n",
      "2  0.020739       NaN  1.782840  0.004732 -0.423650  0.383019\n",
      "3 -1.623561 -0.224096 -0.186848  0.473018  0.669579  1.365597\n",
      "4 -0.235385  0.492103 -1.152179  0.097818  0.980023 -0.348627\n",
      "5  0.139490  1.024044  2.285821       NaN -0.073338  0.721261\n",
      "6  1.842933 -0.326897  2.429425  1.302131 -0.732452 -0.587494\n",
      "7 -1.369032  0.814469  0.987362 -0.501301 -1.769977       NaN\n",
      "8  0.713155 -0.154067  0.452549  0.539240  1.401940       NaN\n",
      "9  1.411176 -0.263207  0.094701 -0.485122 -0.035634 -0.088133\n",
      "       0      1      2      3      4      5\n",
      "0  False  False  False  False  False  False\n",
      "1  False   True  False  False  False  False\n",
      "2  False   True  False  False  False  False\n",
      "3  False  False  False  False  False  False\n",
      "4  False  False  False  False  False  False\n",
      "5  False  False  False   True  False  False\n",
      "6  False  False  False  False  False  False\n",
      "7  False  False  False  False  False   True\n",
      "8  False  False  False  False  False   True\n",
      "9  False  False  False  False  False  False\n"
     ]
    }
   ],
   "source": [
    "print('Task 89:')\n",
    "df = pd.DataFrame(np.random.randn(10,6))\n",
    "# Make a few areas have NaN values\n",
    "df.iloc[1:3,1] = np.nan\n",
    "df.iloc[5,3] = np.nan\n",
    "df.iloc[7:9,5] = np.nan\n",
    "print(df)\n",
    "df1 = df.isnull()\n",
    "print(df1)"
   ]
  },
  {
   "cell_type": "markdown",
   "metadata": {
    "papermill": {
     "duration": 0.111857,
     "end_time": "2020-09-20T02:35:48.675357",
     "exception": false,
     "start_time": "2020-09-20T02:35:48.563500",
     "status": "completed"
    },
    "tags": []
   },
   "source": [
    "<div style=\"\">\n",
    "    <div style=\"float: left; width: 80%;\">\n",
    "        <a id=\"90\"></a>\n",
    "        <font><b>Task 90:</b></font>\n",
    "        <br><br>\n",
    "        Sum of all nan\n",
    "    </div>\n",
    "    <div style=\"float: right;\">\n",
    "        <a href=\"#top\" class=\"btn btn-primary btn-sm\" role=\"button\" aria-pressed=\"true\" style=\"color:white\" data-toggle=\"popover\" title=\"go to Top\">Go to Top</a>\n",
    "    </div>\n",
    "    <br style=\"clear: left;\" />\n",
    "</div>"
   ]
  },
  {
   "cell_type": "code",
   "execution_count": 93,
   "metadata": {
    "execution": {
     "iopub.execute_input": "2020-09-20T02:35:48.904861Z",
     "iopub.status.busy": "2020-09-20T02:35:48.904270Z",
     "iopub.status.idle": "2020-09-20T02:35:48.908385Z",
     "shell.execute_reply": "2020-09-20T02:35:48.909260Z"
    },
    "papermill": {
     "duration": 0.125212,
     "end_time": "2020-09-20T02:35:48.909486",
     "exception": false,
     "start_time": "2020-09-20T02:35:48.784274",
     "status": "completed"
    },
    "tags": []
   },
   "outputs": [
    {
     "name": "stdout",
     "output_type": "stream",
     "text": [
      "Task 90:\n",
      "          0         1         2         3         4         5\n",
      "0  0.706914 -0.340071  1.593849 -0.577573 -1.390226  0.352738\n",
      "1  0.825815       NaN  0.089670 -0.446119  0.105191 -1.098966\n",
      "2  0.467662       NaN -0.506058 -1.696288 -0.153246  0.252455\n",
      "3 -0.289453 -0.279565 -1.338254  1.349071 -0.693053  0.557954\n",
      "4 -1.417590  0.827754  0.773181 -2.169424  0.271008 -1.200238\n",
      "5 -0.379383  0.345894 -0.021169       NaN -0.179606 -1.319512\n",
      "6  2.044687 -0.967596  0.490888  0.336637 -1.128451  0.278082\n",
      "7  1.355319 -0.922112 -0.026694 -2.230687 -0.473849       NaN\n",
      "8 -0.734046 -0.183436  0.776195  2.046490 -1.711618       NaN\n",
      "9 -0.001640  0.493858  1.376262  1.656382  3.151031  1.695023\n",
      "0    0\n",
      "1    2\n",
      "2    0\n",
      "3    1\n",
      "4    0\n",
      "5    2\n",
      "dtype: int64\n",
      "0    0\n",
      "1    1\n",
      "2    1\n",
      "3    0\n",
      "4    0\n",
      "5    1\n",
      "6    0\n",
      "7    1\n",
      "8    1\n",
      "9    0\n",
      "dtype: int64\n",
      "[0, 2, 0, 1, 0, 2]\n"
     ]
    }
   ],
   "source": [
    "print('Task 90:')  \n",
    "df = pd.DataFrame(np.random.randn(10,6))\n",
    "# Make a few areas have NaN values\n",
    "df.iloc[1:3,1] = np.nan\n",
    "df.iloc[5,3] = np.nan\n",
    "df.iloc[7:9,5] = np.nan\n",
    "print(df)\n",
    "print(df.isnull().sum())\n",
    "print(df.isnull().sum(axis=1))\n",
    "print(df.isnull().sum().tolist())"
   ]
  },
  {
   "cell_type": "markdown",
   "metadata": {
    "papermill": {
     "duration": 0.108614,
     "end_time": "2020-09-20T02:35:49.129959",
     "exception": false,
     "start_time": "2020-09-20T02:35:49.021345",
     "status": "completed"
    },
    "tags": []
   },
   "source": [
    "<div style=\"\">\n",
    "    <div style=\"float: left; width: 80%;\">\n",
    "        <a id=\"91\"></a>\n",
    "        <font><b>Task 91:</b></font>\n",
    "        <br><br>\n",
    "        Sum of all nan rowwise\n",
    "    </div>\n",
    "    <div style=\"float: right;\">\n",
    "        <a href=\"#top\" class=\"btn btn-primary btn-sm\" role=\"button\" aria-pressed=\"true\" style=\"color:white\" data-toggle=\"popover\" title=\"go to Top\">Go to Top</a>\n",
    "    </div>\n",
    "    <br style=\"clear: left;\" />\n",
    "</div> "
   ]
  },
  {
   "cell_type": "code",
   "execution_count": 94,
   "metadata": {
    "execution": {
     "iopub.execute_input": "2020-09-20T02:35:49.353270Z",
     "iopub.status.busy": "2020-09-20T02:35:49.352709Z",
     "iopub.status.idle": "2020-09-20T02:35:49.365668Z",
     "shell.execute_reply": "2020-09-20T02:35:49.365128Z"
    },
    "papermill": {
     "duration": 0.126889,
     "end_time": "2020-09-20T02:35:49.365785",
     "exception": false,
     "start_time": "2020-09-20T02:35:49.238896",
     "status": "completed"
    },
    "tags": []
   },
   "outputs": [
    {
     "name": "stdout",
     "output_type": "stream",
     "text": [
      "Task 91:\n",
      "          0         1         2         3         4         5\n",
      "0 -0.266610 -1.184625  0.206057  0.684425 -1.588180 -0.172991\n",
      "1 -0.152475       NaN  0.300255  0.550051  0.089899  0.525815\n",
      "2 -2.919975       NaN -0.568248  0.533495  0.325163  0.489724\n",
      "3 -0.270123 -0.854160  0.923956  0.637537 -0.695646 -0.200603\n",
      "4  1.197315 -0.609883  0.382840  0.138099 -1.320857 -0.686520\n",
      "5  0.518665  0.543836  0.611339       NaN  0.183481  2.110988\n",
      "6  1.663557  0.097444 -0.289519 -1.403726 -0.565497 -1.614153\n",
      "7 -0.364279 -0.171134 -1.299906  1.156613 -2.204485       NaN\n",
      "8  0.235953 -0.697281  1.419291  1.360633  1.258230       NaN\n",
      "9  0.966363 -0.711397  0.969366  0.106373 -0.537119  0.016429\n",
      "0    0\n",
      "1    1\n",
      "2    1\n",
      "3    0\n",
      "4    0\n",
      "5    1\n",
      "6    0\n",
      "7    1\n",
      "8    1\n",
      "9    0\n",
      "dtype: int64\n"
     ]
    }
   ],
   "source": [
    "print('Task 91:')  \n",
    "df = pd.DataFrame(np.random.randn(10,6))\n",
    "# Make a few areas have NaN values\n",
    "df.iloc[1:3,1] = np.nan\n",
    "df.iloc[5,3] = np.nan\n",
    "df.iloc[7:9,5] = np.nan\n",
    "print(df)\n",
    "print(df.isnull().sum(axis=1))"
   ]
  },
  {
   "cell_type": "markdown",
   "metadata": {
    "papermill": {
     "duration": 0.111826,
     "end_time": "2020-09-20T02:35:49.587440",
     "exception": false,
     "start_time": "2020-09-20T02:35:49.475614",
     "status": "completed"
    },
    "tags": []
   },
   "source": [
    "<div style=\"\">\n",
    "    <div style=\"float: left; width: 80%;\">\n",
    "        <a id=\"92\"></a>\n",
    "        <font><b>Task 92:</b></font>\n",
    "        <br><br>\n",
    "        Sum of all nan as list\n",
    "    </div>\n",
    "    <div style=\"float: right;\">\n",
    "        <a href=\"#top\" class=\"btn btn-primary btn-sm\" role=\"button\" aria-pressed=\"true\" style=\"color:white\" data-toggle=\"popover\" title=\"go to Top\">Go to Top</a>\n",
    "    </div>\n",
    "    <br style=\"clear: left;\" />\n",
    "</div> "
   ]
  },
  {
   "cell_type": "code",
   "execution_count": 95,
   "metadata": {
    "execution": {
     "iopub.execute_input": "2020-09-20T02:35:49.816374Z",
     "iopub.status.busy": "2020-09-20T02:35:49.815777Z",
     "iopub.status.idle": "2020-09-20T02:35:49.820179Z",
     "shell.execute_reply": "2020-09-20T02:35:49.820965Z"
    },
    "papermill": {
     "duration": 0.122519,
     "end_time": "2020-09-20T02:35:49.821172",
     "exception": false,
     "start_time": "2020-09-20T02:35:49.698653",
     "status": "completed"
    },
    "tags": []
   },
   "outputs": [
    {
     "name": "stdout",
     "output_type": "stream",
     "text": [
      "Task 92:\n",
      "          0         1         2         3         4         5\n",
      "0  0.455793  0.067228  1.449449  0.924573 -1.424967  1.502589\n",
      "1  1.228489       NaN  2.781332 -0.264097 -1.138346 -0.498640\n",
      "2  0.070106       NaN -1.533625 -0.408122  0.735703 -2.311704\n",
      "3 -2.208375 -0.876657 -1.225112 -0.292740  0.010169  1.508542\n",
      "4 -0.474515  1.196285  0.402736 -1.792418 -0.396231 -0.727498\n",
      "5  1.156287 -0.031689 -0.044479       NaN  1.819335  2.003624\n",
      "6 -0.252386  0.350477  1.293396 -0.385968 -0.354582  0.071488\n",
      "7  0.208393  1.052975 -0.177396 -1.377093 -0.838967       NaN\n",
      "8  0.118781  0.039527  0.001829 -1.168733 -2.458116       NaN\n",
      "9  0.437230  0.873757 -0.483100 -0.098113  0.153657  0.161820\n",
      "[0, 2, 0, 1, 0, 2]\n"
     ]
    }
   ],
   "source": [
    "print('Task 92:')  \n",
    "df = pd.DataFrame(np.random.randn(10,6))\n",
    "# Make a few areas have NaN values\n",
    "df.iloc[1:3,1] = np.nan\n",
    "df.iloc[5,3] = np.nan\n",
    "df.iloc[7:9,5] = np.nan\n",
    "print(df)\n",
    "print(df.isnull().sum().tolist())"
   ]
  },
  {
   "cell_type": "markdown",
   "metadata": {
    "papermill": {
     "duration": 0.112277,
     "end_time": "2020-09-20T02:35:50.045357",
     "exception": false,
     "start_time": "2020-09-20T02:35:49.933080",
     "status": "completed"
    },
    "tags": []
   },
   "source": [
    "<div style=\"\">\n",
    "    <div style=\"float: left; width: 80%;\">\n",
    "        <a id=\"93\"></a>\n",
    "        <font><b>Task 93:</b></font>\n",
    "        <br><br>\n",
    "        Change the order of columns\n",
    "\n",
    "        Note:\n",
    "            FutureWarning: '.reindex_axis' is deprecated and will be removed in a future version \n",
    "    </div>\n",
    "    <div style=\"float: right;\">\n",
    "        <a href=\"#top\" class=\"btn btn-primary btn-sm\" role=\"button\" aria-pressed=\"true\" style=\"color:white\" data-toggle=\"popover\" title=\"go to Top\">Go to Top</a>\n",
    "    </div>\n",
    "    <br style=\"clear: left;\" />\n",
    "</div>"
   ]
  },
  {
   "cell_type": "code",
   "execution_count": 96,
   "metadata": {
    "execution": {
     "iopub.execute_input": "2020-09-20T02:35:50.272380Z",
     "iopub.status.busy": "2020-09-20T02:35:50.271824Z",
     "iopub.status.idle": "2020-09-20T02:35:50.282862Z",
     "shell.execute_reply": "2020-09-20T02:35:50.283451Z"
    },
    "papermill": {
     "duration": 0.126133,
     "end_time": "2020-09-20T02:35:50.283584",
     "exception": false,
     "start_time": "2020-09-20T02:35:50.157451",
     "status": "completed"
    },
    "tags": []
   },
   "outputs": [
    {
     "name": "stdout",
     "output_type": "stream",
     "text": [
      "Task 93:\n",
      "   id      city  count\n",
      "0   1   Toronto      7\n",
      "1   1  Montreal      8\n",
      "2   2   Calgary      9\n",
      "3   2  Montreal      2\n",
      "4   3  Montreal      7\n",
      "5   3    Ottawa      8\n",
      "       city  id  count\n",
      "0   Toronto   1      7\n",
      "1  Montreal   1      8\n",
      "2   Calgary   2      9\n",
      "3  Montreal   2      2\n",
      "4  Montreal   3      7\n",
      "5    Ottawa   3      8\n"
     ]
    }
   ],
   "source": [
    "print('Task 93:')  \n",
    "users = pd.DataFrame({\n",
    "    \"id\": [1, 1, 2, 2, 3, 3], \n",
    "    \"city\": ['Toronto', 'Montreal', 'Calgary', 'Montreal', 'Montreal', 'Ottawa'],\n",
    "    \"count\" : [7, 8, 9, 2, 7, 8] \n",
    "    \n",
    "}) \n",
    "print(users)\n",
    "\n",
    "# below line throws error\n",
    "# users1 = users.reindex_axis(['city', 'count', 'id'], axis=1)\n",
    "# print(users1)\n",
    "\n",
    "users2 = users.reindex(columns=['city', 'id', 'count'])\n",
    "print(users2)"
   ]
  },
  {
   "cell_type": "markdown",
   "metadata": {
    "papermill": {
     "duration": 0.11626,
     "end_time": "2020-09-20T02:35:50.515782",
     "exception": false,
     "start_time": "2020-09-20T02:35:50.399522",
     "status": "completed"
    },
    "tags": []
   },
   "source": [
    "<div style=\"\">\n",
    "    <div style=\"float: left; width: 80%;\">\n",
    "        <a id=\"94\"></a>\n",
    "        <font><b>Task 94:</b></font>\n",
    "        <br><br>\n",
    "        Drop multiple rows\n",
    "    </div>\n",
    "    <div style=\"float: right;\">\n",
    "        <a href=\"#top\" class=\"btn btn-primary btn-sm\" role=\"button\" aria-pressed=\"true\" style=\"color:white\" data-toggle=\"popover\" title=\"go to Top\">Go to Top</a>\n",
    "    </div>\n",
    "    <br style=\"clear: left;\" />\n",
    "</div> "
   ]
  },
  {
   "cell_type": "code",
   "execution_count": 97,
   "metadata": {
    "execution": {
     "iopub.execute_input": "2020-09-20T02:35:50.739236Z",
     "iopub.status.busy": "2020-09-20T02:35:50.738673Z",
     "iopub.status.idle": "2020-09-20T02:35:50.750257Z",
     "shell.execute_reply": "2020-09-20T02:35:50.750794Z"
    },
    "papermill": {
     "duration": 0.124864,
     "end_time": "2020-09-20T02:35:50.750918",
     "exception": false,
     "start_time": "2020-09-20T02:35:50.626054",
     "status": "completed"
    },
    "tags": []
   },
   "outputs": [
    {
     "name": "stdout",
     "output_type": "stream",
     "text": [
      "Task 94:\n",
      "   id  number\n",
      "0   1      10\n",
      "1   2      20\n",
      "2   3      30\n",
      "3   4      30\n",
      "4   5      23\n",
      "5   6      12\n",
      "   id  number\n",
      "1   2      20\n",
      "2   3      30\n",
      "4   5      23\n"
     ]
    }
   ],
   "source": [
    "print('Task 94:')\n",
    "numbers = pd.DataFrame({\n",
    "    \"id\": [1, 2, 3, 4, 5, 6], \n",
    "    \"number\": [10, 20, 30, 30, 23, 12]\n",
    "    \n",
    "})  \n",
    "print(numbers)\n",
    "numbers.drop(numbers.index[[0, 3, 5]], inplace=True)\n",
    "print(numbers)"
   ]
  },
  {
   "cell_type": "markdown",
   "metadata": {
    "papermill": {
     "duration": 0.113178,
     "end_time": "2020-09-20T02:35:50.976643",
     "exception": false,
     "start_time": "2020-09-20T02:35:50.863465",
     "status": "completed"
    },
    "tags": []
   },
   "source": [
    "<div style=\"\">\n",
    "    <div style=\"float: left; width: 80%;\">\n",
    "        <a id=\"95\"></a>\n",
    "        <font><b>Task 95:</b></font>\n",
    "        <br><br>\n",
    "        Drop multiple rows by row name\n",
    "    </div>\n",
    "    <div style=\"float: right;\">\n",
    "        <a href=\"#top\" class=\"btn btn-primary btn-sm\" role=\"button\" aria-pressed=\"true\" style=\"color:white\" data-toggle=\"popover\" title=\"go to Top\">Go to Top</a>\n",
    "    </div>\n",
    "    <br style=\"clear: left;\" />\n",
    "</div>"
   ]
  },
  {
   "cell_type": "code",
   "execution_count": 98,
   "metadata": {
    "execution": {
     "iopub.execute_input": "2020-09-20T02:35:51.210431Z",
     "iopub.status.busy": "2020-09-20T02:35:51.209880Z",
     "iopub.status.idle": "2020-09-20T02:35:51.215108Z",
     "shell.execute_reply": "2020-09-20T02:35:51.214369Z"
    },
    "papermill": {
     "duration": 0.127529,
     "end_time": "2020-09-20T02:35:51.215265",
     "exception": false,
     "start_time": "2020-09-20T02:35:51.087736",
     "status": "completed"
    },
    "tags": []
   },
   "outputs": [
    {
     "name": "stdout",
     "output_type": "stream",
     "text": [
      "Task 95:\n",
      "       id  number\n",
      "one     1      10\n",
      "two     2      20\n",
      "three   3      30\n",
      "four    4      30\n",
      "five    5      23\n",
      "six     6      12\n",
      "       id  number\n",
      "one     1      10\n",
      "three   3      30\n",
      "four    4      30\n",
      "five    5      23\n",
      "       id  number\n",
      "one     1      10\n",
      "three   3      30\n",
      "four    4      30\n",
      "five    5      23\n",
      "six     6      12\n"
     ]
    }
   ],
   "source": [
    "print('Task 95:')  \n",
    "numbers = pd.DataFrame({\n",
    "    \"id\": [1, 2, 3, 4, 5, 6], \n",
    "    \"number\": [10, 20, 30, 30, 23, 12]\n",
    "    \n",
    "}, index=['one', 'two', 'three', 'four', 'five', 'six'])  \n",
    "print(numbers)\n",
    "numbers1 = numbers.drop(['two','six'])\n",
    "print(numbers1)\n",
    "numbers2 = numbers.drop('two')\n",
    "print(numbers2)"
   ]
  },
  {
   "cell_type": "markdown",
   "metadata": {
    "papermill": {
     "duration": 0.16105,
     "end_time": "2020-09-20T02:35:51.490997",
     "exception": false,
     "start_time": "2020-09-20T02:35:51.329947",
     "status": "completed"
    },
    "tags": []
   },
   "source": [
    "<div style=\"\">\n",
    "    <div style=\"float: left; width: 80%;\">\n",
    "        <a id=\"96\"></a>\n",
    "        <font><b>Task :</b></font>\n",
    "        <br><br>\n",
    "        Get group\n",
    "    </div>\n",
    "    <div style=\"float: right;\">\n",
    "        <a href=\"#top\" class=\"btn btn-primary btn-sm\" role=\"button\" aria-pressed=\"true\" style=\"color:white\" data-toggle=\"popover\" title=\"go to Top\">Go to Top</a>\n",
    "    </div>\n",
    "    <br style=\"clear: left;\" />\n",
    "</div> "
   ]
  },
  {
   "cell_type": "code",
   "execution_count": 99,
   "metadata": {
    "execution": {
     "iopub.execute_input": "2020-09-20T02:35:51.735097Z",
     "iopub.status.busy": "2020-09-20T02:35:51.734203Z",
     "iopub.status.idle": "2020-09-20T02:35:51.741194Z",
     "shell.execute_reply": "2020-09-20T02:35:51.741590Z"
    },
    "papermill": {
     "duration": 0.12698,
     "end_time": "2020-09-20T02:35:51.741716",
     "exception": false,
     "start_time": "2020-09-20T02:35:51.614736",
     "status": "completed"
    },
    "tags": []
   },
   "outputs": [
    {
     "name": "stdout",
     "output_type": "stream",
     "text": [
      "Task 96:\n",
      "  animal size  weight  adult\n",
      "0    cat    S       8  False\n",
      "2    cat    M      11  False\n",
      "5    cat    L      12   True\n",
      "6    cat    L      12   True\n"
     ]
    }
   ],
   "source": [
    "print('Task 96:')\n",
    "cats = animals_df.groupby(['animal']).get_group('cat')\n",
    "print(cats)"
   ]
  },
  {
   "cell_type": "markdown",
   "metadata": {
    "papermill": {
     "duration": 0.124207,
     "end_time": "2020-09-20T02:35:51.982834",
     "exception": false,
     "start_time": "2020-09-20T02:35:51.858627",
     "status": "completed"
    },
    "tags": []
   },
   "source": []
  },
  {
   "cell_type": "markdown",
   "metadata": {
    "papermill": {
     "duration": 0.116283,
     "end_time": "2020-09-20T02:35:52.216275",
     "exception": false,
     "start_time": "2020-09-20T02:35:52.099992",
     "status": "completed"
    },
    "tags": []
   },
   "source": [
    "<div style=\"\">\n",
    "    <div style=\"float: left; width: 80%;\">\n",
    "        <a id=\"97\"></a>\n",
    "        <font><b>Task 97:</b></font>\n",
    "        <br><br>\n",
    "        Get the the odd row\n",
    "    </div>\n",
    "    <div style=\"float: right;\">\n",
    "        <a href=\"#top\" class=\"btn btn-primary btn-sm\" role=\"button\" aria-pressed=\"true\" style=\"color:white\" data-toggle=\"popover\" title=\"go to Top\">Go to Top</a>\n",
    "    </div>\n",
    "    <br style=\"clear: left;\" />\n",
    "</div>"
   ]
  },
  {
   "cell_type": "code",
   "execution_count": 100,
   "metadata": {
    "execution": {
     "iopub.execute_input": "2020-09-20T02:35:52.462567Z",
     "iopub.status.busy": "2020-09-20T02:35:52.461935Z",
     "iopub.status.idle": "2020-09-20T02:35:52.464858Z",
     "shell.execute_reply": "2020-09-20T02:35:52.465377Z"
    },
    "papermill": {
     "duration": 0.132804,
     "end_time": "2020-09-20T02:35:52.465502",
     "exception": false,
     "start_time": "2020-09-20T02:35:52.332698",
     "status": "completed"
    },
    "tags": []
   },
   "outputs": [
    {
     "name": "stdout",
     "output_type": "stream",
     "text": [
      "Task 97:\n",
      "[[ 1  2  3  4  5]\n",
      " [ 6  7  8  9 10]\n",
      " [11 12 13 14 15]\n",
      " [16 17 18 19 20]]\n",
      "[[ 1  2  3  4  5]\n",
      " [11 12 13 14 15]]\n"
     ]
    }
   ],
   "source": [
    "print('Task 97:')  \n",
    "x = numpy.array([\n",
    "                    [ 1,  2,  3,  4,  5],\n",
    "                    [ 6,  7,  8,  9, 10],\n",
    "                    [11, 12, 13, 14, 15],\n",
    "                    [16, 17, 18, 19, 20]\n",
    "                ]\n",
    "    )\n",
    "print(x)\n",
    "print(x[::2])"
   ]
  },
  {
   "cell_type": "markdown",
   "metadata": {
    "papermill": {
     "duration": 0.116063,
     "end_time": "2020-09-20T02:35:52.697466",
     "exception": false,
     "start_time": "2020-09-20T02:35:52.581403",
     "status": "completed"
    },
    "tags": []
   },
   "source": [
    "<div style=\"\">\n",
    "    <div style=\"float: left; width: 80%;\">\n",
    "        <a id=\"98\"></a>\n",
    "        <font><b>Task 98:</b></font>\n",
    "        <br><br>\n",
    "        Get the even columns\n",
    "    </div>\n",
    "    <div style=\"float: right;\">\n",
    "        <a href=\"#top\" class=\"btn btn-primary btn-sm\" role=\"button\" aria-pressed=\"true\" style=\"color:white\" data-toggle=\"popover\" title=\"go to Top\">Go to Top</a>\n",
    "    </div>\n",
    "    <br style=\"clear: left;\" />\n",
    "</div> "
   ]
  },
  {
   "cell_type": "code",
   "execution_count": 101,
   "metadata": {
    "execution": {
     "iopub.execute_input": "2020-09-20T02:35:52.935314Z",
     "iopub.status.busy": "2020-09-20T02:35:52.934414Z",
     "iopub.status.idle": "2020-09-20T02:35:52.942407Z",
     "shell.execute_reply": "2020-09-20T02:35:52.941919Z"
    },
    "papermill": {
     "duration": 0.130825,
     "end_time": "2020-09-20T02:35:52.942511",
     "exception": false,
     "start_time": "2020-09-20T02:35:52.811686",
     "status": "completed"
    },
    "tags": []
   },
   "outputs": [
    {
     "name": "stdout",
     "output_type": "stream",
     "text": [
      "Task 98:\n",
      "[[ 1  2  3  4  5]\n",
      " [ 6  7  8  9 10]\n",
      " [11 12 13 14 15]\n",
      " [16 17 18 19 20]]\n",
      "[[ 2  4]\n",
      " [ 7  9]\n",
      " [12 14]\n",
      " [17 19]]\n"
     ]
    }
   ],
   "source": [
    "print('Task 98:')  \n",
    "x = numpy.array([\n",
    "                    [ 1,  2,  3,  4,  5],\n",
    "                    [ 6,  7,  8,  9, 10],\n",
    "                    [11, 12, 13, 14, 15],\n",
    "                    [16, 17, 18, 19, 20]\n",
    "                ]\n",
    "    )\n",
    "print(x)\n",
    "print(x[:, 1::2])"
   ]
  },
  {
   "cell_type": "markdown",
   "metadata": {
    "papermill": {
     "duration": 0.113798,
     "end_time": "2020-09-20T02:35:53.172271",
     "exception": false,
     "start_time": "2020-09-20T02:35:53.058473",
     "status": "completed"
    },
    "tags": []
   },
   "source": [
    "<div style=\"\">\n",
    "    <div style=\"float: left; width: 80%;\">\n",
    "        <a id=\"99\"></a>\n",
    "        <font><b>Task 99:</b></font>\n",
    "        <br><br>\n",
    "        Odd rows and even columns\n",
    "    </div>\n",
    "    <div style=\"float: right;\">\n",
    "        <a href=\"#top\" class=\"btn btn-primary btn-sm\" role=\"button\" aria-pressed=\"true\" style=\"color:white\" data-toggle=\"popover\" title=\"go to Top\">Go to Top</a>\n",
    "    </div>\n",
    "    <br style=\"clear: left;\" />\n",
    "</div> "
   ]
  },
  {
   "cell_type": "code",
   "execution_count": 102,
   "metadata": {
    "execution": {
     "iopub.execute_input": "2020-09-20T02:35:53.409084Z",
     "iopub.status.busy": "2020-09-20T02:35:53.408196Z",
     "iopub.status.idle": "2020-09-20T02:35:53.414100Z",
     "shell.execute_reply": "2020-09-20T02:35:53.413563Z"
    },
    "papermill": {
     "duration": 0.127386,
     "end_time": "2020-09-20T02:35:53.414200",
     "exception": false,
     "start_time": "2020-09-20T02:35:53.286814",
     "status": "completed"
    },
    "tags": []
   },
   "outputs": [
    {
     "name": "stdout",
     "output_type": "stream",
     "text": [
      "Task 99:\n",
      "[[ 1  2  3  4  5]\n",
      " [ 6  7  8  9 10]\n",
      " [11 12 13 14 15]\n",
      " [16 17 18 19 20]]\n",
      "[[ 2  4]\n",
      " [12 14]]\n"
     ]
    }
   ],
   "source": [
    "print('Task 99:')  \n",
    "\n",
    "x = numpy.array([\n",
    "                    [ 1,  2,  3,  4,  5],\n",
    "                    [ 6,  7,  8,  9, 10],\n",
    "                    [11, 12, 13, 14, 15],\n",
    "                    [16, 17, 18, 19, 20]\n",
    "                ]\n",
    "    )\n",
    "print(x)\n",
    "print(x[::2, 1::2])"
   ]
  },
  {
   "cell_type": "markdown",
   "metadata": {
    "papermill": {
     "duration": 0.11532,
     "end_time": "2020-09-20T02:35:53.645053",
     "exception": false,
     "start_time": "2020-09-20T02:35:53.529733",
     "status": "completed"
    },
    "tags": []
   },
   "source": [
    "<div style=\"\">\n",
    "    <div style=\"float: left; width: 80%;\">\n",
    "        <a id=\"100\"></a>\n",
    "        <font><b>Task 100:</b></font>\n",
    "        <br><br>\n",
    "        Drop duplicates\n",
    "    </div>\n",
    "    <div style=\"float: right;\">\n",
    "        <a href=\"#top\" class=\"btn btn-primary btn-sm\" role=\"button\" aria-pressed=\"true\" style=\"color:white\" data-toggle=\"popover\" title=\"go to Top\">Go to Top</a>\n",
    "    </div>\n",
    "    <br style=\"clear: left;\" />\n",
    "</div>"
   ]
  },
  {
   "cell_type": "code",
   "execution_count": 103,
   "metadata": {
    "execution": {
     "iopub.execute_input": "2020-09-20T02:35:53.891934Z",
     "iopub.status.busy": "2020-09-20T02:35:53.891255Z",
     "iopub.status.idle": "2020-09-20T02:35:53.895397Z",
     "shell.execute_reply": "2020-09-20T02:35:53.894504Z"
    },
    "papermill": {
     "duration": 0.1333,
     "end_time": "2020-09-20T02:35:53.895555",
     "exception": false,
     "start_time": "2020-09-20T02:35:53.762255",
     "status": "completed"
    },
    "tags": []
   },
   "outputs": [
    {
     "name": "stdout",
     "output_type": "stream",
     "text": [
      "Task 100:\n",
      "   id      city  count\n",
      "0   1   Toronto      7\n",
      "1   1  Montreal      8\n",
      "2   2   Calgary      9\n",
      "3   2  Montreal      2\n",
      "4   3  Montreal      7\n",
      "5   3    Ottawa      8\n",
      "   id      city  count\n",
      "0   1   Toronto      7\n",
      "2   2   Calgary      9\n",
      "4   3  Montreal      7\n"
     ]
    }
   ],
   "source": [
    "print('Task 100:')  \n",
    "users = pd.DataFrame({\n",
    "    \"id\": [1, 1, 2, 2, 3, 3], \n",
    "    \"city\": ['Toronto', 'Montreal', 'Calgary', 'Montreal', 'Montreal', 'Ottawa'],\n",
    "    \"count\" : [7, 8, 9, 2, 7, 8] \n",
    "    \n",
    "}) \n",
    "print(users)\n",
    "users.drop_duplicates('id', inplace=True)\n",
    "print(users)"
   ]
  },
  {
   "cell_type": "markdown",
   "metadata": {
    "papermill": {
     "duration": 0.116732,
     "end_time": "2020-09-20T02:35:54.130429",
     "exception": false,
     "start_time": "2020-09-20T02:35:54.013697",
     "status": "completed"
    },
    "tags": []
   },
   "source": [
    "<div style=\"\">\n",
    "    <div style=\"float: left; width: 80%;\">\n",
    "        <a id=\"101\"></a>\n",
    "        <font><b>Task 101:</b></font>\n",
    "        <br><br>\n",
    "        Drop all duplicates\n",
    "    </div>\n",
    "    <div style=\"float: right;\">\n",
    "        <a href=\"#top\" class=\"btn btn-primary btn-sm\" role=\"button\" aria-pressed=\"true\" style=\"color:white\" data-toggle=\"popover\" title=\"go to Top\">Go to Top</a>\n",
    "    </div>\n",
    "    <br style=\"clear: left;\" />\n",
    "</div>"
   ]
  },
  {
   "cell_type": "code",
   "execution_count": 104,
   "metadata": {
    "execution": {
     "iopub.execute_input": "2020-09-20T02:35:54.378782Z",
     "iopub.status.busy": "2020-09-20T02:35:54.377962Z",
     "iopub.status.idle": "2020-09-20T02:35:54.381364Z",
     "shell.execute_reply": "2020-09-20T02:35:54.380863Z"
    },
    "papermill": {
     "duration": 0.134799,
     "end_time": "2020-09-20T02:35:54.381480",
     "exception": false,
     "start_time": "2020-09-20T02:35:54.246681",
     "status": "completed"
    },
    "tags": []
   },
   "outputs": [
    {
     "name": "stdout",
     "output_type": "stream",
     "text": [
      "Task 101:\n",
      "    name      city  count\n",
      "0  kevin   Toronto      7\n",
      "1  james  Montreal      8\n",
      "2  kumar   Calgary      9\n",
      "3  kevin  Montreal      2\n",
      "4  kevin  Montreal      7\n",
      "5  james    Ottawa      8\n",
      "    name      city  count\n",
      "2  kumar   Calgary      9\n",
      "4  kevin  Montreal      7\n",
      "5  james    Ottawa      8\n",
      "    name      city  count\n",
      "2  kumar   Calgary      9\n",
      "4  kevin  Montreal      7\n",
      "5  james    Ottawa      8\n"
     ]
    }
   ],
   "source": [
    "print('Task 101:')  \n",
    "users = pd.DataFrame({\n",
    "    \"name\": ['kevin', 'james', 'kumar', 'kevin', 'kevin', 'james'], \n",
    "    \"city\": ['Toronto', 'Montreal', 'Calgary', 'Montreal', 'Montreal', 'Ottawa'],\n",
    "    \"count\" : [7, 8, 9, 2, 7, 8] \n",
    "    \n",
    "}) \n",
    "print(users)\n",
    "users.drop_duplicates('name', inplace=True, keep='last')\n",
    "print(users)\n",
    "users1 = users.drop_duplicates('name', keep=False)\n",
    "print(users1)"
   ]
  },
  {
   "cell_type": "markdown",
   "metadata": {
    "papermill": {
     "duration": 0.117492,
     "end_time": "2020-09-20T02:35:54.615586",
     "exception": false,
     "start_time": "2020-09-20T02:35:54.498094",
     "status": "completed"
    },
    "tags": []
   },
   "source": [
    "<div style=\"\">\n",
    "    <div style=\"float: left; width: 80%;\">\n",
    "        <a id=\"102\"></a>\n",
    "        <font><b>Task 102:</b></font>\n",
    "        <br><br>\n",
    "        Basic group by\n",
    "    </div>\n",
    "    <div style=\"float: right;\">\n",
    "        <a href=\"#top\" class=\"btn btn-primary btn-sm\" role=\"button\" aria-pressed=\"true\" style=\"color:white\" data-toggle=\"popover\" title=\"go to Top\">Go to Top</a>\n",
    "    </div>\n",
    "    <br style=\"clear: left;\" />\n",
    "</div> "
   ]
  },
  {
   "cell_type": "code",
   "execution_count": 105,
   "metadata": {
    "execution": {
     "iopub.execute_input": "2020-09-20T02:35:54.861547Z",
     "iopub.status.busy": "2020-09-20T02:35:54.860986Z",
     "iopub.status.idle": "2020-09-20T02:35:54.866029Z",
     "shell.execute_reply": "2020-09-20T02:35:54.865251Z"
    },
    "papermill": {
     "duration": 0.1322,
     "end_time": "2020-09-20T02:35:54.866164",
     "exception": false,
     "start_time": "2020-09-20T02:35:54.733964",
     "status": "completed"
    },
    "tags": []
   },
   "outputs": [
    {
     "name": "stdout",
     "output_type": "stream",
     "text": [
      "Task 102:\n",
      "animal\n",
      "cat     L\n",
      "dog     M\n",
      "fish    M\n",
      "dtype: object\n"
     ]
    }
   ],
   "source": [
    "print('Task 102:')\n",
    "animals_df1 = animals_df.groupby('animal').apply(lambda x: x['size'][x['weight'].idxmax()])\n",
    "print(animals_df1)"
   ]
  },
  {
   "cell_type": "markdown",
   "metadata": {
    "papermill": {
     "duration": 0.115712,
     "end_time": "2020-09-20T02:35:55.100750",
     "exception": false,
     "start_time": "2020-09-20T02:35:54.985038",
     "status": "completed"
    },
    "tags": []
   },
   "source": [
    "<div style=\"\">\n",
    "    <div style=\"float: left; width: 80%;\">\n",
    "        <a id=\"102\"></a>\n",
    "        <font><b>Task 103:</b></font>\n",
    "        <br><br>\n",
    "        Missing Data:\n",
    "        Make A'th 3rd coulmn Nan\n",
    "    </div>\n",
    "    <div style=\"float: right;\">\n",
    "        <a href=\"#top\" class=\"btn btn-primary btn-sm\" role=\"button\" aria-pressed=\"true\" style=\"color:white\" data-toggle=\"popover\" title=\"go to Top\">Go to Top</a>\n",
    "    </div>\n",
    "    <br style=\"clear: left;\" />\n",
    "</div> "
   ]
  },
  {
   "cell_type": "code",
   "execution_count": 106,
   "metadata": {
    "execution": {
     "iopub.execute_input": "2020-09-20T02:35:55.344323Z",
     "iopub.status.busy": "2020-09-20T02:35:55.343448Z",
     "iopub.status.idle": "2020-09-20T02:35:55.349443Z",
     "shell.execute_reply": "2020-09-20T02:35:55.348998Z"
    },
    "papermill": {
     "duration": 0.133634,
     "end_time": "2020-09-20T02:35:55.349544",
     "exception": false,
     "start_time": "2020-09-20T02:35:55.215910",
     "status": "completed"
    },
    "tags": []
   },
   "outputs": [
    {
     "name": "stdout",
     "output_type": "stream",
     "text": [
      "Task 103:\n",
      "                   A\n",
      "2013-08-01 -2.115376\n",
      "2013-08-02  0.819428\n",
      "2013-08-05  1.370269\n",
      "2013-08-06 -2.622675\n",
      "2013-08-07  1.226918\n",
      "2013-08-08  1.200208\n",
      "                   A\n",
      "2013-08-01 -2.115376\n",
      "2013-08-02  0.819428\n",
      "2013-08-05  1.370269\n",
      "2013-08-06       NaN\n",
      "2013-08-07  1.226918\n",
      "2013-08-08  1.200208\n"
     ]
    }
   ],
   "source": [
    "print('Task 103:')  \n",
    "df = pd.DataFrame(np.random.randn(6,1), index=pd.date_range('2013-08-01', periods=6, freq='B'), columns=list('A'))\n",
    "print(df)\n",
    "df.loc[df.index[3], 'A'] = np.nan\n",
    "print(df)"
   ]
  },
  {
   "cell_type": "markdown",
   "metadata": {
    "papermill": {
     "duration": 0.116208,
     "end_time": "2020-09-20T02:35:55.583140",
     "exception": false,
     "start_time": "2020-09-20T02:35:55.466932",
     "status": "completed"
    },
    "tags": []
   },
   "source": [
    "<div style=\"\">\n",
    "    <div style=\"float: left; width: 80%;\">\n",
    "        <a id=\"104\"></a>\n",
    "        <font><b>Task 104:</b></font>\n",
    "        <br><br>\n",
    "        reindex\n",
    "    </div>\n",
    "    <div style=\"float: right;\">\n",
    "        <a href=\"#top\" class=\"btn btn-primary btn-sm\" role=\"button\" aria-pressed=\"true\" style=\"color:white\" data-toggle=\"popover\" title=\"go to Top\">Go to Top</a>\n",
    "    </div>\n",
    "    <br style=\"clear: left;\" />\n",
    "</div> "
   ]
  },
  {
   "cell_type": "code",
   "execution_count": 107,
   "metadata": {
    "execution": {
     "iopub.execute_input": "2020-09-20T02:35:55.828335Z",
     "iopub.status.busy": "2020-09-20T02:35:55.827727Z",
     "iopub.status.idle": "2020-09-20T02:35:55.832125Z",
     "shell.execute_reply": "2020-09-20T02:35:55.832572Z"
    },
    "papermill": {
     "duration": 0.129437,
     "end_time": "2020-09-20T02:35:55.832707",
     "exception": false,
     "start_time": "2020-09-20T02:35:55.703270",
     "status": "completed"
    },
    "tags": []
   },
   "outputs": [
    {
     "name": "stdout",
     "output_type": "stream",
     "text": [
      "Task 104:\n",
      "                   A\n",
      "2013-08-08  1.200208\n",
      "2013-08-07  1.226918\n",
      "2013-08-06  1.226918\n",
      "2013-08-05  1.370269\n",
      "2013-08-02  0.819428\n",
      "2013-08-01 -2.115376\n"
     ]
    }
   ],
   "source": [
    "print('Task 104:')\n",
    "df1 = df.reindex(df.index[::-1]).ffill()\n",
    "print(df1)"
   ]
  },
  {
   "cell_type": "markdown",
   "metadata": {
    "papermill": {
     "duration": 0.113104,
     "end_time": "2020-09-20T02:35:56.060676",
     "exception": false,
     "start_time": "2020-09-20T02:35:55.947572",
     "status": "completed"
    },
    "tags": []
   },
   "source": [
    "<div style=\"\">\n",
    "    <div style=\"float: left; width: 80%;\">\n",
    "        <a id=\"105\"></a>\n",
    "        <font><b>Task 105:</b></font>\n",
    "        <br><br>\n",
    "        Column reset Nan\n",
    "    </div>\n",
    "    <div style=\"float: right;\">\n",
    "        <a href=\"#top\" class=\"btn btn-primary btn-sm\" role=\"button\" aria-pressed=\"true\" style=\"color:white\" data-toggle=\"popover\" title=\"go to Top\">Go to Top</a>\n",
    "    </div>\n",
    "    <br style=\"clear: left;\" />\n",
    "</div>"
   ]
  },
  {
   "cell_type": "code",
   "execution_count": 108,
   "metadata": {
    "execution": {
     "iopub.execute_input": "2020-09-20T02:35:56.297569Z",
     "iopub.status.busy": "2020-09-20T02:35:56.296751Z",
     "iopub.status.idle": "2020-09-20T02:35:56.300675Z",
     "shell.execute_reply": "2020-09-20T02:35:56.301132Z"
    },
    "papermill": {
     "duration": 0.127765,
     "end_time": "2020-09-20T02:35:56.301304",
     "exception": false,
     "start_time": "2020-09-20T02:35:56.173539",
     "status": "completed"
    },
    "tags": []
   },
   "outputs": [
    {
     "name": "stdout",
     "output_type": "stream",
     "text": [
      "Task 105:\n",
      "  animal size  weight  adult\n",
      "0    cat    S       8  False\n",
      "1    dog    S      10  False\n",
      "2    cat    M      11  False\n",
      "3   fish    M       1  False\n",
      "4    dog    M      20  False\n",
      "5    cat    L      12   True\n",
      "6    cat    L      12   True\n"
     ]
    }
   ],
   "source": [
    "print('Task 105:')\n",
    "animals_df = pd.DataFrame({'animal': 'cat dog cat fish dog cat cat'.split(),\n",
    "                   'size': list('SSMMMLL'),\n",
    "                   'weight': [8, 10, 11, 1, 20, 12, 12],\n",
    "                   'adult' : [False] * 5 + [True] * 2})\n",
    "print(animals_df)"
   ]
  },
  {
   "cell_type": "markdown",
   "metadata": {
    "papermill": {
     "duration": 0.113961,
     "end_time": "2020-09-20T02:35:56.531431",
     "exception": false,
     "start_time": "2020-09-20T02:35:56.417470",
     "status": "completed"
    },
    "tags": []
   },
   "source": [
    "### Extras"
   ]
  },
  {
   "cell_type": "code",
   "execution_count": 109,
   "metadata": {
    "execution": {
     "iopub.execute_input": "2020-09-20T02:35:56.770579Z",
     "iopub.status.busy": "2020-09-20T02:35:56.768179Z",
     "iopub.status.idle": "2020-09-20T02:35:56.776660Z",
     "shell.execute_reply": "2020-09-20T02:35:56.777132Z"
    },
    "papermill": {
     "duration": 0.132347,
     "end_time": "2020-09-20T02:35:56.777318",
     "exception": false,
     "start_time": "2020-09-20T02:35:56.644971",
     "status": "completed"
    },
    "tags": []
   },
   "outputs": [
    {
     "name": "stdout",
     "output_type": "stream",
     "text": [
      "Before changing columns : \n",
      "    name      city\n",
      "0  kevin   Toronto\n",
      "1  james  Montreal\n",
      "2  kumar   Calgary\n",
      "3  kevin  Montreal\n",
      "4  kevin  Montreal\n",
      "5  james    Ottawa\n",
      "\n",
      "After changing columns : \n",
      "  first_name current_city\n",
      "0      kevin      Toronto\n",
      "1      james     Montreal\n",
      "2      kumar      Calgary\n",
      "3      kevin     Montreal\n",
      "4      kevin     Montreal\n",
      "5      james       Ottawa\n"
     ]
    }
   ],
   "source": [
    "# Change columns\n",
    "users = pd.DataFrame({\n",
    "    \"name\": ['kevin', 'james', 'kumar', 'kevin', 'kevin', 'james'], \n",
    "    \"city\": ['Toronto', 'Montreal', 'Calgary', 'Montreal', 'Montreal', 'Ottawa']\n",
    "}) \n",
    "\n",
    "print('Before changing columns : ')\n",
    "print(users)\n",
    "\n",
    "# change columns\n",
    "users_new = users.rename({'name': 'first_name', 'city': 'current_city'}, axis = 1)\n",
    "\n",
    "print('\\nAfter changing columns : ')\n",
    "print(users_new)"
   ]
  },
  {
   "cell_type": "code",
   "execution_count": 110,
   "metadata": {
    "execution": {
     "iopub.execute_input": "2020-09-20T02:35:57.017892Z",
     "iopub.status.busy": "2020-09-20T02:35:57.017360Z",
     "iopub.status.idle": "2020-09-20T02:35:57.020853Z",
     "shell.execute_reply": "2020-09-20T02:35:57.020347Z"
    },
    "papermill": {
     "duration": 0.128168,
     "end_time": "2020-09-20T02:35:57.020943",
     "exception": false,
     "start_time": "2020-09-20T02:35:56.892775",
     "status": "completed"
    },
    "tags": []
   },
   "outputs": [
    {
     "name": "stdout",
     "output_type": "stream",
     "text": [
      "Original Dataframe:\n",
      "    name      city\n",
      "0  kevin   Toronto\n",
      "1  james  Montreal\n",
      "2  kumar   Calgary\n",
      "3  kevin  Montreal\n",
      "4  kevin  Montreal\n",
      "5  james    Ottawa\n",
      "\n",
      "Finding `Montreal` in any cell :\n",
      "    name      city\n",
      "1  james  Montreal\n",
      "3  kevin  Montreal\n",
      "4  kevin  Montreal\n"
     ]
    }
   ],
   "source": [
    "# Find any matching value\n",
    "\n",
    "users = pd.DataFrame({\n",
    "    \"name\": ['kevin', 'james', 'kumar', 'kevin', 'kevin', 'james'], \n",
    "    \"city\": ['Toronto', 'Montreal', 'Calgary', 'Montreal', 'Montreal', 'Ottawa']\n",
    "}) \n",
    "\n",
    "print('Original Dataframe:')\n",
    "print(users)\n",
    "\n",
    "print('\\nFinding `Montreal` in any cell :')\n",
    "print(users[users.eq('Montreal').any(1)])"
   ]
  },
  {
   "cell_type": "code",
   "execution_count": 111,
   "metadata": {
    "execution": {
     "iopub.execute_input": "2020-09-20T02:35:57.312509Z",
     "iopub.status.busy": "2020-09-20T02:35:57.311586Z",
     "iopub.status.idle": "2020-09-20T02:35:57.316572Z",
     "shell.execute_reply": "2020-09-20T02:35:57.316112Z"
    },
    "papermill": {
     "duration": 0.181782,
     "end_time": "2020-09-20T02:35:57.316671",
     "exception": false,
     "start_time": "2020-09-20T02:35:57.134889",
     "status": "completed"
    },
    "tags": []
   },
   "outputs": [
    {
     "name": "stdout",
     "output_type": "stream",
     "text": [
      "Original Dataframe:\n",
      "    name      city\n",
      "0  kevin   Toronto\n",
      "1  james  Montreal\n",
      "2  kumar   Calgary\n",
      "3  kevin  Montreal\n",
      "4  kevin  Montreal\n",
      "5  james    Ottawa\n",
      "\n",
      "Finding `Montreal` in by using isin function :\n"
     ]
    },
    {
     "data": {
      "text/plain": [
       "name    False\n",
       "city     True\n",
       "dtype: bool"
      ]
     },
     "execution_count": 111,
     "metadata": {},
     "output_type": "execute_result"
    }
   ],
   "source": [
    "# Match with isin function\n",
    "users = pd.DataFrame({\n",
    "    \"name\": ['kevin', 'james', 'kumar', 'kevin', 'kevin', 'james'], \n",
    "    \"city\": ['Toronto', 'Montreal', 'Calgary', 'Montreal', 'Montreal', 'Ottawa']\n",
    "}) \n",
    "\n",
    "print('Original Dataframe:')\n",
    "print(users)\n",
    "\n",
    "print('\\nFinding `Montreal` in by using isin function :')\n",
    "\n",
    "users.isin(['Montreal']).any()"
   ]
  },
  {
   "cell_type": "code",
   "execution_count": 112,
   "metadata": {
    "execution": {
     "iopub.execute_input": "2020-09-20T02:35:57.556324Z",
     "iopub.status.busy": "2020-09-20T02:35:57.555751Z",
     "iopub.status.idle": "2020-09-20T02:35:57.559483Z",
     "shell.execute_reply": "2020-09-20T02:35:57.558612Z"
    },
    "papermill": {
     "duration": 0.128543,
     "end_time": "2020-09-20T02:35:57.559638",
     "exception": false,
     "start_time": "2020-09-20T02:35:57.431095",
     "status": "completed"
    },
    "tags": []
   },
   "outputs": [
    {
     "name": "stdout",
     "output_type": "stream",
     "text": [
      "Original Dataframe: \n",
      "    name      city\n",
      "0  kevin   Toronto\n",
      "1  james  Montreal\n",
      "2  kumar   Calgary\n",
      "3  kevin  Montreal\n",
      "4  kevin  Montreal\n",
      "5  james    Ottawa\n",
      "\n",
      "Finding `Montreal` in using isin and stack them: \n",
      "1  city    Montreal\n",
      "3  city    Montreal\n",
      "4  city    Montreal\n",
      "dtype: object\n"
     ]
    }
   ],
   "source": [
    "# Finding specific items by using `isin` function\n",
    "\n",
    "users = pd.DataFrame({\n",
    "    \"name\": ['kevin', 'james', 'kumar', 'kevin', 'kevin', 'james'], \n",
    "    \"city\": ['Toronto', 'Montreal', 'Calgary', 'Montreal', 'Montreal', 'Ottawa']\n",
    "}) \n",
    "\n",
    "print('Original Dataframe: ')\n",
    "print(users)\n",
    "\n",
    "print('\\nFinding `Montreal` in using isin and stack them: ')\n",
    "print(users[users.isin(['Montreal'])].stack())"
   ]
  },
  {
   "cell_type": "code",
   "execution_count": 113,
   "metadata": {
    "execution": {
     "iopub.execute_input": "2020-09-20T02:35:57.802676Z",
     "iopub.status.busy": "2020-09-20T02:35:57.801658Z",
     "iopub.status.idle": "2020-09-20T02:35:57.804936Z",
     "shell.execute_reply": "2020-09-20T02:35:57.805411Z"
    },
    "papermill": {
     "duration": 0.131131,
     "end_time": "2020-09-20T02:35:57.805554",
     "exception": false,
     "start_time": "2020-09-20T02:35:57.674423",
     "status": "completed"
    },
    "tags": []
   },
   "outputs": [
    {
     "name": "stdout",
     "output_type": "stream",
     "text": [
      "Original Dataframe: \n",
      "    name      city\n",
      "0  kevin   Toronto\n",
      "1  james  Montreal\n",
      "2  kumar   Calgary\n",
      "3  kevin  Montreal\n",
      "4  kevin  Montreal\n",
      "5  james    Ottawa\n",
      "\n",
      "Excluding `Montreal` in using isin and stack them: \n",
      "0  name      kevin\n",
      "   city    Toronto\n",
      "1  name      james\n",
      "2  name      kumar\n",
      "   city    Calgary\n",
      "3  name      kevin\n",
      "4  name      kevin\n",
      "5  name      james\n",
      "   city     Ottawa\n",
      "dtype: object\n"
     ]
    }
   ],
   "source": [
    "# Exclude specific matching\n",
    "\n",
    "users = pd.DataFrame({\n",
    "    \"name\": ['kevin', 'james', 'kumar', 'kevin', 'kevin', 'james'], \n",
    "    \"city\": ['Toronto', 'Montreal', 'Calgary', 'Montreal', 'Montreal', 'Ottawa']\n",
    "}) \n",
    "\n",
    "print('Original Dataframe: ')\n",
    "print(users)\n",
    "\n",
    "print('\\nExcluding `Montreal` in using isin and stack them: ')\n",
    "print(users[~users.isin(['Montreal'])].stack())"
   ]
  },
  {
   "cell_type": "markdown",
   "metadata": {
    "papermill": {
     "duration": 0.123149,
     "end_time": "2020-09-20T02:35:58.045191",
     "exception": false,
     "start_time": "2020-09-20T02:35:57.922042",
     "status": "completed"
    },
    "tags": []
   },
   "source": [
    "To do:\n",
    "\n",
    "* Clean up some buggy exercises\n",
    "* Remove duplicate exercises\n",
    "* Add more documentation"
   ]
  },
  {
   "cell_type": "markdown",
   "metadata": {
    "papermill": {
     "duration": 0.117487,
     "end_time": "2020-09-20T02:35:58.281819",
     "exception": false,
     "start_time": "2020-09-20T02:35:58.164332",
     "status": "completed"
    },
    "tags": []
   },
   "source": [
    "**Final Notes:**\n",
    "\n",
    "I am adding things still. You can come back and check for more information.\n",
    "\n",
    "Also, if you **like my notebook**, <font style=\"color:blue;size:14px;\">please upvote it</font> as it will motivate me to come up with better approach in the upcoming notebooks."
   ]
  },
  {
   "cell_type": "markdown",
   "metadata": {
    "papermill": {
     "duration": 0.118028,
     "end_time": "2020-09-20T02:35:58.517977",
     "exception": false,
     "start_time": "2020-09-20T02:35:58.399949",
     "status": "completed"
    },
    "tags": []
   },
   "source": [
    "<font color=\"blue\" size=+1.5><b>Check out my other kernels</b></font>\n",
    "\n",
    "<table style=\"font-family: 'Trebuchet MS', Arial, Helvetica, sans-serif;border-collapse: collapse;width: 100%;\">\t\n",
    "  <tr>\n",
    "    <th style=\"border: 1px solid #ddd;padding: 8px; padding-top: 12px;padding-bottom: 12px;text-align: left;background-color: #2987E7;color: white;\">Notebook</th>\n",
    "    <th style=\"border: 1px solid #ddd;padding: 8px; padding-top: 12px;padding-bottom: 12px;text-align: left;background-color: #2987E7;color: white;\">Tags</th>\n",
    "  </tr>\n",
    "  <tr>\n",
    "    <td style=\"text-align: left\"><a href=\"https://www.kaggle.com/rajacsp/reviews-with-nlp-wip\">Amazon Alexa Reviews with NLP</a> </td>\n",
    "    <td style=\"text-align: left\">NLP, Spacy</td>\n",
    "  </tr>\n",
    "  <tr>\n",
    "    <td style=\"text-align: left\"><a href=\"https://www.kaggle.com/rajacsp/sof-questions-eda-and-visual\">SOF Questions - EDA and Visual</a> </td>\n",
    "    <td style=\"text-align: left\">Data Visual, Plotly</td>\n",
    "  </tr>\n",
    "  <tr>\n",
    "    <td style=\"background-color: #f2f2f2;text-align: left\"><a href=\"https://www.kaggle.com/rajacsp/netflix-visualization-plotly-plots-treemap\">Netflix - Visualization, Plotly, Plots, and Treemap</a> </td>\n",
    "    <td style=\"background-color: #f2f2f2;text-align: left\">Data Visual, Data Cleaning, Plotly</td>\n",
    "  </tr>\n",
    "  <tr>\n",
    "    <td style=\"text-align: left\"><a href=\"https://www.kaggle.com/rajacsp/prediction-with-various-algorithms\">Prediction with various Algorithms</a> </td>\n",
    "    <td style=\"text-align: left\">Random Forest, Logistic Regression</td>\n",
    "  </tr>\n",
    "  <tr>\n",
    "    <td style=\"background-color: #f2f2f2;text-align: left\"><a href=\"https://www.kaggle.com/rajacsp/eda-and-visualization\">EDA and Visualization</a> </td>\n",
    "    <td style=\"background-color: #f2f2f2;text-align: left\">Data Cleaning, Data Visual</td>\n",
    "  </tr>\n",
    "  <tr>\n",
    "    <td style=\"text-align: left\"><a href=\"https://www.kaggle.com/rajacsp/job-analysis-eda-visual\">Job Analysis - EDA and Visual</a> </td>\n",
    "    <td style=\"text-align: left\">Data Visual, EDA, Plotly</td>\n",
    "  </tr>   \n",
    "  <tr>\n",
    "    <td style=\"background-color: #f2f2f2;text-align: left\"><a href=\"https://www.kaggle.com/rajacsp/estonia-disaster-visualization\">Estonia Disaster - Visualization</a> </td>\n",
    "    <td style=\"background-color: #f2f2f2;text-align: left\">Data Visual, EDA, Data Cleaning</td>\n",
    "  </tr>\n",
    "    \n",
    "  <tr>\n",
    "    <td style=\"text-align: left\"><a href=\"https://www.kaggle.com/rajacsp/pandas-dundas-challenge-100\" >Pandas 100+ exercises collection</a></td>\n",
    "    <td style=\"text-align: left\">Pandas, Data Manipulation</td>\n",
    "  </tr>   \n",
    "  <tr>\n",
    "    <td style=\"background-color: #f2f2f2;text-align: left\"><a href=\"https://www.kaggle.com/rajacsp/prediction-with-various-algorithms\">Credit Card Fraud - Prediction with various algorithms</a></td>\n",
    "    <td style=\"background-color: #f2f2f2;text-align: left\">Various ML Algorithms</td>\n",
    "  </tr>  \n",
    "  <tr>\n",
    "    <td style=\"text-align: left\"><a href=\"https://www.kaggle.com/rajacsp/linear-equations-real-time\">Linear Equations - Real Time</a> </td>\n",
    "    <td style=\"text-align: left\">Linear Equation</td>\n",
    "  </tr>  \n",
    "</table>\n",
    "\n"
   ]
  },
  {
   "cell_type": "code",
   "execution_count": null,
   "metadata": {
    "papermill": {
     "duration": 0.118104,
     "end_time": "2020-09-20T02:35:58.753789",
     "exception": false,
     "start_time": "2020-09-20T02:35:58.635685",
     "status": "completed"
    },
    "tags": []
   },
   "outputs": [],
   "source": []
  }
 ],
 "metadata": {
  "kernelspec": {
   "display_name": "Python 3",
   "language": "python",
   "name": "python3"
  },
  "language_info": {
   "codemirror_mode": {
    "name": "ipython",
    "version": 3
   },
   "file_extension": ".py",
   "mimetype": "text/x-python",
   "name": "python",
   "nbconvert_exporter": "python",
   "pygments_lexer": "ipython3",
   "version": "3.7.6"
  },
  "papermill": {
   "duration": 50.45649,
   "end_time": "2020-09-20T02:35:58.980145",
   "environment_variables": {},
   "exception": null,
   "input_path": "__notebook__.ipynb",
   "output_path": "__notebook__.ipynb",
   "parameters": {},
   "start_time": "2020-09-20T02:35:08.523655",
   "version": "2.1.0"
  }
 },
 "nbformat": 4,
 "nbformat_minor": 4
}
